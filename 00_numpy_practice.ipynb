{
 "cells": [
  {
   "cell_type": "code",
   "execution_count": 4,
   "metadata": {},
   "outputs": [
    {
     "data": {
      "text/plain": [
       "array([1, 2, 3])"
      ]
     },
     "execution_count": 4,
     "metadata": {},
     "output_type": "execute_result"
    }
   ],
   "source": [
    "# https://qiita.com/jyori112/items/a15658d1dd17c421e1e2\n",
    "\n",
    "import numpy as np\n",
    "import datetime\n",
    "\n",
    "#　一次元配列\n",
    "arr = np.asarray([1,2,3])\n",
    "arr\n",
    "\n"
   ]
  },
  {
   "cell_type": "code",
   "execution_count": 3,
   "metadata": {},
   "outputs": [
    {
     "data": {
      "text/plain": [
       "array([ 1.,  2.,  3.], dtype=float32)"
      ]
     },
     "execution_count": 3,
     "metadata": {},
     "output_type": "execute_result"
    }
   ],
   "source": [
    "# タイプ指定\n",
    "arr = np.asarray([1,2,3], dtype=np.float32)\n",
    "arr\n"
   ]
  },
  {
   "cell_type": "code",
   "execution_count": 6,
   "metadata": {},
   "outputs": [
    {
     "data": {
      "text/plain": [
       "(array([ 1.,  2.,  3.], dtype=float32), array([1, 2, 3], dtype=int32))"
      ]
     },
     "execution_count": 6,
     "metadata": {},
     "output_type": "execute_result"
    }
   ],
   "source": [
    "# 型変更\n",
    "i_arr = np.asarray([1,2,3], dtype=np.int32)\n",
    "f_arr = i_arr.astype(np.float32)\n",
    "f_arr,i_arr\n"
   ]
  },
  {
   "cell_type": "code",
   "execution_count": 7,
   "metadata": {},
   "outputs": [
    {
     "data": {
      "text/plain": [
       "array([[1, 2, 3],\n",
       "       [4, 5, 6]])"
      ]
     },
     "execution_count": 7,
     "metadata": {},
     "output_type": "execute_result"
    }
   ],
   "source": [
    "\n",
    "# 多次元配列\n",
    "arr = np.asarray([ [1,2,3], [4,5,6] ])\n",
    "arr\n"
   ]
  },
  {
   "cell_type": "code",
   "execution_count": 8,
   "metadata": {},
   "outputs": [
    {
     "data": {
      "text/plain": [
       "[1, 2, 3]"
      ]
     },
     "execution_count": 8,
     "metadata": {},
     "output_type": "execute_result"
    }
   ],
   "source": [
    "# python\n",
    "[1,2,3]"
   ]
  },
  {
   "cell_type": "code",
   "execution_count": 9,
   "metadata": {},
   "outputs": [
    {
     "data": {
      "text/plain": [
       "[[1, 2, 3], [4, 5, 6]]"
      ]
     },
     "execution_count": 9,
     "metadata": {},
     "output_type": "execute_result"
    }
   ],
   "source": [
    "# python\n",
    "[[1,2,3],[4,5,6]]"
   ]
  },
  {
   "cell_type": "code",
   "execution_count": 10,
   "metadata": {},
   "outputs": [
    {
     "data": {
      "text/plain": [
       "(2, 3)"
      ]
     },
     "execution_count": 10,
     "metadata": {},
     "output_type": "execute_result"
    }
   ],
   "source": [
    "# 多次元配列\n",
    "arr = np.asarray([ [1,2,3], [4,5,6] ])\n",
    "arr.shape"
   ]
  },
  {
   "cell_type": "code",
   "execution_count": 11,
   "metadata": {},
   "outputs": [
    {
     "data": {
      "text/plain": [
       "array([[ 0.,  0.,  0.],\n",
       "       [ 0.,  0.,  0.]])"
      ]
     },
     "execution_count": 11,
     "metadata": {},
     "output_type": "execute_result"
    }
   ],
   "source": [
    "# 要素が全部0の配列\n",
    "np.zeros((2, 3))\n"
   ]
  },
  {
   "cell_type": "code",
   "execution_count": 12,
   "metadata": {},
   "outputs": [
    {
     "data": {
      "text/plain": [
       "array([[ 1.,  1.,  1.],\n",
       "       [ 1.,  1.,  1.]])"
      ]
     },
     "execution_count": 12,
     "metadata": {},
     "output_type": "execute_result"
    }
   ],
   "source": [
    "# 要素がすべて1の配列\n",
    "np.ones((2, 3))\n",
    "       "
   ]
  },
  {
   "cell_type": "code",
   "execution_count": 13,
   "metadata": {},
   "outputs": [
    {
     "data": {
      "text/plain": [
       "array([[ 0.206541  ,  0.49375447,  0.46993588],\n",
       "       [ 0.88549407,  0.18344068,  0.33092919]])"
      ]
     },
     "execution_count": 13,
     "metadata": {},
     "output_type": "execute_result"
    }
   ],
   "source": [
    "# 要素を[0-1)の範囲でランダムに初期化する\n",
    "np.random.rand(2, 3)\n"
   ]
  },
  {
   "cell_type": "code",
   "execution_count": 14,
   "metadata": {},
   "outputs": [
    {
     "data": {
      "text/plain": [
       "array([[ 2.14474868, -0.0232562 , -0.71866837],\n",
       "       [ 1.46372737, -0.15004684, -1.0564337 ]])"
      ]
     },
     "execution_count": 14,
     "metadata": {},
     "output_type": "execute_result"
    }
   ],
   "source": [
    "# 要素を正規分布にのっとって生成する(2x3)\n",
    "np.random.randn(2, 3)\n"
   ]
  },
  {
   "cell_type": "code",
   "execution_count": 15,
   "metadata": {},
   "outputs": [
    {
     "data": {
      "text/plain": [
       "array([[ 3,  6,  9],\n",
       "       [12, 15, 18]])"
      ]
     },
     "execution_count": 15,
     "metadata": {},
     "output_type": "execute_result"
    }
   ],
   "source": [
    "# 配列を３倍する\n",
    "a = np.asarray([[1,2,3],[4,5,6]])\n",
    "3 * a\n"
   ]
  },
  {
   "cell_type": "code",
   "execution_count": 16,
   "metadata": {},
   "outputs": [
    {
     "data": {
      "text/plain": [
       "array([[ 3,  5,  7],\n",
       "       [ 9, 11, 13]])"
      ]
     },
     "execution_count": 16,
     "metadata": {},
     "output_type": "execute_result"
    }
   ],
   "source": [
    "# 配列同士の足し算\n",
    "a = np.asarray([[1,2,3],[4,5,6]])\n",
    "b = np.asarray([[2,3,4],[5,6,7]])\n",
    "a + b\n"
   ]
  },
  {
   "cell_type": "code",
   "execution_count": 17,
   "metadata": {},
   "outputs": [
    {
     "data": {
      "text/plain": [
       "array([[ 2,  6, 12],\n",
       "       [20, 30, 42]])"
      ]
     },
     "execution_count": 17,
     "metadata": {},
     "output_type": "execute_result"
    }
   ],
   "source": [
    "# 配列同士の掛け算\n",
    "a = np.asarray([[1,2,3],[4,5,6]])\n",
    "b = np.asarray([[2,3,4],[5,6,7]])\n",
    "a * b\n"
   ]
  },
  {
   "cell_type": "code",
   "execution_count": 18,
   "metadata": {},
   "outputs": [
    {
     "data": {
      "text/plain": [
       "array([[ 2,  2,  9],\n",
       "       [ 8,  5, 18]])"
      ]
     },
     "execution_count": 18,
     "metadata": {},
     "output_type": "execute_result"
    }
   ],
   "source": [
    "# ２次元と１次元の掛け算\n",
    "a = np.asarray([[1,2,3],[4,5,6]])\n",
    "v = np.asarray([2,1,3])\n",
    "a * v\n"
   ]
  },
  {
   "cell_type": "code",
   "execution_count": 19,
   "metadata": {},
   "outputs": [
    {
     "data": {
      "text/plain": [
       "array([[22, 28],\n",
       "       [31, 40]])"
      ]
     },
     "execution_count": 19,
     "metadata": {},
     "output_type": "execute_result"
    }
   ],
   "source": [
    "# 二次元配列を一つの行列として演算を行うことも可能です。\n",
    "\n",
    "M = np.asarray([[1,2,3], [2,3,4]])   # 2 x 3\n",
    "N = np.asarray([[1,2],[3,4], [5,6]])  # 3 x 2\n",
    "\n",
    "# この二つの配列の行列としての積を求めるには\n",
    "M.dot(N)\n",
    "\n",
    "# 2 x 2が返る"
   ]
  },
  {
   "cell_type": "code",
   "execution_count": 21,
   "metadata": {},
   "outputs": [
    {
     "data": {
      "text/plain": [
       "array([[ 0.        ,  0.69314718],\n",
       "       [ 1.09861229,  0.        ]])"
      ]
     },
     "execution_count": 21,
     "metadata": {},
     "output_type": "execute_result"
    }
   ],
   "source": [
    "# numpyでは配列を様々な関数にいれることができます。この時、関数はそれぞれの要素に対して作用します。\n",
    "\n",
    "a = np.asarray([[1,2], [3,1]])\n",
    "np.log(a)\n"
   ]
  },
  {
   "cell_type": "code",
   "execution_count": 23,
   "metadata": {},
   "outputs": [
    {
     "data": {
      "text/plain": [
       "0.5589438599926404"
      ]
     },
     "execution_count": 23,
     "metadata": {},
     "output_type": "execute_result"
    }
   ],
   "source": [
    "# numpyは配列の統計を取るのも得意です。まず100この乱数を生成します。\n",
    "\n",
    "arr = np.random.rand(100)\n",
    "\n",
    "# 配列の平均を取る\n",
    "np.mean(arr)\n"
   ]
  },
  {
   "cell_type": "code",
   "execution_count": 25,
   "metadata": {},
   "outputs": [
    {
     "data": {
      "text/plain": [
       "(0.9960385688052944, 0.0035391742963464257)"
      ]
     },
     "execution_count": 25,
     "metadata": {},
     "output_type": "execute_result"
    }
   ],
   "source": [
    "# 最大値、最小値\n",
    "\n",
    "arr = np.random.rand(100)\n",
    "np.max(arr) , np.min(arr)\n",
    "\n"
   ]
  },
  {
   "cell_type": "code",
   "execution_count": 26,
   "metadata": {},
   "outputs": [
    {
     "data": {
      "text/plain": [
       "0.29663523881658149"
      ]
     },
     "execution_count": 26,
     "metadata": {},
     "output_type": "execute_result"
    }
   ],
   "source": [
    "# 標準偏差\n",
    "\n",
    "arr = np.random.rand(100)\n",
    "np.std(arr)\n"
   ]
  },
  {
   "cell_type": "code",
   "execution_count": 27,
   "metadata": {},
   "outputs": [
    {
     "data": {
      "text/plain": [
       "51.453098760038905"
      ]
     },
     "execution_count": 27,
     "metadata": {},
     "output_type": "execute_result"
    }
   ],
   "source": [
    "# 和を得るには\n",
    "\n",
    "arr = np.random.rand(100)\n",
    "np.sum(arr)\n"
   ]
  },
  {
   "cell_type": "code",
   "execution_count": 29,
   "metadata": {},
   "outputs": [
    {
     "data": {
      "text/plain": [
       "(array([3, 5, 7]), array([6, 9]))"
      ]
     },
     "execution_count": 29,
     "metadata": {},
     "output_type": "execute_result"
    }
   ],
   "source": [
    "# 二次元配列に関してはどの向きに統計を取るのかを指定することもできます。たとえば\n",
    "\n",
    "arr = np.asarray([[1,2,3], [2,3,4]])\n",
    "np.sum(arr, axis=0),np.sum(arr, axis=1)\n"
   ]
  },
  {
   "cell_type": "code",
   "execution_count": 32,
   "metadata": {},
   "outputs": [
    {
     "data": {
      "text/plain": [
       "array([[-0.01960147,  0.40465673,  0.19720983],\n",
       "       [-1.9987349 , -0.20732259,  1.7200251 ],\n",
       "       [ 0.68825603, -0.0515729 ,  1.67184912],\n",
       "       [-0.07104807, -1.78522761,  0.64990881],\n",
       "       [ 0.25719052,  0.61360626, -2.71415508],\n",
       "       [-0.40354457,  1.02425604, -1.06193832],\n",
       "       [ 1.2357994 , -0.24845209,  0.74214942],\n",
       "       [ 0.91487894,  1.80467952,  1.35883392],\n",
       "       [ 1.69943712,  0.34933497,  1.02912074],\n",
       "       [ 0.30748971, -0.82743845,  0.14131404]])"
      ]
     },
     "execution_count": 32,
     "metadata": {},
     "output_type": "execute_result"
    }
   ],
   "source": [
    "#ここまでを含めて、三次元空間内にある100個のベクトルの原点からのユークリッド距離の平均を求めるコードをnumpyを使って計算してみます。\n",
    "#\n",
    "#まずdata配列が、形が(100, 3)の配列で一列目がxx座標、二列目がyy座標、三列目がzz座標だとします。\n",
    "\n",
    "data = np.random.randn(100, 3)\n",
    "data[0:10]\n"
   ]
  },
  {
   "cell_type": "code",
   "execution_count": 33,
   "metadata": {},
   "outputs": [
    {
     "data": {
      "text/plain": [
       "array([[  3.84217489e-04,   1.63747069e-01,   3.88917158e-02],\n",
       "       [  3.99494120e+00,   4.29826550e-02,   2.95848635e+00],\n",
       "       [  4.73696367e-01,   2.65976355e-03,   2.79507946e+00],\n",
       "       [  5.04782855e-03,   3.18703762e+00,   4.22381462e-01],\n",
       "       [  6.61469633e-02,   3.76512646e-01,   7.36663779e+00],\n",
       "       [  1.62848223e-01,   1.04910044e+00,   1.12771300e+00],\n",
       "       [  1.52720015e+00,   6.17284414e-02,   5.50785768e-01],\n",
       "       [  8.37003466e-01,   3.25686815e+00,   1.84642963e+00],\n",
       "       [  2.88808652e+00,   1.22034922e-01,   1.05908949e+00],\n",
       "       [  9.45499220e-02,   6.84654392e-01,   1.99696567e-02]])"
      ]
     },
     "execution_count": 33,
     "metadata": {},
     "output_type": "execute_result"
    }
   ],
   "source": [
    "# まずそれぞれの要素を自乗します。\n",
    "\n",
    "squared = data**2\n",
    "squared[0:10]"
   ]
  },
  {
   "cell_type": "code",
   "execution_count": 36,
   "metadata": {},
   "outputs": [
    {
     "data": {
      "text/plain": [
       "array([ 0.203023  ,  6.9964102 ,  3.27143559,  3.61446691,  7.8092974 ,\n",
       "        2.33966167,  2.13971436,  5.94030125,  4.06921094,  0.79917397])"
      ]
     },
     "execution_count": 36,
     "metadata": {},
     "output_type": "execute_result"
    }
   ],
   "source": [
    "# 次にそれぞれの行に対して和を取ります。\n",
    "squared_sum = np.sum(squared, axis=1)\n",
    "# このときsquared_sumは一次元配列になります。\n",
    "squared_sum[0:10]"
   ]
  },
  {
   "cell_type": "code",
   "execution_count": 37,
   "metadata": {},
   "outputs": [
    {
     "data": {
      "text/plain": [
       "array([ 0.45058074,  2.64507282,  1.80871103,  1.90117514,  2.79451201,\n",
       "        1.52959526,  1.46277625,  2.43727332,  2.01722853,  0.89396531])"
      ]
     },
     "execution_count": 37,
     "metadata": {},
     "output_type": "execute_result"
    }
   ],
   "source": [
    "# これに対して平方根を取ればそれぞれの点のユークリッド距離がわかります。\n",
    "\n",
    "dist = np.sqrt(squared_sum)\n",
    "\n",
    "dist[0:10]"
   ]
  },
  {
   "cell_type": "code",
   "execution_count": 38,
   "metadata": {},
   "outputs": [
    {
     "data": {
      "text/plain": [
       "1.6662361071010177"
      ]
     },
     "execution_count": 38,
     "metadata": {},
     "output_type": "execute_result"
    }
   ],
   "source": [
    "# この距離の平均を取れば\n",
    "\n",
    "np.mean(dist)\n"
   ]
  },
  {
   "cell_type": "code",
   "execution_count": null,
   "metadata": {
    "collapsed": true
   },
   "outputs": [],
   "source": []
  }
 ],
 "metadata": {
  "kernelspec": {
   "display_name": "Python 3",
   "language": "python",
   "name": "python3"
  },
  "language_info": {
   "codemirror_mode": {
    "name": "ipython",
    "version": 3
   },
   "file_extension": ".py",
   "mimetype": "text/x-python",
   "name": "python",
   "nbconvert_exporter": "python",
   "pygments_lexer": "ipython3",
   "version": "3.6.1"
  }
 },
 "nbformat": 4,
 "nbformat_minor": 2
}
