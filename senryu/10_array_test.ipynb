{
 "cells": [
  {
   "cell_type": "code",
   "execution_count": 44,
   "metadata": {
    "collapsed": true
   },
   "outputs": [],
   "source": [
    "import numpy as np\n",
    "import keras\n",
    "\n",
    "s = list('あいうえお')\n",
    "x = []\n",
    "for c in s:\n",
    "  x.append(np.int.from_bytes(c.encode('utf-8'),'big'))\n",
    "\n",
    "X = np.array(x)\n",
    "X.resize(30,refcheck=False)\n",
    "X = X.astype('float32')\n",
    "\n",
    "y=1\n",
    "Y = keras.utils.np_utils.to_categorical(y, 2)\n"
   ]
  },
  {
   "cell_type": "code",
   "execution_count": null,
   "metadata": {
    "collapsed": true
   },
   "outputs": [],
   "source": [
    "x"
   ]
  },
  {
   "cell_type": "code",
   "execution_count": 46,
   "metadata": {},
   "outputs": [
    {
     "data": {
      "text/plain": [
       "array([ 14909826.,  14909828.,  14909830.,  14909832.,  14909834.,\n",
       "               0.,         0.,         0.,         0.,         0.,\n",
       "               0.,         0.,         0.,         0.,         0.,\n",
       "               0.,         0.,         0.,         0.,         0.,\n",
       "               0.,         0.,         0.,         0.,         0.,\n",
       "               0.,         0.,         0.,         0.,         0.], dtype=float32)"
      ]
     },
     "execution_count": 46,
     "metadata": {},
     "output_type": "execute_result"
    }
   ],
   "source": [
    "X"
   ]
  },
  {
   "cell_type": "code",
   "execution_count": null,
   "metadata": {
    "collapsed": true
   },
   "outputs": [],
   "source": [
    "s"
   ]
  },
  {
   "cell_type": "code",
   "execution_count": 45,
   "metadata": {},
   "outputs": [
    {
     "data": {
      "text/plain": [
       "array([[ 0.,  1.]])"
      ]
     },
     "execution_count": 45,
     "metadata": {},
     "output_type": "execute_result"
    }
   ],
   "source": [
    "Y"
   ]
  },
  {
   "cell_type": "code",
   "execution_count": 2,
   "metadata": {},
   "outputs": [
    {
     "data": {
      "text/plain": [
       "array([[ 14909826.,  14909828.,  14909830.,  14909832.,  14909834.,\n",
       "                0.,         0.,         0.,         0.,         0.,\n",
       "                0.,         0.,         0.,         0.,         0.,\n",
       "                0.,         0.,         0.,         0.,         0.,\n",
       "                0.,         0.,         0.,         0.,         0.,\n",
       "                0.,         0.,         0.,         0.,         0.],\n",
       "       [ 14909835.,  14909837.,  14909839.,  14909841.,  14909843.,\n",
       "                0.,         0.,         0.,         0.,         0.,\n",
       "                0.,         0.,         0.,         0.,         0.,\n",
       "                0.,         0.,         0.,         0.,         0.,\n",
       "                0.,         0.,         0.,         0.,         0.,\n",
       "                0.,         0.,         0.,         0.,         0.]])"
      ]
     },
     "execution_count": 2,
     "metadata": {},
     "output_type": "execute_result"
    }
   ],
   "source": [
    "import numpy as np\n",
    "X=np.empty((0,30),float)\n",
    "\n",
    "s = list('あいうえお')\n",
    "x=[]\n",
    "for c in s:\n",
    "  x.append(np.int.from_bytes(c.encode('utf-8'),'big'))\n",
    "xx = np.array(x)\n",
    "xx.resize(30,refcheck=False)\n",
    "xx = xx.astype('float32')\n",
    "X=np.append(X,[xx],axis=0)\n",
    "\n",
    "s = list('かきくけこ')\n",
    "x=[]\n",
    "for c in s:\n",
    "  x.append(np.int.from_bytes(c.encode('utf-8'),'big'))\n",
    "xx = np.array(x)\n",
    "xx.resize(30,refcheck=False)\n",
    "xx = xx.astype('float32')\n",
    "X=np.append(X,[xx],axis=0)\n",
    "X\n"
   ]
  },
  {
   "cell_type": "code",
   "execution_count": 3,
   "metadata": {},
   "outputs": [
    {
     "data": {
      "text/plain": [
       "(2, 30)"
      ]
     },
     "execution_count": 3,
     "metadata": {},
     "output_type": "execute_result"
    }
   ],
   "source": [
    "X.shape"
   ]
  },
  {
   "cell_type": "code",
   "execution_count": null,
   "metadata": {
    "collapsed": true
   },
   "outputs": [],
   "source": []
  }
 ],
 "metadata": {
  "kernelspec": {
   "display_name": "Python 3",
   "language": "python",
   "name": "python3"
  },
  "language_info": {
   "codemirror_mode": {
    "name": "ipython",
    "version": 3
   },
   "file_extension": ".py",
   "mimetype": "text/x-python",
   "name": "python",
   "nbconvert_exporter": "python",
   "pygments_lexer": "ipython3",
   "version": "3.6.1"
  }
 },
 "nbformat": 4,
 "nbformat_minor": 2
}
