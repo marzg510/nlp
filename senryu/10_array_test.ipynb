{
 "cells": [
  {
   "cell_type": "code",
   "execution_count": 44,
   "metadata": {
    "collapsed": true
   },
   "outputs": [],
   "source": [
    "import numpy as np\n",
    "import keras\n",
    "\n",
    "s = list('あいうえお')\n",
    "x = []\n",
    "for c in s:\n",
    "  x.append(np.int.from_bytes(c.encode('utf-8'),'big'))\n",
    "\n",
    "X = np.array(x)\n",
    "X.resize(30,refcheck=False)\n",
    "X = X.astype('float32')\n",
    "\n",
    "y=1\n",
    "Y = keras.utils.np_utils.to_categorical(y, 2)\n"
   ]
  },
  {
   "cell_type": "code",
   "execution_count": null,
   "metadata": {
    "collapsed": true
   },
   "outputs": [],
   "source": [
    "x"
   ]
  },
  {
   "cell_type": "code",
   "execution_count": 46,
   "metadata": {},
   "outputs": [
    {
     "data": {
      "text/plain": [
       "array([ 14909826.,  14909828.,  14909830.,  14909832.,  14909834.,\n",
       "               0.,         0.,         0.,         0.,         0.,\n",
       "               0.,         0.,         0.,         0.,         0.,\n",
       "               0.,         0.,         0.,         0.,         0.,\n",
       "               0.,         0.,         0.,         0.,         0.,\n",
       "               0.,         0.,         0.,         0.,         0.], dtype=float32)"
      ]
     },
     "execution_count": 46,
     "metadata": {},
     "output_type": "execute_result"
    }
   ],
   "source": [
    "X"
   ]
  },
  {
   "cell_type": "code",
   "execution_count": null,
   "metadata": {
    "collapsed": true
   },
   "outputs": [],
   "source": [
    "s"
   ]
  },
  {
   "cell_type": "code",
   "execution_count": 45,
   "metadata": {},
   "outputs": [
    {
     "data": {
      "text/plain": [
       "array([[ 0.,  1.]])"
      ]
     },
     "execution_count": 45,
     "metadata": {},
     "output_type": "execute_result"
    }
   ],
   "source": [
    "Y"
   ]
  },
  {
   "cell_type": "code",
   "execution_count": 2,
   "metadata": {},
   "outputs": [
    {
     "data": {
      "text/plain": [
       "array([[ 14909826.,  14909828.,  14909830.,  14909832.,  14909834.,\n",
       "                0.,         0.,         0.,         0.,         0.,\n",
       "                0.,         0.,         0.,         0.,         0.,\n",
       "                0.,         0.,         0.,         0.,         0.,\n",
       "                0.,         0.,         0.,         0.,         0.,\n",
       "                0.,         0.,         0.,         0.,         0.],\n",
       "       [ 14909835.,  14909837.,  14909839.,  14909841.,  14909843.,\n",
       "                0.,         0.,         0.,         0.,         0.,\n",
       "                0.,         0.,         0.,         0.,         0.,\n",
       "                0.,         0.,         0.,         0.,         0.,\n",
       "                0.,         0.,         0.,         0.,         0.,\n",
       "                0.,         0.,         0.,         0.,         0.]])"
      ]
     },
     "execution_count": 2,
     "metadata": {},
     "output_type": "execute_result"
    }
   ],
   "source": [
    "import numpy as np\n",
    "X=np.empty((0,30),float)\n",
    "\n",
    "s = list('あいうえお')\n",
    "x=[]\n",
    "for c in s:\n",
    "  x.append(np.int.from_bytes(c.encode('utf-8'),'big'))\n",
    "xx = np.array(x)\n",
    "xx.resize(30,refcheck=False)\n",
    "xx = xx.astype('float32')\n",
    "X=np.append(X,[xx],axis=0)\n",
    "\n",
    "s = list('かきくけこ')\n",
    "x=[]\n",
    "for c in s:\n",
    "  x.append(np.int.from_bytes(c.encode('utf-8'),'big'))\n",
    "xx = np.array(x)\n",
    "xx.resize(30,refcheck=False)\n",
    "xx = xx.astype('float32')\n",
    "X=np.append(X,[xx],axis=0)\n",
    "X\n"
   ]
  },
  {
   "cell_type": "code",
   "execution_count": 3,
   "metadata": {},
   "outputs": [
    {
     "data": {
      "text/plain": [
       "(2, 30)"
      ]
     },
     "execution_count": 3,
     "metadata": {},
     "output_type": "execute_result"
    }
   ],
   "source": [
    "X.shape"
   ]
  },
  {
   "cell_type": "code",
   "execution_count": 45,
   "metadata": {},
   "outputs": [
    {
     "name": "stdout",
     "output_type": "stream",
     "text": [
      "あいうえお\n"
     ]
    }
   ],
   "source": [
    "import numpy as np\n",
    "\n",
    "s = list('あいうえお')\n",
    "x = []\n",
    "for c in s:\n",
    "  x.append(np.int.from_bytes(c.encode('utf-8'),'big'))\n",
    "\n",
    "\n",
    "ss = str()\n",
    "for xx in x:\n",
    "    ss += bytearray(xx.to_bytes((xx.bit_length() + 7) // 8,'big')).decode(encoding='utf-8')\n",
    "\n",
    "print(ss)\n",
    "    \n",
    "    "
   ]
  },
  {
   "cell_type": "code",
   "execution_count": 7,
   "metadata": {},
   "outputs": [
    {
     "ename": "AttributeError",
     "evalue": "'list' object has no attribute 'decode'",
     "output_type": "error",
     "traceback": [
      "\u001b[0;31m---------------------------------------------------------------------------\u001b[0m",
      "\u001b[0;31mAttributeError\u001b[0m                            Traceback (most recent call last)",
      "\u001b[0;32m<ipython-input-7-7a1e2fb2852c>\u001b[0m in \u001b[0;36m<module>\u001b[0;34m()\u001b[0m\n\u001b[0;32m----> 1\u001b[0;31m \u001b[0mx\u001b[0m\u001b[0;34m.\u001b[0m\u001b[0mdecode\u001b[0m\u001b[0;34m(\u001b[0m\u001b[0mencoding\u001b[0m\u001b[0;34m=\u001b[0m\u001b[0;34m'utf-8'\u001b[0m\u001b[0;34m)\u001b[0m\u001b[0;34m\u001b[0m\u001b[0m\n\u001b[0m",
      "\u001b[0;31mAttributeError\u001b[0m: 'list' object has no attribute 'decode'"
     ]
    }
   ],
   "source": [
    "x.decode(encoding='utf-8')"
   ]
  },
  {
   "cell_type": "code",
   "execution_count": 8,
   "metadata": {},
   "outputs": [
    {
     "name": "stdout",
     "output_type": "stream",
     "text": [
      "[14909826, 14909828, 14909830, 14909832, 14909834]\n"
     ]
    }
   ],
   "source": [
    "print(str(x))"
   ]
  },
  {
   "cell_type": "code",
   "execution_count": 17,
   "metadata": {},
   "outputs": [
    {
     "data": {
      "text/plain": [
       "b'\\xe3\\x81\\x82\\xe3\\x81\\x84\\xe3\\x81\\x86\\xe3\\x81\\x88\\xe3\\x81\\x8a'"
      ]
     },
     "execution_count": 17,
     "metadata": {},
     "output_type": "execute_result"
    }
   ],
   "source": [
    "u'あいうえお'.encode('utf-8')"
   ]
  },
  {
   "cell_type": "code",
   "execution_count": 14,
   "metadata": {},
   "outputs": [
    {
     "data": {
      "text/plain": [
       "list"
      ]
     },
     "execution_count": 14,
     "metadata": {},
     "output_type": "execute_result"
    }
   ],
   "source": [
    "type(x)"
   ]
  },
  {
   "cell_type": "code",
   "execution_count": 28,
   "metadata": {},
   "outputs": [
    {
     "data": {
      "text/plain": [
       "'e38182'"
      ]
     },
     "execution_count": 28,
     "metadata": {},
     "output_type": "execute_result"
    }
   ],
   "source": [
    "x[0].to_bytes((x[0].bit_length() + 7) // 8,'big').hex()"
   ]
  },
  {
   "cell_type": "code",
   "execution_count": 38,
   "metadata": {},
   "outputs": [],
   "source": [
    "tmp = bytearray(x[0].to_bytes((x[0].bit_length() + 7) // 8,'big'))\n",
    "tmp.append(128)"
   ]
  },
  {
   "cell_type": "code",
   "execution_count": 39,
   "metadata": {},
   "outputs": [
    {
     "data": {
      "text/plain": [
       "bytearray(b'\\xe3\\x81\\x82\\x80')"
      ]
     },
     "execution_count": 39,
     "metadata": {},
     "output_type": "execute_result"
    }
   ],
   "source": [
    "tmp"
   ]
  },
  {
   "cell_type": "code",
   "execution_count": 40,
   "metadata": {
    "collapsed": true
   },
   "outputs": [],
   "source": [
    "ba = bytearray()"
   ]
  },
  {
   "cell_type": "code",
   "execution_count": 41,
   "metadata": {},
   "outputs": [
    {
     "data": {
      "text/plain": [
       "bytearray(b'')"
      ]
     },
     "execution_count": 41,
     "metadata": {},
     "output_type": "execute_result"
    }
   ],
   "source": [
    "ba"
   ]
  },
  {
   "cell_type": "code",
   "execution_count": 43,
   "metadata": {},
   "outputs": [
    {
     "data": {
      "text/plain": [
       "'あ'"
      ]
     },
     "execution_count": 43,
     "metadata": {},
     "output_type": "execute_result"
    }
   ],
   "source": [
    "bytearray(x[0].to_bytes((x[0].bit_length() + 7) // 8,'big')).decode(encoding='utf-8')"
   ]
  },
  {
   "cell_type": "code",
   "execution_count": 60,
   "metadata": {},
   "outputs": [
    {
     "data": {
      "text/plain": [
       "array(b'14909826', \n",
       "      dtype='|S21')"
      ]
     },
     "execution_count": 60,
     "metadata": {},
     "output_type": "execute_result"
    }
   ],
   "source": [
    "np.array(x[0]).astype(bytes)"
   ]
  },
  {
   "cell_type": "code",
   "execution_count": null,
   "metadata": {
    "collapsed": true
   },
   "outputs": [],
   "source": []
  }
 ],
 "metadata": {
  "kernelspec": {
   "display_name": "Python 3",
   "language": "python",
   "name": "python3"
  },
  "language_info": {
   "codemirror_mode": {
    "name": "ipython",
    "version": 3
   },
   "file_extension": ".py",
   "mimetype": "text/x-python",
   "name": "python",
   "nbconvert_exporter": "python",
   "pygments_lexer": "ipython3",
   "version": "3.6.1"
  }
 },
 "nbformat": 4,
 "nbformat_minor": 2
}
