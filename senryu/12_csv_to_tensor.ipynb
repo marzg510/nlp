{
 "cells": [
  {
   "cell_type": "code",
   "execution_count": 60,
   "metadata": {},
   "outputs": [],
   "source": [
    "import csv\n",
    "import numpy as np\n",
    "import keras\n",
    "\n",
    "###\n",
    "# 1.データ準備\n",
    "###\n",
    "n = 30\n",
    "X=np.empty((0,30),float)\n",
    "Y=np.empty((0,2),float)\n",
    "X_test=np.empty((0,30),float)\n",
    "Y_test=np.empty((0,2),float)\n",
    "\n",
    "with open('file/csv/senryudb_labeled.csv', 'r') as f:\n",
    "    reader = csv.reader(f)\n",
    "#    header = next(reader)  # ヘッダーを読み飛ばしたい時\n",
    "\n",
    "    for i,row in enumerate(reader):\n",
    "#        print(i,row[0],row[1])          # 1行づつ取得できる\n",
    "        x=[]\n",
    "        for c in row[0]:\n",
    "            x.append(np.int.from_bytes(c.encode('utf-8'),'big'))\n",
    "        xx = np.array(x)\n",
    "        xx.resize(n,refcheck=False)\n",
    "        xx = xx.astype('float32')\n",
    "        y = float(row[1])\n",
    "        if i < 25000:\n",
    "            X=np.append(X,[xx],axis=0)\n",
    "            Y = np.append(Y,keras.utils.np_utils.to_categorical(y, 2),axis=0)\n",
    "        else:\n",
    "            X_test=np.append(X_test,[xx],axis=0)\n",
    "            Y_test = np.append(Y_test,keras.utils.np_utils.to_categorical(y, 2),axis=0)\n",
    "        if i > 30000:\n",
    "            break\n",
    "\n",
    "X=X.reshape(X.shape[0],n,1)\n",
    "X_test=X_test.reshape(X_test.shape[0],n,1)\n",
    "# 正規化\n",
    "X /= 0x1FFFFF\n",
    "X_test /= 0x1FFFFF\n",
    "\n",
    "print(\"end\")"
   ]
  },
  {
   "cell_type": "code",
   "execution_count": 61,
   "metadata": {},
   "outputs": [
    {
     "name": "stdout",
     "output_type": "stream",
     "text": [
      "Epoch 1/12\n",
      "25000/25000 [==============================] - 2s - loss: 0.5082 - acc: 0.8286     \n",
      "Epoch 2/12\n",
      "25000/25000 [==============================] - 1s - loss: 0.4850 - acc: 0.8314     \n",
      "Epoch 3/12\n",
      "25000/25000 [==============================] - 1s - loss: 0.4821 - acc: 0.8314     \n",
      "Epoch 4/12\n",
      "25000/25000 [==============================] - 1s - loss: 0.4751 - acc: 0.8314     \n",
      "Epoch 5/12\n",
      "25000/25000 [==============================] - 1s - loss: 0.4719 - acc: 0.8314     \n",
      "Epoch 6/12\n",
      "25000/25000 [==============================] - 1s - loss: 0.4675 - acc: 0.8314     \n",
      "Epoch 7/12\n",
      "25000/25000 [==============================] - 1s - loss: 0.4670 - acc: 0.8314     \n",
      "Epoch 8/12\n",
      "25000/25000 [==============================] - 1s - loss: 0.4652 - acc: 0.8314     \n",
      "Epoch 9/12\n",
      "25000/25000 [==============================] - 1s - loss: 0.4623 - acc: 0.8314     \n",
      "Epoch 10/12\n",
      "25000/25000 [==============================] - 1s - loss: 0.4608 - acc: 0.8314     \n",
      "Epoch 11/12\n",
      "25000/25000 [==============================] - 1s - loss: 0.4591 - acc: 0.8314     \n",
      "Epoch 12/12\n",
      "25000/25000 [==============================] - 1s - loss: 0.4589 - acc: 0.8314     \n"
     ]
    }
   ],
   "source": [
    "from keras.models import Sequential\n",
    "from keras.layers import Dense, Activation\n",
    "from keras.optimizers import Adadelta\n",
    "from sklearn import datasets\n",
    "from sklearn.model_selection import train_test_split\n",
    "import matplotlib.pyplot as plt\n",
    "from keras.layers.core import Dropout\n",
    "from keras.initializers import TruncatedNormal\n",
    "from keras.layers import Flatten, Conv1D, MaxPooling1D\n",
    "\n",
    "###\n",
    "# 2.モデル設定\n",
    "###\n",
    "model = Sequential()\n",
    "model.add(Conv1D(10, kernel_size=(3),\n",
    "                 activation='relu',\n",
    "                 input_shape=(n,1)\n",
    "                 )\n",
    "        )\n",
    "model.add(Conv1D(20, (3), activation='relu'))\n",
    "model.add(MaxPooling1D(pool_size=(2)))\n",
    "model.add(Dropout(0.25))\n",
    "model.add(Flatten())\n",
    "model.add(Dense(10, activation='relu'))\n",
    "model.add(Dropout(0.5))\n",
    "model.add(Dense(2, activation='softmax'))\n",
    "\n",
    "# 確率的勾配降下法\n",
    "model.compile(loss='categorical_crossentropy', optimizer=Adadelta(), metrics=['accuracy'])\n",
    "\n",
    "###\n",
    "# 3.モデル学習\n",
    "###\n",
    "epochs = 12\n",
    "batch_size = 120\n",
    "hist = model.fit(X, Y, epochs=epochs, batch_size=batch_size,)\n",
    "#               validation_data=(X_validation ,Y_validation))\n"
   ]
  },
  {
   "cell_type": "code",
   "execution_count": 62,
   "metadata": {},
   "outputs": [
    {
     "name": "stdout",
     "output_type": "stream",
     "text": [
      "4704/5002 [===========================>..] - ETA: 0s\n",
      "[0.497924711550774, 0.80327868853054829]\n",
      "[0.50821101460456852, 0.48498271317481995, 0.48205091242790221, 0.47507978491783143, 0.4719063379764557, 0.46751194367408755, 0.46696174817085268, 0.46516961259841921, 0.46225146379470827, 0.46080144972801207, 0.4591473762989044, 0.45893209338188173]\n",
      "[0.82863999900817875, 0.83139999837875367, 0.83139999980926516, 0.83139999837875367, 0.83139999809265142, 0.83140000066757203, 0.83139999942779541, 0.83139999723434443, 0.83139999847412105, 0.83139999780654905, 0.83139999799728392, 0.83139999828338618]\n"
     ]
    }
   ],
   "source": [
    "# 評価\n",
    "loss_and_metrics = model.evaluate(X_test, Y_test)\n",
    "print()\n",
    "print(loss_and_metrics)\n",
    "# 可視化\n",
    "val_loss = hist.history['loss']\n",
    "val_acc = hist.history['acc']\n",
    "print(val_loss)\n",
    "print(val_acc)\n",
    "\n"
   ]
  },
  {
   "cell_type": "code",
   "execution_count": 63,
   "metadata": {},
   "outputs": [
    {
     "data": {
      "image/png": "[encoded data removed]",
      "text/plain": [
       "<matplotlib.figure.Figure at 0x7feca6f5a4a8>"
      ]
     },
     "metadata": {},
     "output_type": "display_data"
    }
   ],
   "source": [
    "import os\n",
    "\n",
    "# グラフ\n",
    "\n",
    "plt.rc('font', family='serif')\n",
    "fig = plt.figure()\n",
    "# 精度\n",
    "ax_acc = fig.add_subplot(111)\n",
    "ax_acc.plot(range(epochs), val_acc, label='acc', color='black')\n",
    "# 損失\n",
    "ax_loss = ax_acc.twinx()\n",
    "ax_loss.plot(range(epochs), val_loss, label='loss', color='gray')\n",
    "plt.xlabel('epochs')\n",
    "#file,ext = os.path.splitext(os.path.basename(__file__))\n",
    "#plt.savefig(file+'.eps')\n",
    "\n",
    "plt.show()\n"
   ]
  },
  {
   "cell_type": "code",
   "execution_count": 69,
   "metadata": {},
   "outputs": [],
   "source": [
    "# Prediction\n",
    "import numpy as np\n",
    "from sklearn.metrics import confusion_matrix\n",
    "\n",
    "predict = model.predict(X_test[1].reshape(1,n,1), batch_size=32)\n",
    "#true_classes = np.argmax(y_test[1:10],1)\n",
    "\n",
    "#print(confusion_matrix(true_classes, predict_classes))\n"
   ]
  },
  {
   "cell_type": "code",
   "execution_count": 70,
   "metadata": {},
   "outputs": [
    {
     "data": {
      "text/plain": [
       "array([[ 0.82426745,  0.17573254]], dtype=float32)"
      ]
     },
     "execution_count": 70,
     "metadata": {},
     "output_type": "execute_result"
    }
   ],
   "source": [
    "predict"
   ]
  },
  {
   "cell_type": "code",
   "execution_count": 72,
   "metadata": {},
   "outputs": [
    {
     "data": {
      "text/plain": [
       "array([ 1.,  0.])"
      ]
     },
     "execution_count": 72,
     "metadata": {},
     "output_type": "execute_result"
    }
   ],
   "source": [
    "Y_test[1]"
   ]
  },
  {
   "cell_type": "code",
   "execution_count": null,
   "metadata": {
    "collapsed": true
   },
   "outputs": [],
   "source": []
  }
 ],
 "metadata": {
  "kernelspec": {
   "display_name": "Python 3",
   "language": "python",
   "name": "python3"
  },
  "language_info": {
   "codemirror_mode": {
    "name": "ipython",
    "version": 3
   },
   "file_extension": ".py",
   "mimetype": "text/x-python",
   "name": "python",
   "nbconvert_exporter": "python",
   "pygments_lexer": "ipython3",
   "version": "3.6.1"
  }
 },
 "nbformat": 4,
 "nbformat_minor": 2
}
