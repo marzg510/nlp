{
 "cells": [
  {
   "cell_type": "code",
   "execution_count": 19,
   "metadata": {},
   "outputs": [
    {
     "name": "stdout",
     "output_type": "stream",
     "text": [
      "0 消え残る時はのどかに青い味 0\n",
      "1 消え去ったばかり座ぶとんの温もり 0\n",
      "2 伝言板を誰も消さない無人駅 0\n",
      "3 三日月の欠けた所にある吹雪 0\n",
      "4 この人と瞬間移動する話 0\n"
     ]
    }
   ],
   "source": [
    "import csv\n",
    "import numpy as np\n",
    "import keras\n",
    "\n",
    "X=np.empty((0,30),float)\n",
    "Y=np.empty((0,2),float)\n",
    "\n",
    "with open('file/csv/senryudb_labeled.csv', 'r') as f:\n",
    "    reader = csv.reader(f)\n",
    "#    header = next(reader)  # ヘッダーを読み飛ばしたい時\n",
    "\n",
    "    for i,row in enumerate(reader):\n",
    "        print(i,row[0],row[1])          # 1行づつ取得できる\n",
    "        x=[]\n",
    "        for c in row[0]:\n",
    "            x.append(np.int.from_bytes(c.encode('utf-8'),'big'))\n",
    "        xx = np.array(x)\n",
    "        xx.resize(30,refcheck=False)\n",
    "        xx = xx.astype('float32')\n",
    "        X=np.append(X,[xx],axis=0)\n",
    "        y = float(row[1])\n",
    "        Y = np.append(Y,keras.utils.np_utils.to_categorical(y, 2),axis=0)\n",
    "        if i > 3:\n",
    "            break\n",
    "\n"
   ]
  },
  {
   "cell_type": "code",
   "execution_count": 20,
   "metadata": {},
   "outputs": [
    {
     "data": {
      "text/plain": [
       "1.0"
      ]
     },
     "execution_count": 20,
     "metadata": {},
     "output_type": "execute_result"
    }
   ],
   "source": [
    "float('1')"
   ]
  },
  {
   "cell_type": "code",
   "execution_count": 21,
   "metadata": {},
   "outputs": [
    {
     "data": {
      "text/plain": [
       "array([[ 15120008.,  14909832.,  15117963.,  14910091.,  15112578.,\n",
       "         14909871.,  14909870.,  14909865.,  14909835.,  14909867.,\n",
       "         15310226.,  14909828.,  15045043.,         0.,         0.,\n",
       "                0.,         0.,         0.,         0.,         0.,\n",
       "                0.,         0.,         0.,         0.,         0.,\n",
       "                0.,         0.,         0.,         0.,         0.],\n",
       "       [ 15120008.,  14909832.,  15044283.,  14909859.,  14909855.,\n",
       "         14909872.,  14909835.,  14910090.,  15055527.,  14909878.,\n",
       "         14909864.,  14910099.,  14909870.,  15120553.,  14910082.,\n",
       "         14910090.,         0.,         0.,         0.,         0.,\n",
       "                0.,         0.,         0.,         0.,         0.,\n",
       "                0.,         0.,         0.,         0.,         0.],\n",
       "       [ 14990493.,  15247488.,  15113663.,  14910098.,  15248048.,\n",
       "         14910082.,  15120008.,  14909845.,  14909866.,  14909828.,\n",
       "         15172769.,  14990010.,  15312773.,         0.,         0.,\n",
       "                0.,         0.,         0.,         0.,         0.,\n",
       "                0.,         0.,         0.,         0.,         0.,\n",
       "                0.,         0.,         0.,         0.,         0.],\n",
       "       [ 14989449.,  15112101.,  15113352.,  14909870.,  15117472.,\n",
       "         14909841.,  14909855.,  15108480.,  14909867.,  14909826.,\n",
       "         14910091.,  15044793.,  15309738.,         0.,         0.,\n",
       "                0.,         0.,         0.,         0.,         0.,\n",
       "                0.,         0.,         0.,         0.,         0.,\n",
       "                0.,         0.,         0.,         0.,         0.],\n",
       "       [ 14909843.,  14909870.,  14990010.,  14909864.,  15179436.,\n",
       "         15308435.,  15181755.,  15043477.,  14909849.,  14910091.,\n",
       "         15247793.,         0.,         0.,         0.,         0.,\n",
       "                0.,         0.,         0.,         0.,         0.,\n",
       "                0.,         0.,         0.,         0.,         0.,\n",
       "                0.,         0.,         0.,         0.,         0.]])"
      ]
     },
     "execution_count": 21,
     "metadata": {},
     "output_type": "execute_result"
    }
   ],
   "source": [
    "X"
   ]
  },
  {
   "cell_type": "code",
   "execution_count": 22,
   "metadata": {},
   "outputs": [
    {
     "data": {
      "text/plain": [
       "array([[ 1.,  0.],\n",
       "       [ 1.,  0.],\n",
       "       [ 1.,  0.],\n",
       "       [ 1.,  0.],\n",
       "       [ 1.,  0.]])"
      ]
     },
     "execution_count": 22,
     "metadata": {},
     "output_type": "execute_result"
    }
   ],
   "source": [
    "Y"
   ]
  },
  {
   "cell_type": "code",
   "execution_count": null,
   "metadata": {
    "collapsed": true
   },
   "outputs": [],
   "source": []
  }
 ],
 "metadata": {
  "kernelspec": {
   "display_name": "Python 3",
   "language": "python",
   "name": "python3"
  },
  "language_info": {
   "codemirror_mode": {
    "name": "ipython",
    "version": 3
   },
   "file_extension": ".py",
   "mimetype": "text/x-python",
   "name": "python",
   "nbconvert_exporter": "python",
   "pygments_lexer": "ipython3",
   "version": "3.6.1"
  }
 },
 "nbformat": 4,
 "nbformat_minor": 2
}
