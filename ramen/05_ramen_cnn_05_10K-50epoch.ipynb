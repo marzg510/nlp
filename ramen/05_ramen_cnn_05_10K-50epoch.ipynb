{
 "cells": [
  {
   "cell_type": "code",
   "execution_count": 5,
   "metadata": {
    "scrolled": true
   },
   "outputs": [
    {
     "name": "stdout",
     "output_type": "stream",
     "text": [
      "2018-02-15 01:07:48.961056 start\n",
      "initializing...\n",
      "max_rows=10000\n",
      "train_rows=9000\n",
      "reading data..\n",
      "10000 rows read .. 2018-02-15 01:07:56.893443\n",
      "total 10000 rows read\n",
      "2018-02-15 01:07:57.652394 initialized\n"
     ]
    }
   ],
   "source": [
    "import csv\n",
    "import numpy as np\n",
    "import keras\n",
    "import datetime\n",
    "\n",
    "print(\"%s start\" % datetime.datetime.today())\n",
    "###\n",
    "# 1.データ準備\n",
    "###\n",
    "print(\"initializing...\")\n",
    "n = 8500              # 入力層の要素数(=データの最大文字数)\n",
    "k = 3                 # 出力層の要素数(いくつに分類するか)\n",
    "\n",
    "max_rows = 10000  # 読み取り行数最大\n",
    "train_ratio = 0.9 # 読み取ったデータのうち学習に使う比率\n",
    "train_rows = int(max_rows * train_ratio) # 学習に使うデータの行数\n",
    "test_rows = max_rows - train_rows\n",
    "print(\"max_rows=%s\" % max_rows)\n",
    "print(\"train_rows=%s\" % train_rows)\n",
    "\n",
    "print(\"reading data..\")\n",
    "# numpy.appendは遅いので先にlistに取り込んでからnumpyに展開\n",
    "xlist=[]\n",
    "ylist=[]\n",
    "with open('reviews-ccnn-train-data04.txt', 'r') as f:\n",
    "    reader = csv.reader(f,delimiter = '\\t')\n",
    "#    header = next(reader)  # ヘッダーを読み飛ばしたい時\n",
    "\n",
    "    for i,row in enumerate(reader):\n",
    "        if i >= max_rows:\n",
    "            break\n",
    "#        print(i,row[0],row[1])          # 1行づつ取得できる\n",
    "        if (i+1) % 10000 == 0:\n",
    "            print(\"%s rows read .. %s\" % (i+1,datetime.datetime.today()))\n",
    "        x=[]\n",
    "        for c in row[1]:\n",
    "            x.append(float(np.int.from_bytes(c.encode('utf-8'),'big')))\n",
    "        xx = np.array(x)\n",
    "        xx.resize(n,refcheck=False)\n",
    "        xx = xx.astype('float32')\n",
    "        y = float(row[0])\n",
    "        xlist.append(xx)\n",
    "        ylist.append(y)\n",
    "\n",
    "print(\"total %s rows read\" % (i) )\n",
    "\n",
    "X=np.zeros((len(xlist),n),float) # 学習用入力データの行列\n",
    "Y=np.zeros((len(ylist),k),float)  # 学習用出力データの行列\n",
    "X_test=np.zeros((len(xlist),n),float) # 評価用入力データの行列\n",
    "Y_test=np.zeros((len(ylist),k),float) # 評価用出力データの行列\n",
    "train_index = 0\n",
    "test_index = 0\n",
    "for i in range(len(xlist)):\n",
    "    x = xlist[i]\n",
    "    y = ylist[i]\n",
    "#    n_sub_samples = len(x.shape[0]\n",
    "    # 上位train_rows分を学習データ　それ以外を評価データに使う\n",
    "    # ホントはシャッフルしたほうがいい\n",
    "    if i < train_rows:\n",
    "        X[i:i+1,:] = x\n",
    "        Y[i:i+1,:] = keras.utils.np_utils.to_categorical(y, k)\n",
    "    else:\n",
    "        X_test[i-train_rows:i-train_rows+1,:] = x\n",
    "        Y_test[i-train_rows:i-train_rows+1,:] = keras.utils.np_utils.to_categorical(y, k)\n",
    "\n",
    "X.resize((train_rows,n))\n",
    "Y.resize((train_rows,k))\n",
    "X_test.resize((test_rows,n))\n",
    "Y_test.resize((test_rows,k))\n",
    "\n",
    "# Xを３次元の行列に変換。この意味はわからない・・Kerasの都合か。\n",
    "X=X.reshape(X.shape[0],n,1)\n",
    "X_test=X_test.reshape(X_test.shape[0],n,1)\n",
    "# 正規化\n",
    "X /= 0x1FFFFF\n",
    "X_test /= 0x1FFFFF\n",
    "\n",
    "print(\"%s initialized\" % datetime.datetime.today())\n",
    "\n"
   ]
  },
  {
   "cell_type": "code",
   "execution_count": 6,
   "metadata": {},
   "outputs": [
    {
     "data": {
      "text/plain": [
       "(1000, 8500, 1)"
      ]
     },
     "execution_count": 6,
     "metadata": {},
     "output_type": "execute_result"
    }
   ],
   "source": [
    "# 学習データの件数確認\n",
    "X_test.shape\n"
   ]
  },
  {
   "cell_type": "code",
   "execution_count": 7,
   "metadata": {},
   "outputs": [
    {
     "name": "stdout",
     "output_type": "stream",
     "text": [
      "2018-02-15 01:07:57.699198 building model start\n",
      "2018-02-15 01:07:57.836249 model built\n"
     ]
    }
   ],
   "source": [
    "from keras.models import Sequential\n",
    "from keras.layers import Dense, Activation\n",
    "from keras.optimizers import Adadelta\n",
    "from sklearn import datasets\n",
    "from sklearn.model_selection import train_test_split\n",
    "import matplotlib.pyplot as plt\n",
    "from keras.layers.core import Dropout\n",
    "from keras.initializers import TruncatedNormal\n",
    "from keras.layers import Flatten, Conv1D, MaxPooling1D\n",
    "\n",
    "###\n",
    "# 2.モデル設定\n",
    "###\n",
    "print(\"%s building model start\" % datetime.datetime.today())\n",
    "kernel_size = (3)\n",
    "model = Sequential()\n",
    "# 入力層\n",
    "model.add(Conv1D(32, kernel_size=kernel_size,\n",
    "                 activation='relu',\n",
    "                 input_shape=(n,1)\n",
    "                 )\n",
    "        )\n",
    "# 畳み込み層\n",
    "model.add(Conv1D(64, kernel_size, activation='relu'))\n",
    "# プーリング層\n",
    "model.add(MaxPooling1D(pool_size=(2)))\n",
    "model.add(Dropout(0.25))\n",
    "model.add(Flatten())\n",
    "model.add(Dense(128, activation='relu'))\n",
    "model.add(Dropout(0.5))\n",
    "# 出力層\n",
    "model.add(Dense(k, activation='softmax'))\n",
    "\n",
    "# 確率的勾配降下法\n",
    "model.compile(loss='categorical_crossentropy', optimizer=Adadelta(), metrics=['accuracy'])\n",
    "\n",
    "print(\"%s model built\" % datetime.datetime.today())\n"
   ]
  },
  {
   "cell_type": "code",
   "execution_count": 8,
   "metadata": {},
   "outputs": [
    {
     "name": "stdout",
     "output_type": "stream",
     "text": [
      "2018-02-15 01:07:57.849478 trainning model start\n",
      "Epoch 1/50\n",
      "9000/9000 [==============================] - 330s - loss: 0.8468 - acc: 0.5612   \n",
      "Epoch 2/50\n",
      "9000/9000 [==============================] - 330s - loss: 0.7281 - acc: 0.5737   \n",
      "Epoch 3/50\n",
      "9000/9000 [==============================] - 330s - loss: 0.7255 - acc: 0.5832   \n",
      "Epoch 4/50\n",
      "9000/9000 [==============================] - 330s - loss: 0.7168 - acc: 0.5763   \n",
      "Epoch 5/50\n",
      "9000/9000 [==============================] - 330s - loss: 0.7068 - acc: 0.5902   \n",
      "Epoch 6/50\n",
      "9000/9000 [==============================] - 330s - loss: 0.6971 - acc: 0.6014   \n",
      "Epoch 7/50\n",
      "9000/9000 [==============================] - 330s - loss: 0.6810 - acc: 0.6128   \n",
      "Epoch 8/50\n",
      "9000/9000 [==============================] - 330s - loss: 0.6638 - acc: 0.6369   \n",
      "Epoch 9/50\n",
      "9000/9000 [==============================] - 330s - loss: 0.6479 - acc: 0.6502   \n",
      "Epoch 10/50\n",
      "9000/9000 [==============================] - 377s - loss: 0.6217 - acc: 0.6719   \n",
      "Epoch 11/50\n",
      "9000/9000 [==============================] - 439s - loss: 0.5932 - acc: 0.6949   \n",
      "Epoch 12/50\n",
      "9000/9000 [==============================] - 436s - loss: 0.5642 - acc: 0.7149   \n",
      "Epoch 13/50\n",
      "9000/9000 [==============================] - 447s - loss: 0.5288 - acc: 0.7411   \n",
      "Epoch 14/50\n",
      "9000/9000 [==============================] - 454s - loss: 0.4848 - acc: 0.7750   \n",
      "Epoch 15/50\n",
      "9000/9000 [==============================] - 439s - loss: 0.4425 - acc: 0.7971   \n",
      "Epoch 16/50\n",
      "9000/9000 [==============================] - 449s - loss: 0.4067 - acc: 0.8173   \n",
      "Epoch 17/50\n",
      "9000/9000 [==============================] - 474s - loss: 0.3746 - acc: 0.8366   \n",
      "Epoch 18/50\n",
      "9000/9000 [==============================] - 443s - loss: 0.3432 - acc: 0.8531   \n",
      "Epoch 19/50\n",
      "9000/9000 [==============================] - 465s - loss: 0.3052 - acc: 0.8733   \n",
      "Epoch 20/50\n",
      "9000/9000 [==============================] - 467s - loss: 0.2833 - acc: 0.8837   \n",
      "Epoch 21/50\n",
      "9000/9000 [==============================] - 456s - loss: 0.2578 - acc: 0.8966   \n",
      "Epoch 22/50\n",
      "9000/9000 [==============================] - 349s - loss: 0.2457 - acc: 0.9002   \n",
      "Epoch 23/50\n",
      "9000/9000 [==============================] - 354s - loss: 0.2247 - acc: 0.9107   \n",
      "Epoch 24/50\n",
      "9000/9000 [==============================] - 341s - loss: 0.2143 - acc: 0.9151   \n",
      "Epoch 25/50\n",
      "9000/9000 [==============================] - 342s - loss: 0.2016 - acc: 0.9204   \n",
      "Epoch 26/50\n",
      "9000/9000 [==============================] - 344s - loss: 0.1834 - acc: 0.9281   \n",
      "Epoch 27/50\n",
      "9000/9000 [==============================] - 343s - loss: 0.1678 - acc: 0.9389   \n",
      "Epoch 28/50\n",
      "9000/9000 [==============================] - 342s - loss: 0.1667 - acc: 0.9343   \n",
      "Epoch 29/50\n",
      "9000/9000 [==============================] - 343s - loss: 0.1575 - acc: 0.9418   \n",
      "Epoch 30/50\n",
      "9000/9000 [==============================] - 342s - loss: 0.1461 - acc: 0.9449   \n",
      "Epoch 31/50\n",
      "9000/9000 [==============================] - 342s - loss: 0.1410 - acc: 0.9454   \n",
      "Epoch 32/50\n",
      "9000/9000 [==============================] - 342s - loss: 0.1374 - acc: 0.9469   \n",
      "Epoch 33/50\n",
      "9000/9000 [==============================] - 342s - loss: 0.1313 - acc: 0.9511   \n",
      "Epoch 34/50\n",
      "9000/9000 [==============================] - 342s - loss: 0.1281 - acc: 0.9531   \n",
      "Epoch 35/50\n",
      "9000/9000 [==============================] - 342s - loss: 0.1279 - acc: 0.9518   \n",
      "Epoch 36/50\n",
      "9000/9000 [==============================] - 344s - loss: 0.1192 - acc: 0.9562   \n",
      "Epoch 37/50\n",
      "9000/9000 [==============================] - 342s - loss: 0.1083 - acc: 0.9606   \n",
      "Epoch 38/50\n",
      "9000/9000 [==============================] - 356s - loss: 0.1133 - acc: 0.9570   \n",
      "Epoch 39/50\n",
      "9000/9000 [==============================] - 449s - loss: 0.1097 - acc: 0.9583   \n",
      "Epoch 40/50\n",
      "9000/9000 [==============================] - 369s - loss: 0.1050 - acc: 0.9618   \n",
      "Epoch 41/50\n",
      "9000/9000 [==============================] - 412s - loss: 0.0994 - acc: 0.9660   \n",
      "Epoch 42/50\n",
      "9000/9000 [==============================] - 362s - loss: 0.0961 - acc: 0.9637   \n",
      "Epoch 43/50\n",
      "9000/9000 [==============================] - 343s - loss: 0.0981 - acc: 0.9623   \n",
      "Epoch 44/50\n",
      "9000/9000 [==============================] - 348s - loss: 0.1005 - acc: 0.9617   \n",
      "Epoch 45/50\n",
      "9000/9000 [==============================] - 344s - loss: 0.0869 - acc: 0.9670   \n",
      "Epoch 46/50\n",
      "9000/9000 [==============================] - 344s - loss: 0.0945 - acc: 0.9653   \n",
      "Epoch 47/50\n",
      "9000/9000 [==============================] - 340s - loss: 0.0913 - acc: 0.9654   \n",
      "Epoch 48/50\n",
      "9000/9000 [==============================] - 348s - loss: 0.0862 - acc: 0.9696   \n",
      "Epoch 49/50\n",
      "9000/9000 [==============================] - 345s - loss: 0.0917 - acc: 0.9657   \n",
      "Epoch 50/50\n",
      "9000/9000 [==============================] - 356s - loss: 0.0807 - acc: 0.9710   \n",
      "2018-02-15 06:17:14.068716 training finish\n"
     ]
    }
   ],
   "source": [
    "print(\"%s trainning model start\" % datetime.datetime.today())\n",
    "\n",
    "###\n",
    "# 3.モデル学習\n",
    "###\n",
    "epochs = 50     # 学習繰り返し数\n",
    "batch_size = 120\n",
    "hist = model.fit(X, Y, epochs=epochs, batch_size=batch_size,)\n",
    "#               validation_data=(X_validation ,Y_validation))\n",
    "\n",
    "print(\"%s training finish\" % datetime.datetime.today())\n"
   ]
  },
  {
   "cell_type": "code",
   "execution_count": 9,
   "metadata": {},
   "outputs": [
    {
     "name": "stdout",
     "output_type": "stream",
     "text": [
      "2018-02-15 06:17:14.410444 evaluate start\n",
      "1000/1000 [==============================] - 10s    \n",
      "\n",
      "[2.1210822563171385, 0.52500000000000002]\n",
      "[0.84678242047627772, 0.72807716369628905, 0.72554204702377323, 0.71683712085088092, 0.70679690599441525, 0.69713212649027512, 0.68097576141357419, 0.66377784093221026, 0.64789891163508095, 0.6217374571164449, 0.59315719922383625, 0.56424612164497379, 0.52881710052490238, 0.48477436621983844, 0.44252929608027142, 0.40665976365407308, 0.37464298168818155, 0.34316842834154765, 0.30524242599805196, 0.28327267030874886, 0.25776754458745321, 0.24573435366153717, 0.22465285261472065, 0.21426244338353476, 0.20159534484148026, 0.18335282494624455, 0.1678214727838834, 0.16669991731643677, 0.15747115383545557, 0.14614261547724405, 0.14102317214012147, 0.13741361950834594, 0.13128791540861129, 0.1281376987695694, 0.12793914794921876, 0.11921897664666176, 0.10831033219893774, 0.11329865048329035, 0.10968898057937622, 0.10504427035649617, 0.09941467478871345, 0.096075220505396519, 0.09810372586051623, 0.10051442503929138, 0.08690017441908518, 0.094546948621670401, 0.091256071105599398, 0.08619962190588315, 0.091704735085368153, 0.080716265390316649]\n",
      "[0.56122222344080608, 0.57366666992505388, 0.58322222550710046, 0.57633333365122474, 0.59022221763928728, 0.6014444422721863, 0.61277778069178268, 0.63688888629277551, 0.65022222201029456, 0.67188888867696128, 0.69488888820012407, 0.71488888740539547, 0.74111111084620163, 0.77500000000000002, 0.7971111090977987, 0.81733333031336464, 0.83655555168787643, 0.85311110893885289, 0.87333333253860479, 0.88366666396458948, 0.89655555963516231, 0.90022222359975179, 0.91066667159398396, 0.91511111577351889, 0.92044444561004635, 0.92811111529668178, 0.93888888835906981, 0.93433333158493037, 0.94177777449289957, 0.94488888502120971, 0.94544443766276043, 0.9468888831138611, 0.95111110687255862, 0.95311110734939575, 0.95177777290344234, 0.95622221946716313, 0.96055555184682206, 0.95699999729792273, 0.95833332538604732, 0.96177777767181394, 0.96599999586741125, 0.96366665999094647, 0.96233332792917892, 0.96166666030883785, 0.96699999729792274, 0.96533332983652753, 0.96544444322586065, 0.96955555518468217, 0.96566666364669795, 0.97100000143051146]\n",
      "2018-02-15 06:17:25.045649 evaluate finish\n"
     ]
    }
   ],
   "source": [
    "###\n",
    "# 4-1.評価\n",
    "###\n",
    "print(\"%s evaluate start\" % datetime.datetime.today())\n",
    "loss_and_metrics = model.evaluate(X_test, Y_test)\n",
    "print()\n",
    "print(loss_and_metrics)\n",
    "# 可視化\n",
    "val_loss = hist.history['loss']\n",
    "val_acc = hist.history['acc']\n",
    "print(val_loss)\n",
    "print(val_acc)\n",
    "\n",
    "print(\"%s evaluate finish\" % datetime.datetime.today())\n"
   ]
  },
  {
   "cell_type": "code",
   "execution_count": 10,
   "metadata": {
    "collapsed": true
   },
   "outputs": [],
   "source": [
    "###\n",
    "# 4-2.予測\n",
    "###\n",
    "\n",
    "predicted = model.predict(X_test)\n"
   ]
  },
  {
   "cell_type": "code",
   "execution_count": 11,
   "metadata": {},
   "outputs": [
    {
     "name": "stdout",
     "output_type": "stream",
     "text": [
      "399 [ 0.  0.  1.] [  1.28163088e-25   8.12872127e-02   9.18712854e-01]\n",
      "川越の『メガガンジャ』さんに訪問です。  狙いは祝日限定ですよ～♪  到着すると先客は8名です。 ちなみに後客は1名でした。。  券売機を見ると貼紙がしてありますね～。  “メガジャージャー麺”ですって。 もちろんソレをポチッとしちゃいまーす！  麺量は250gみたいですし、追い飯もありますので、 食券を手渡す際に｢麺少なめで！｣と伝えます。。  その際にトッピングを確認されます。 無料トッピングはニンニクとカラメとの事で、 ニンニクのみをお願いします。  で、注文後は8分ほどでご対麺です。  では頂きまーす！ 麺は極太でウネリのあるタイプです。 かなりイカツイ感じで、めっちゃ弾力がありますよ。 しっかり噛まないと押し返されちゃいますねぇ～。  麺の底には醤油ベースのタレが溜まってますよ。 ソレ単体では少し塩気が強いように感じましたが、 上から掛けられた肉味噌が甘辛い味になっていますので、 マゼマゼするとちょうどイイ感じになりますね。 ニンニクのパンチが加わる事により、一般的なジャージャー麺と印象が変わりますし、 コレがあるとコチラらしくなりますよｗ  具材は、チャーシュー・肉味噌・白髪ネギ・キュウリ・卵黄・ニンニクです。  チャーシューは炙ってありますので、温かさがありますね。 ホロっと解れる感じもイイですよ。 肉味噌には挽肉の他に椎茸やタケノコが加えられてます。 甘めの味付けで辛さはピリッと程度。 白髪ネギやキュウリが入ると、ジャージャー麺っぽくなりますね～。   で、追い飯をお願いしちゃいまーす♪ すると丼を回収されるンですが、その際にチーズの有無を確認されます。 チーズも無料との事ですので、もちろん入れてもらっちゃいますよｗ  追い飯は半ライスとの記載がありましたので、 少なめを想像してたンですが、茶碗1杯分くらいはありましたね。 タレが結構残りましたので、ライスに万遍なくタレが行き渡りますよ。 挽肉やタケノコの食感もイイですし、とろけるチーズのネットリした感じもイイですねぇ～♪ こりゃ旨いですわｗ レンゲで一気に掻き込みフィニッシュです。   美味しかったです。  最初は830円って高いなぁ～、、なんて思っちゃいましたが、 追い飯の量や無料チーズを考えると妥当に思えちゃいましたね。  また来まーす。  ご馳走さまでした。\n",
      "22 [ 0.  0.  1.] [  8.68441256e-12   8.92922163e-01   1.07077822e-01]\n",
      "平成27年3月18日（水）天気⁑曇り 入店時間⁑PM12時08分ごろ 先客14名、後客8名  店はカウンター席で18人まで入れる。調理場の中にいる男性3人と接客配膳・調理補助の女性1人の計4名で切盛りしていた。入口入って右手奥にある券売機で標記の食券を購入。セルフサービスで水を汲み空いていた席に着き食券を渡す際に麺硬めで注文。待つこと10分ほどで丼着。  具は家系定番の3点セット。スープ表面の油は比較的少なめでスープ自体の色は淡い茶褐色。麺は中太でやや平たいストレートだが軽いウネリもある。麺の製造元は確認できなかった。  食べてみると強烈な豚骨感は無いもののシッカリと旨みのある重厚なスープ。醤油ダレの効かせ方だが直系店としては大人しく評判通り。具のチャーシュー、ほうれん草や海苔のクオリティは様々な先輩レビュアーが高く評価しており詳細は割愛しておくが、チャーシューのカットに波の模様を付ける飾り切りの手法は家系ラーメン店以外でも他に類を見ない。麺の茹で加減は、普通からやや硬めと言った所で麺量は普通ぐらい。硬め指定の割に、さほど硬さはなく、ゴワっとした食感を得られなかったのは残念だった。とは言え、スープとの相性は言うまでもなく抜群で『由緒正しい家系の店の麺』を陰で支える製麺所の実力を改めて再認識。  店の認知度や立地条件を考慮すると、この価格でラーメンを提供するのは立派の一言に尽きる。又、卓上の味変アイテムの豊富さとニンニクを漬け込み、一工夫された酢は直系ならではの嬉しいサービスだ。  ご馳走サンでした！  【補足】 お店情報のメニュー欄に記載された価格から現在は10円値上りしています。\n",
      "821 [ 0.  1.  0.] [  7.65437278e-08   9.30453241e-01   6.95466250e-02]\n",
      "3.15 22:00 水戸で美味しいラーメン＋観光をしたのち、柏で7時から所用があり、その後夕食にて「せい家柏店」さんを初訪問。せい家さんは下北沢や経堂は訪問したことがありますが、こちらは初。店内は満席ではありませんが、常に人が出入りしていて、さすが500円で食べられる家系ですね。カウンター席にて、らーめんを口頭注文。麺は太麺を選択し、コールは麺カタメのみ。待つこと数分で着丼です。  スープは程ほどに豚感があり、ややとろみのある家系で、カエシは適量。油や塩分ともにバランス良く、普通に美味しい家系です。決して安いから、スープが弱くなっているという印象はなく、なかなか好印象です。むしろここより高くて、これより弱い家系なんてたくさんあると思います。麺は中太麺で、茹で加減はややカタメで好みの感じ。あと、他の家系と比べると麺が短めでした。具は、家系定番の海苔3枚、ホウレンソウ、チャーシュー、ネギ少々。各具材とも突出したものはないにしても、500円で他の家系と同等の量と質がしっかりと保たれています。この日は時間も遅かったので、ライスは自重しましたが、間違いなくライスと合うスープです。次回は、ライス頼んでガッツリ食べたいと思います。どうもご馳走様でした。\n",
      "368 [ 0.  1.  0.] [  1.18041419e-06   6.27159104e-02   9.37282920e-01]\n",
      "細麺、昔ながら醤油。 スタンダードラーメンですね。  変わっているのは、デラックスにすると 刻みチャーが丼の底に沢山入ってます。  細麺じゃなくて中麺がやっぱり好きだな〜 個人の好みですが。  ご馳走さまでした^_^\n",
      "891 [ 0.  1.  0.] [  2.87545595e-13   5.63858170e-03   9.94361401e-01]\n",
      "同僚と初めて訪問（同僚は再訪） 開店時間5分後に到着も3名待ち、外のベンチにて連結待ち 約10分で店内ベンチに移動し、その後5分で着席。（かなりの人気店。期待度up） 人気№1表示のある「中華ラーメン　大盛り」と「ランチサービスのご飯」を注文 待つこと5分で着丼 最初の印象は「麺の量の割にはスープ少ない」 早速スープを一口「あれ？　あれれ？　おや？」普通の魚介系スープだ 麺を一口「これも普通だ」 行列にもの凄く期待していた事もあるのか、食べてみてあまりに普通なのでビックリしてしまった。 そこで周りを見わたしてみたら、半分以上の人が「まぜそば」食べてる。 もしかしてやっちゃったのかな？ 同僚もまぜそば食べてるし、食べログやらーめんDBの評価はまぜそばが高いのかも？ ただ決してまずい訳ではないですよ。 改めて表現するなら「可もなく不可もなく」って感じでした。\n",
      "54 [ 0.  0.  1.] [  3.85995826e-17   9.99655724e-01   3.44273401e-04]\n",
      "昨夜の20:05頃、湯島のけいすけでした。前客7、後客3でした。 頼んだのは、いつもの肉盛りつけ麺並800円＋無料の肉増し・温玉。 麺は、いつもの平打ち麺、まずまず。並は200gですが、半分でお願いしました。 つけ汁は、いつものしょっぱくないもの、まずまず。 具は、麺側にたっぷりの豚肉とタマネギのしょうが焼き、カイワレ。つけ汁側に、メンマ3切、刻みタマネギ。別皿で温玉。 後半はレシピ通り、カレー粉、着丼時配備の刻みタマネギ、酢を投入して、味の変化を楽しみました。 今回もしょうが焼きがとっても美味しい一杯でした。\n",
      "364 [ 0.  0.  1.] [  1.60117031e-10   8.95376205e-01   1.04623742e-01]\n",
      "3月19日（木）、ランチで訪問です。  スープは豚骨醤油。 しっかり乳化したスープは旨味抜群。甘く芳醇な豚出汁が口の中に広がる。 そして後に感じる獣臭。長浜で味わったこの無骨な味わいが癖になる。 少し塩気は強すぎる感あり。  麺は縮れのある中太麺。 コールはすべて普通も、少し固めの茹で上がり。 最初はプリプリつるつるした食感、時間がたつと麺肌がざらつきスープの持ち上げも良好になる。 中盛りにしたので量も満足  トッピングは家系定番のほうれん草もなく、若干寂しい。 のりをひたひたにして食べると大変美味。  ずっと気になっていたこちら。これまで味わったことの無い家系の味わいで感激。 ライス頼む人が少ないのもこのスープなら良くわかります。クサウマ最高です。 ごちそうさまでした。  待ち行列：空席1割 訪問時刻：12:25 食始時刻：12:40\n",
      "542 [ 0.  1.  0.] [  2.58485554e-04   1.20327167e-01   8.79414380e-01]\n",
      "餡なし\n",
      "439 [ 0.  1.  0.] [  1.67245440e-09   1.50534362e-01   8.49465728e-01]\n",
      "叉焼がただ分厚いとしかいえないラーメンでした。 麺は普通。 スープは個人的に好きではなかった。 ただ液体を飲んでた気分。  店員さんの雰囲気はよかったです。\n",
      "292 [ 0.  0.  1.] [  2.52864529e-09   8.46854527e-04   9.99153137e-01]\n",
      "ひさしぶりの休日。新規開拓が疎かになっていたのでこの日はチャリ圏にある新店を訪れる。場所的には京急の「生麦駅」から歩いてすぐの場所にある。家からそう遠くはないのですがこの駅の付近は初めて訪れました。   店内に入ると先客１。どうやら二郎系らしい。食券制となっており食券を渡す際にニンニクの有無を聞かれました。注文は小豚を野菜少な目、で。この系統店舗によって量がバラバラ（概ね多いけど）なのでディフェンシブにいくに越したことはありません。調理の際、チャーシューを一枚一枚バーナーで炙っているのが印象的でした。この系統だとそういうことやる店珍しいですよね、多分。   そしてほどなくして配膳。チャーシューの焼き色がなんとも食欲をそそります！具材はもやし、キャベツ、チャーシューは一枚肉の物と小さく刻まれたものがあります。ぱっと見背油も結構な量が入っているように見える。ではさっそくスープから。   ニンニクや背油に侵食されていないところを選んで一口飲むと、乳化は控えめで案外さっぱりしている。ただ、出汁やカエシの味が不足しているわけではなく、そこにニンニクや背油が加わることによりそれなりにジャンク度は増す印象。ただ、方向性としてはライトで食べやすい部類でしょうか。   麺は中太のややうねりのあるタイプの麺でやや固めの仕上がり。二郎系ではうどんっぽい極太麺をやわめの仕上がりで出しているところも多い気がするのですが、あのデロデロした食感がややこの系統苦手な原因の１つとなっています。その点ここの麺はしっかり歯ごたえを感じるタイプのもので最後まで美味しくいただくことができました。また、焼きの入ったチャーシューもやや味付けが濃い目ではありながらも油が活性化されており食べ応え抜群で旨い。強いていえば油が活性化されたことによりラーメン全体の油量が多くなりちょっともたれる印象を受けました。    とはいえ、苦手意識をもっていたこの系統の店ですが実に美味しくいただけました。二郎の去った鶴見区、豚星、豚親分がなくなった神奈川区は二郎系難民が多くいる（気がする）ので、今後多少なりとも注目を浴びてもおかしくなさそうです。個人的にも食べやすいインスパイア系の店の登場は大歓迎なので再訪することがありそうです。   次回はまぜそばっぽい「唐丸そば」を狙うかな。\n"
     ]
    }
   ],
   "source": [
    "# ランダムに１０個ほど予測結果を確認\n",
    "for i in np.random.randint(0,max_rows-train_rows,10):\n",
    "    print(i,Y_test[i],predicted[i])\n",
    "    # ID化したデータを文字列に戻す\n",
    "    ss = str()\n",
    "    for xx in (X_test[i] * 0x1FFFFF).reshape(n).astype(int):\n",
    "        ixx = int(xx)\n",
    "        ss += (ixx.to_bytes((ixx.bit_length() + 7) // 8,'big')).decode(encoding='utf-8')\n",
    "\n",
    "    print(ss)\n",
    "\n",
    "\n"
   ]
  },
  {
   "cell_type": "code",
   "execution_count": 12,
   "metadata": {},
   "outputs": [
    {
     "data": {
      "image/png": "[encoded data removed]",
      "text/plain": [
       "<matplotlib.figure.Figure at 0x7f65d1398978>"
      ]
     },
     "metadata": {},
     "output_type": "display_data"
    }
   ],
   "source": [
    "import os\n",
    "\n",
    "###\n",
    "# 5.学習の可視化\n",
    "###\n",
    "\n",
    "plt.rc('font', family='serif')\n",
    "fig = plt.figure()\n",
    "# 精度\n",
    "ax_acc = fig.add_subplot(111)\n",
    "ax_acc.plot(range(epochs), val_acc, label='acc', color='black')\n",
    "# 損失\n",
    "ax_loss = ax_acc.twinx()\n",
    "ax_loss.plot(range(epochs), val_loss, label='loss', color='gray')\n",
    "plt.xlabel('epochs')\n",
    "#file,ext = os.path.splitext(os.path.basename(__file__))\n",
    "#plt.savefig(file+'.eps')\n",
    "\n",
    "plt.show()"
   ]
  },
  {
   "cell_type": "code",
   "execution_count": null,
   "metadata": {
    "collapsed": true
   },
   "outputs": [],
   "source": []
  }
 ],
 "metadata": {
  "kernelspec": {
   "display_name": "Python 3",
   "language": "python",
   "name": "python3"
  },
  "language_info": {
   "codemirror_mode": {
    "name": "ipython",
    "version": 3
   },
   "file_extension": ".py",
   "mimetype": "text/x-python",
   "name": "python",
   "nbconvert_exporter": "python",
   "pygments_lexer": "ipython3",
   "version": "3.6.1"
  }
 },
 "nbformat": 4,
 "nbformat_minor": 2
}
