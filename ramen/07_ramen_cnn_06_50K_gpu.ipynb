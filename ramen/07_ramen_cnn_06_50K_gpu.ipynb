{
 "cells": [
  {
   "cell_type": "code",
   "execution_count": 2,
   "metadata": {},
   "outputs": [
    {
     "name": "stderr",
     "output_type": "stream",
     "text": [
      "/home/ubuntu/anaconda3/envs/tensorflow_p36/lib/python3.6/site-packages/h5py/__init__.py:36: FutureWarning: Conversion of the second argument of issubdtype from `float` to `np.floating` is deprecated. In future, it will be treated as `np.float64 == np.dtype(float).type`.\n",
      "  from ._conv import register_converters as _register_converters\n",
      "Using TensorFlow backend.\n",
      "/home/ubuntu/anaconda3/envs/tensorflow_p36/lib/python3.6/site-packages/matplotlib/__init__.py:962: UserWarning: Duplicate key in file \"/home/ubuntu/.config/matplotlib/matplotlibrc\", line #2\n",
      "  (fname, cnt))\n",
      "/home/ubuntu/anaconda3/envs/tensorflow_p36/lib/python3.6/site-packages/matplotlib/__init__.py:962: UserWarning: Duplicate key in file \"/home/ubuntu/.config/matplotlib/matplotlibrc\", line #3\n",
      "  (fname, cnt))\n"
     ]
    },
    {
     "name": "stdout",
     "output_type": "stream",
     "text": [
      "2018-03-07 03:21:52.895948 start\n",
      "initializing...\n",
      "max_rows=50000\n",
      "train_ratio=0.9\n",
      "reading data..\n",
      "2018-03-07 03:21:57.553254 10000 rows read .. \n",
      "2018-03-07 03:22:02.092430 20000 rows read .. \n",
      "2018-03-07 03:22:06.178677 30000 rows read .. \n",
      "2018-03-07 03:22:10.309701 40000 rows read .. \n",
      "2018-03-07 03:22:14.317204 50000 rows read .. \n",
      "2018-03-07 03:22:14.317879 total 50000 rows read\n"
     ]
    }
   ],
   "source": [
    "import csv\n",
    "import numpy as np\n",
    "import keras\n",
    "import datetime\n",
    "\n",
    "print(\"%s start\" % datetime.datetime.today())\n",
    "###\n",
    "# 1.データ準備\n",
    "###\n",
    "print(\"initializing...\")\n",
    "n = 8500              # 入力層の要素数(=データの最大文字数)\n",
    "k = 3                 # 出力層の要素数(いくつに分類するか)\n",
    "\n",
    "max_rows = 50000  # 読み取り行数最大\n",
    "train_ratio = 0.9 # 読み取ったデータのうち学習に使う比率\n",
    "print(\"max_rows=%s\" % max_rows)\n",
    "print(\"train_ratio=%s\" % train_ratio)\n",
    "\n",
    "print(\"reading data..\")\n",
    "# numpy.appendは遅いので先にlistに取り込んでからnumpyに展開\n",
    "xlist=[]\n",
    "ylist=[]\n",
    "with open('reviews-ccnn-train-data04.txt', 'r') as f:\n",
    "    reader = csv.reader(f,delimiter = '\\t')\n",
    "#    header = next(reader)  # ヘッダーを読み飛ばしたい時\n",
    "\n",
    "    for i,row in enumerate(reader):\n",
    "        if i >= max_rows:\n",
    "            break\n",
    "#        print(i,row[0],row[1])          # 1行づつ取得できる\n",
    "        if (i+1) % 10000 == 0:\n",
    "            print(\"%s %s rows read .. \" % (datetime.datetime.today(),i+1))\n",
    "        x=[]\n",
    "        for c in row[1]:\n",
    "            x.append(float(np.int.from_bytes(c.encode('utf-8'),'big')))\n",
    "        xx = np.array(x)\n",
    "        xx.resize(n,refcheck=False)\n",
    "        xx = xx.astype('float32')\n",
    "        y = float(row[0])\n",
    "        xlist.append(xx)\n",
    "        ylist.append(y)\n",
    "\n",
    "total_rows = len(xlist)\n",
    "print(\"%s total %s rows read\" % (datetime.datetime.today(),total_rows) )\n",
    "\n"
   ]
  },
  {
   "cell_type": "code",
   "execution_count": 3,
   "metadata": {},
   "outputs": [
    {
     "name": "stdout",
     "output_type": "stream",
     "text": [
      "2018-03-07 03:24:22.200261 train_rows=45000\n",
      "2018-03-07 03:24:22.200367 test_rows=5000\n"
     ]
    }
   ],
   "source": [
    "\n",
    "train_rows = int(total_rows * train_ratio) # 学習に使うデータの行数\n",
    "test_rows = total_rows - train_rows        # 評価に使うデータの行数\n",
    "print(\"%s train_rows=%s\" % (datetime.datetime.today(),train_rows))\n",
    "print(\"%s test_rows=%s\" % (datetime.datetime.today(),test_rows))\n",
    "\n",
    "X=np.zeros((train_rows,n),float) # 学習用入力データの行列\n",
    "Y=np.zeros((train_rows,k),float)  # 学習用出力データの行列\n",
    "X_test=np.zeros((test_rows,n),float) # 評価用入力データの行列\n",
    "Y_test=np.zeros((test_rows,k),float) # 評価用出力データの行列\n",
    "\n"
   ]
  },
  {
   "cell_type": "code",
   "execution_count": 4,
   "metadata": {},
   "outputs": [
    {
     "name": "stdout",
     "output_type": "stream",
     "text": [
      "2018-03-07 03:24:55.534054 initialized\n"
     ]
    }
   ],
   "source": [
    "train_index = 0\n",
    "test_index = 0\n",
    "for i in range(total_rows):\n",
    "    x = xlist[i]\n",
    "    y = ylist[i]\n",
    "#    n_sub_samples = len(x.shape[0]\n",
    "    # 上位train_rows分を学習データ　それ以外を評価データに使う\n",
    "    # ホントはシャッフルしたほうがいい\n",
    "    if i < train_rows:\n",
    "        X[i:i+1,:] = x\n",
    "        Y[i:i+1,:] = keras.utils.np_utils.to_categorical(y, k)\n",
    "    else:\n",
    "        X_test[i-train_rows:i-train_rows+1,:] = x\n",
    "        Y_test[i-train_rows:i-train_rows+1,:] = keras.utils.np_utils.to_categorical(y, k)\n",
    "\n",
    "#X.resize((train_rows,n))\n",
    "#Y.resize((train_rows,k))\n",
    "#X_test.resize((test_rows,n))\n",
    "#Y_test.resize((test_rows,k))\n",
    "\n",
    "# Xを３次元の行列に変換。この意味はわからない・・Kerasの都合か。\n",
    "X=X.reshape(X.shape[0],n,1)\n",
    "X_test=X_test.reshape(X_test.shape[0],n,1)\n",
    "# 正規化\n",
    "X /= 0x1FFFFF\n",
    "X_test /= 0x1FFFFF\n",
    "\n",
    "print(\"%s initialized\" % datetime.datetime.today())\n"
   ]
  },
  {
   "cell_type": "code",
   "execution_count": 5,
   "metadata": {},
   "outputs": [
    {
     "data": {
      "text/plain": [
       "(45000, 8500, 1)"
      ]
     },
     "execution_count": 5,
     "metadata": {},
     "output_type": "execute_result"
    }
   ],
   "source": [
    "# 学習データの件数確認\n",
    "X.shape\n"
   ]
  },
  {
   "cell_type": "code",
   "execution_count": 6,
   "metadata": {},
   "outputs": [
    {
     "data": {
      "text/plain": [
       "(5000, 8500, 1)"
      ]
     },
     "execution_count": 6,
     "metadata": {},
     "output_type": "execute_result"
    }
   ],
   "source": [
    "X_test.shape"
   ]
  },
  {
   "cell_type": "code",
   "execution_count": 8,
   "metadata": {},
   "outputs": [
    {
     "name": "stdout",
     "output_type": "stream",
     "text": [
      "2018-03-07 03:25:50.859390 building model start\n",
      "2018-03-07 03:25:51.036293 model built\n"
     ]
    }
   ],
   "source": [
    "from keras.models import Sequential\n",
    "from keras.layers import Dense, Activation\n",
    "from keras.optimizers import Adadelta\n",
    "#from sklearn import datasets\n",
    "#from sklearn.model_selection import train_test_split\n",
    "import matplotlib.pyplot as plt\n",
    "from keras.layers.core import Dropout\n",
    "from keras.initializers import TruncatedNormal\n",
    "from keras.layers import Flatten, Conv1D, MaxPooling1D\n",
    "\n",
    "###\n",
    "# 2.モデル設定\n",
    "###\n",
    "print(\"%s building model start\" % datetime.datetime.today())\n",
    "kernel_size = (3)\n",
    "model = Sequential()\n",
    "# 入力層\n",
    "model.add(Conv1D(32, kernel_size=kernel_size,\n",
    "                 activation='relu',\n",
    "                 input_shape=(n,1)\n",
    "                 )\n",
    "        )\n",
    "# 畳み込み層\n",
    "model.add(Conv1D(64, kernel_size, activation='relu'))\n",
    "# プーリング層\n",
    "model.add(MaxPooling1D(pool_size=(2)))\n",
    "model.add(Dropout(0.25))\n",
    "model.add(Flatten())\n",
    "model.add(Dense(128, activation='relu'))\n",
    "model.add(Dropout(0.5))\n",
    "# 出力層\n",
    "model.add(Dense(k, activation='softmax'))\n",
    "\n",
    "# 確率的勾配降下法\n",
    "model.compile(loss='categorical_crossentropy', optimizer=Adadelta(), metrics=['accuracy'])\n",
    "\n",
    "print(\"%s model built\" % datetime.datetime.today())\n"
   ]
  },
  {
   "cell_type": "code",
   "execution_count": 9,
   "metadata": {},
   "outputs": [
    {
     "name": "stdout",
     "output_type": "stream",
     "text": [
      "2018-03-07 03:25:55.542395 trainning model start\n",
      "Epoch 1/50\n",
      "45000/45000 [==============================] - 88s 2ms/step - loss: 0.8164 - acc: 0.5230\n",
      "Epoch 2/50\n",
      "45000/45000 [==============================] - 82s 2ms/step - loss: 0.7373 - acc: 0.5479\n",
      "Epoch 3/50\n",
      "45000/45000 [==============================] - 82s 2ms/step - loss: 0.7251 - acc: 0.5638\n",
      "Epoch 4/50\n",
      "45000/45000 [==============================] - 82s 2ms/step - loss: 0.7114 - acc: 0.5807\n",
      "Epoch 5/50\n",
      "45000/45000 [==============================] - 82s 2ms/step - loss: 0.6975 - acc: 0.5963\n",
      "Epoch 6/50\n",
      "45000/45000 [==============================] - 82s 2ms/step - loss: 0.6815 - acc: 0.6148\n",
      "Epoch 7/50\n",
      "45000/45000 [==============================] - 82s 2ms/step - loss: 0.6629 - acc: 0.6335\n",
      "Epoch 8/50\n",
      "45000/45000 [==============================] - 82s 2ms/step - loss: 0.6458 - acc: 0.6478\n",
      "Epoch 9/50\n",
      "45000/45000 [==============================] - 82s 2ms/step - loss: 0.6292 - acc: 0.6575\n",
      "Epoch 10/50\n",
      "45000/45000 [==============================] - 82s 2ms/step - loss: 0.6113 - acc: 0.6756\n",
      "Epoch 11/50\n",
      "45000/45000 [==============================] - 82s 2ms/step - loss: 0.5981 - acc: 0.6838\n",
      "Epoch 12/50\n",
      "45000/45000 [==============================] - 82s 2ms/step - loss: 0.5811 - acc: 0.6929\n",
      "Epoch 13/50\n",
      "45000/45000 [==============================] - 82s 2ms/step - loss: 0.5685 - acc: 0.7037\n",
      "Epoch 14/50\n",
      "45000/45000 [==============================] - 82s 2ms/step - loss: 0.5558 - acc: 0.7121\n",
      "Epoch 15/50\n",
      "45000/45000 [==============================] - 82s 2ms/step - loss: 0.5481 - acc: 0.7172\n",
      "Epoch 16/50\n",
      "45000/45000 [==============================] - 82s 2ms/step - loss: 0.5373 - acc: 0.7229\n",
      "Epoch 17/50\n",
      "45000/45000 [==============================] - 82s 2ms/step - loss: 0.5320 - acc: 0.7253\n",
      "Epoch 18/50\n",
      "45000/45000 [==============================] - 82s 2ms/step - loss: 0.5223 - acc: 0.7306\n",
      "Epoch 19/50\n",
      "45000/45000 [==============================] - 82s 2ms/step - loss: 0.5207 - acc: 0.7357\n",
      "Epoch 20/50\n",
      "45000/45000 [==============================] - 82s 2ms/step - loss: 0.5154 - acc: 0.7359\n",
      "Epoch 21/50\n",
      "45000/45000 [==============================] - 82s 2ms/step - loss: 0.5082 - acc: 0.7407\n",
      "Epoch 22/50\n",
      "45000/45000 [==============================] - 82s 2ms/step - loss: 0.5112 - acc: 0.7399\n",
      "Epoch 23/50\n",
      "45000/45000 [==============================] - 82s 2ms/step - loss: 0.5025 - acc: 0.7436\n",
      "Epoch 24/50\n",
      "45000/45000 [==============================] - 82s 2ms/step - loss: 0.5070 - acc: 0.7418\n",
      "Epoch 25/50\n",
      "45000/45000 [==============================] - 82s 2ms/step - loss: 0.4985 - acc: 0.7457\n",
      "Epoch 26/50\n",
      "45000/45000 [==============================] - 82s 2ms/step - loss: 0.4949 - acc: 0.7483\n",
      "Epoch 27/50\n",
      "45000/45000 [==============================] - 82s 2ms/step - loss: 0.4944 - acc: 0.7491\n",
      "Epoch 28/50\n",
      "45000/45000 [==============================] - 82s 2ms/step - loss: 0.4979 - acc: 0.7504\n",
      "Epoch 29/50\n",
      "45000/45000 [==============================] - 82s 2ms/step - loss: 0.4944 - acc: 0.7509\n",
      "Epoch 30/50\n",
      "45000/45000 [==============================] - 82s 2ms/step - loss: 0.4832 - acc: 0.7579\n",
      "Epoch 31/50\n",
      "45000/45000 [==============================] - 82s 2ms/step - loss: 0.4837 - acc: 0.7581\n",
      "Epoch 32/50\n",
      "45000/45000 [==============================] - 82s 2ms/step - loss: 0.4754 - acc: 0.7622\n",
      "Epoch 33/50\n",
      "45000/45000 [==============================] - 82s 2ms/step - loss: 0.4787 - acc: 0.7599\n",
      "Epoch 34/50\n",
      "45000/45000 [==============================] - 82s 2ms/step - loss: 0.4801 - acc: 0.7602\n",
      "Epoch 35/50\n",
      "45000/45000 [==============================] - 82s 2ms/step - loss: 0.4791 - acc: 0.7598\n",
      "Epoch 36/50\n",
      "45000/45000 [==============================] - 82s 2ms/step - loss: 0.4743 - acc: 0.7626\n",
      "Epoch 37/50\n",
      "45000/45000 [==============================] - 82s 2ms/step - loss: 0.4762 - acc: 0.7647\n",
      "Epoch 38/50\n",
      "45000/45000 [==============================] - 82s 2ms/step - loss: 0.4754 - acc: 0.7623\n",
      "Epoch 39/50\n",
      "45000/45000 [==============================] - 82s 2ms/step - loss: 0.4729 - acc: 0.7640\n",
      "Epoch 40/50\n",
      "45000/45000 [==============================] - 82s 2ms/step - loss: 0.4723 - acc: 0.7633\n",
      "Epoch 41/50\n",
      "45000/45000 [==============================] - 82s 2ms/step - loss: 0.4687 - acc: 0.7666\n",
      "Epoch 42/50\n",
      "45000/45000 [==============================] - 82s 2ms/step - loss: 0.4709 - acc: 0.7664\n",
      "Epoch 43/50\n",
      "45000/45000 [==============================] - 82s 2ms/step - loss: 0.4692 - acc: 0.7664\n",
      "Epoch 44/50\n",
      "45000/45000 [==============================] - 82s 2ms/step - loss: 0.4667 - acc: 0.7657\n",
      "Epoch 45/50\n",
      "45000/45000 [==============================] - 82s 2ms/step - loss: 0.4634 - acc: 0.7692\n",
      "Epoch 46/50\n",
      "45000/45000 [==============================] - 82s 2ms/step - loss: 0.4639 - acc: 0.7685\n",
      "Epoch 47/50\n",
      "45000/45000 [==============================] - 82s 2ms/step - loss: 0.4668 - acc: 0.7667\n",
      "Epoch 48/50\n",
      "45000/45000 [==============================] - 82s 2ms/step - loss: 0.4673 - acc: 0.7674\n",
      "Epoch 49/50\n",
      "45000/45000 [==============================] - 82s 2ms/step - loss: 0.4648 - acc: 0.7691\n",
      "Epoch 50/50\n",
      "45000/45000 [==============================] - 82s 2ms/step - loss: 0.4643 - acc: 0.7697\n",
      "2018-03-07 04:34:08.141381 training finish\n"
     ]
    }
   ],
   "source": [
    "print(\"%s trainning model start\" % datetime.datetime.today())\n",
    "\n",
    "###\n",
    "# 3.モデル学習\n",
    "###\n",
    "epochs = 50     # 学習繰り返し数\n",
    "batch_size = 120\n",
    "hist = model.fit(X, Y, epochs=epochs, batch_size=batch_size,)\n",
    "#               validation_data=(X_validation ,Y_validation))\n",
    "\n",
    "print(\"%s training finish\" % datetime.datetime.today())\n"
   ]
  },
  {
   "cell_type": "code",
   "execution_count": 10,
   "metadata": {},
   "outputs": [
    {
     "name": "stdout",
     "output_type": "stream",
     "text": [
      "2018-03-07 04:41:07.564364 evaluate start\n",
      "5000/5000 [==============================] - 2s 447us/step\n",
      "\n",
      "[1.0103867198944092, 0.5576]\n",
      "[0.816416476726532, 0.7372776266733805, 0.7251264314651489, 0.7113910072644551, 0.6974862470626831, 0.6815450488726298, 0.6629445869127909, 0.6458388900756836, 0.6291937182744344, 0.6112788797219594, 0.5981222999095916, 0.5810786089897155, 0.568480399131775, 0.555777173837026, 0.5480622871716817, 0.537265211502711, 0.5320164902210236, 0.522331578095754, 0.5207004365921021, 0.5154020001888275, 0.5082264243761698, 0.5111613187789917, 0.5025203053951264, 0.5069513363043467, 0.49853061469395954, 0.4948741005261739, 0.4944120168685913, 0.49790511703491214, 0.494375332514445, 0.4831516714890798, 0.483694270213445, 0.47541127681732176, 0.4786805911858876, 0.4800925208727519, 0.47910313057899473, 0.4742628587881724, 0.4762438784440359, 0.4753591423034668, 0.47290304986635845, 0.47233362730344136, 0.4687194232940674, 0.47089035574595134, 0.46924493853251137, 0.46672566898663836, 0.46338009921709694, 0.46389970541000364, 0.4668259893258413, 0.46728229959805806, 0.4647644744714101, 0.4642941994667053]\n",
      "[0.5229999982118606, 0.5479333322842915, 0.5637999981244405, 0.5806888871987661, 0.5963111101786296, 0.6148222216765086, 0.6334888915220896, 0.6478222222328186, 0.6574666659037273, 0.6756444449424743, 0.6838222211201985, 0.692888889948527, 0.7036666666666667, 0.7121111092567444, 0.7171555519104004, 0.7228888872464498, 0.7252666656176249, 0.730600000222524, 0.7356888893445332, 0.7359333324432373, 0.7406888909339905, 0.7399333321253458, 0.7435555556615193, 0.7418444431622823, 0.7457333331108094, 0.7483333342870077, 0.749111111164093, 0.7503777772585551, 0.7509333330790202, 0.7578666671117147, 0.7580888899167378, 0.762200000445048, 0.7599333333969116, 0.7602444450060527, 0.7598222222328186, 0.762600000222524, 0.7646666660308837, 0.7622666651407878, 0.7640444450378417, 0.7633333322207133, 0.7666444449424744, 0.766422222773234, 0.7663777770996094, 0.7657111109097798, 0.7691555562019348, 0.7684666673342387, 0.766688889503479, 0.7673777794837952, 0.7690888907114665, 0.7696888891855875]\n",
      "2018-03-07 04:41:09.801483 evaluate finish\n"
     ]
    }
   ],
   "source": [
    "###\n",
    "# 4-1.評価\n",
    "###\n",
    "print(\"%s evaluate start\" % datetime.datetime.today())\n",
    "loss_and_metrics = model.evaluate(X_test, Y_test)\n",
    "print()\n",
    "print(loss_and_metrics)\n",
    "# 可視化\n",
    "val_loss = hist.history['loss']\n",
    "val_acc = hist.history['acc']\n",
    "print(val_loss)\n",
    "print(val_acc)\n",
    "\n",
    "print(\"%s evaluate finish\" % datetime.datetime.today())\n"
   ]
  },
  {
   "cell_type": "code",
   "execution_count": 11,
   "metadata": {},
   "outputs": [],
   "source": [
    "###\n",
    "# 4-2.予測\n",
    "###\n",
    "\n",
    "predicted = model.predict(X_test)\n"
   ]
  },
  {
   "cell_type": "code",
   "execution_count": 12,
   "metadata": {},
   "outputs": [
    {
     "name": "stdout",
     "output_type": "stream",
     "text": [
      "3975 [0. 1. 0.] [0.00293632 0.7131477  0.28391606]\n",
      "平日のお昼．駅前らしく活気のある店内．ランチメニューの方がお得だとは思ったが，ちょっと寒い日だったので酸辣湯麺を注文． 　やっちまったかと思った．丼からドロドロと餡がたれまくる．周りの視線が気になるほどの盛り具合．さぁと箸を突っ込むが当然麺には届かない．恐る恐る餡がからむ野菜を口にする．熱い．二口目で汗と鼻水が出始める．せっせと具を食べる．素揚げの鶏肉がうまい．たまらず箸をぐっと突っ込んでレンゲと挟んで麺を引き出す．箸が折れそうだ．麺が絡み合ってどうにもこうにも．中細縮れ麺は既にデロデロ．スープは，ほんのり甘めの醤油味にラー油がピリリときて，生姜がほんのり効く．酸味は感じない．結局，固形物の量はそれほどでもなく，終盤あっさり完食．話のネタになる一杯ではある．\n",
      "998 [0. 1. 0.] [4.3542218e-13 6.3210875e-02 9.3678916e-01]\n",
      "宿題の勝浦タンタンメンをソロツーリングで行ってきました。 RDBで勝浦地区１位のこちらに、 1:30少し前に到着。 駐車場が店の横に屋根付きと、 店の前に６台位置けますが、私は屋根付きに！ 邪魔にならないように止めて入店です。  店内はテーブル席しか無く、満席。 ポスターに載ってる店主さんに、 人数を聞かれたので、1人と合図すると、 明らかに嫌な顔をされました(残念) それにもめげずに待つこと10分。 やっと席が空いて案内となり、 表題の物を口頭注文。 直ぐに着丼？ビックリするくらい早いです。  まずはスープから。 醤油ベースの透き通るスープに、 ラー油で炒めた玉ねぎが入りますが、 ほとんど辛さを感じないので、 卓上のラー油で辛味増量！ 出汁は豚骨の様でしっかりコクが有ります。  続いて麺。 加水率低めの中細ストレート麺で、 茹で加減はちょい固めと好みの物。 麺量はそんなに多くないので、 大体150ｇ前後位と思います。 スープのラー油を纏って、啜ると喉越しは良いです。  具材は「ひき肉と玉ねぎのラー油炒め、白髪ネギ」で、 ひき肉は手で細かくしているのか結構大き目。 ラー油も自家製と書いてありましたが、 私としてはもう少し辛くても良いかも。  チャーシューとか入ってないので、CP度は… 結構有名になって、観光客が多いのか、 期待が大きすぎて…………  店主の感じも良くなかったので、 早々に完食し、完飲しないでご馳走様です。  複数だったら良いのかも知れませんが、 １人で来店するなら、 カウンターが有るお店を、しっかりリサーチして行くのが良いと思います。  私は再訪は………無いですね～\n",
      "3534 [0. 0. 1.] [0.02239916 0.40320024 0.57440066]\n",
      "美味い\n",
      "1186 [0. 1. 0.] [0.02715582 0.44674015 0.52610403]\n",
      "オーソドックスな鶏白湯、塩分多め味濃いめ、鶏、豚チャーシュー、中細麺、カウンター席のみ。\n",
      "2526 [0. 0. 1.] [0.02619372 0.4633955  0.5104108 ]\n",
      "いやいや、美味しかったですよ。 ランチは特にお得！ シンプルでクセのない豚骨ラーメンにちっちゃいライスがついてワンコインの500円！ コスパ高いし、チャーシューも薄めだけど美味しかった！ また近く来たら寄ります。\n",
      "3339 [0. 0. 1.] [8.3701417e-04 1.4132522e-01 8.5783774e-01]\n",
      "２月28日、こちら方面は 思いきって来ないとなかなか来られないと思い、早朝からはるばるやって来たよ～遠征！ お仕事＋遠征の師匠に現地で合流。 さっそく私も以前から頂いてみたかった而今へ。 三銃士がお目当てでしたが、メニューは変わっていて無いようです。じゃあ、混ぜそば好きな私はぱすた～麺に味玉で。 連食予定なので特製にはしませんでした(^^;; チケットを購入後、外待ちから まもなく中へ入ります。 カウンター席のみですが、この日は店主さん不在で１人で作られてるので大変ですね～と思ってるうちに着丼。 一見わりとシンプルな感じの印象でしたが、ちょっと混ぜ混ぜして麺を頂くと... うゎー(　ﾟдﾟ)ﾝﾏｯ! 想像を裏切った奥深い味です！ 簡単に言ってしまうと和風の浅利バターみたいな味でしょうか。ふゎーと口の中に広がる味が何とも言えませんね。 ずっと食べていたい味です。 豚レアチャーも美味しいけど、鴨チャーもいいなぁ。鴨好きなんだ～(^ ^)とっても美味しいです。 味玉も付けて良かった～大満足です！ はるばる来たかいがありました！ この味を求めて また来たいな～なかなか来られないけど(;∀;)\n",
      "3079 [0. 1. 0.] [0.02085105 0.4645224  0.51462656]\n",
      "平日の１１時半過ぎに到着。上海蟹の蟹味噌を使っているラーメンがあると聞いて、この度来店。店名から汁無し系がウリかと思ったが、お店のメニューにそのジャンルは無かった。予定通り掲題のメニューをオーダー。替玉は何回でもＯＫというのがすごい。メニューにはお店のスープへのこだわりが書いてあったが、他に無い上海蟹のこだわりはどこにも書いていなかったことが気になった。  出てきた一杯はオレンジ～黄色のスープが個性的で、これが蟹味噌スープなのかと思った。スープを飲んでみると確かに蟹味噌系で、コクのあるスープで美味しいのだが、少しぬるい。温度は残念であるが、蟹味噌の旨みはしっかりしている。それ以外の素材も入っているような入っていないような・・・判別できなかった。正直上海蟹を食べた回数がそんなに無い自分にその時気づいた。スープには粒状のモノがあるが、上海蟹の卵だろうか・・・。麺は白さのある中位の縮れている麺で、食べてみるとツルツルとした麺でコシがあって美味しいのだが、スープとあまり絡んでいない。麺量はデフォでやや少なめであるが、替玉コールでそれを補った。替玉はやや硬めの茹で加減でＧＯＯＤ！食べ進んでいくと徐々に馴染んでいった。替玉は一回でかなり満腹感になった。具材は蟹肉状のモノ・チャーシュー・メンマ・キクラゲ・玉子・水菜・輪切りねぎ。蟹は上海蟹のフレークと蟹味噌が合わされたモノで、食べてみると美味しい！濃い味わいであるが、スープに溶かして食べる仕様なのだろうか・・・よくわからない。チャーシューはいい味わいであるが、肉本来の旨みがあまりない。メンマは太い仕様でいい食感。キクラゲもいい食感でスープと合っている。玉子はよくあるクオリティ。水菜・ねぎも美味しく食べることができた。後半は卓上の辛味を投入すると、これが美味しい！スープも含め完食した。  スープの珍しさや豊富な具材が印象に残る価格相応の美味しい一杯であった。麺も替玉ができてその点は素晴らしいのだが、旨さについては存在感がないことが気になった。そして上海蟹を使った特製のラーメンなら、蘊蓄や指南書がどこかにあってもいいのではないだろうか。上海蟹はレアな食材（と個人的に思っている）なので何かもったいない。スープのぬるさはいつものことかはわからないが、採点の難しい一杯だと思って会計をした。\n",
      "1573 [0. 0. 1.] [3.2275844e-20 6.8158633e-01 3.1841367e-01]\n",
      "らぁめん屋 カネキッチンさんで日月曜限定のらーめんを味わった後、麺友さんと一緒に2軒目へ。 いろいろとご要望をいただいた中から、去年のクリスマスにオープンしたばかりの新進気鋭のお店に向かいます。 せっかく茨城から遠征されているのだから、満足してお帰りいただきたいですからね(*^^*)  12時50分頃到着すると、駐車場は1台の空き。 麺友さんの車を先に停めてもらい待つことおよそ10分、先客が出て来られたのでそちらに停車します。 中に入ると満席で、2人お待ちですね。 先に、食券を購入。 濃厚魚介豚骨もありますが、今回はデフォの醤油らぁめんを選択します。 食券を渡すとき麺の種類を聞かれたので、太麺をコール。 京都棣鄂の全粒粉入り細麺にも興味を惹かれたのですが、つくば松山製麺所のミルフィーユ太麺の魅力の方が上回りました。 大盛でも同じ値段なので、連食にも関わらずお願いしちゃいます。  さらに待つこと10分弱、カウンターが空いたのでそちらに3人並んで着席。 事前につぶやいてたことを告げると、そうだろうと思ったと言われちゃいました^^; その後テーブルが空いたので、そちらに移動します。  店内はカウンター5席に、4人がけテーブル2卓の造り。 表の看板通り矢沢永吉がBGMでしたが、なぜか途中でBOØWYに変わりましたねm(_ _)m 厨房では、店主さんお1人でのオペレーション。 みさえちゃんで有名なお店で修業したとのことなので、自然と期待が高まりますよ。  10分くらいで、着丼。 写真を撮って、いただきマース！  スープは、1軒目と同じく清湯醤油系。 でも見た目は、かなり違いますね。 上質な鶏に野菜や果物で抽出しているとのことで、店主さん拘った通り上品ながらどこかノスタルな雰囲気を漂わせていますヨ(^^)／~~~  麺は中太平打ちの縮れで、量は225g。 コチラの特別仕様かと思ってましたが、麺友さんの話だと松屋でいつも使ってるのと同じだそうです。 70以上の断層をプレスすることで、コシの強さを強調。 ツルモチの食感でスープの絡みも申し分なく、大盛にしてヨカッタ♪  具は、刻みネギ，メンマにチャーシューとシンプル。 チャー最近流行りの、豚肩ロースと鶏ムネ肉です。 ロースは無添加・無保存料の赤ワインに、3日漬け込み熟成。 鶏はイタリア産ハーブ数種と塩を擦り込んで、エキストラバージンオイルでマリネする凝りよう。 修業先とは趣向を変えていて、とってもまいう〜 思ったよりも苦労せずに、完食完飲しちゃいました。  地元県民のくせに麺友さんから教えてもらうまで恥ずかしながらノーマークでしたが、コチラへもご案内した甲斐かあったようなのでよかったです。 棣鄂の麺も味わってみたいし菅野製麺の濃厚魚介豚骨も味わってみたいんで、次なる再訪を狙います。  ごちそうさまデシタ！  といいつつ…\n",
      "1562 [0. 1. 0.] [0.02939414 0.46279016 0.50781566]\n",
      "昼飯で訪問。サービスでライスがもらえる。 そこそこ満足\n",
      "222 [0. 1. 0.] [0.02922955 0.46043456 0.5103359 ]\n",
      "H28.2.7 PM1:30 まぁまぁ。 カドヤ食堂とうえまちと似た醤油ラーメン。 麺は自家製で加水麺で細め。 具はチャーシューメンマ。チャーシューは肉肉しい。メンマは剣先。一緒に食べた汁なし担々麺は薬味が強く味がボケて不味い。\n"
     ]
    }
   ],
   "source": [
    "# ランダムに１０個ほど予測結果を確認\n",
    "for i in np.random.randint(0,max_rows-train_rows,10):\n",
    "    print(i,Y_test[i],predicted[i])\n",
    "    # ID化したデータを文字列に戻す\n",
    "    ss = str()\n",
    "    for xx in (X_test[i] * 0x1FFFFF).reshape(n).astype(int):\n",
    "        ixx = int(xx)\n",
    "        ss += (ixx.to_bytes((ixx.bit_length() + 7) // 8,'big')).decode(encoding='utf-8')\n",
    "\n",
    "    print(ss)\n",
    "\n",
    "\n"
   ]
  },
  {
   "cell_type": "code",
   "execution_count": 13,
   "metadata": {},
   "outputs": [
    {
     "data": {
      "image/png": "[encoded data removed]",
      "text/plain": [
       "<matplotlib.figure.Figure at 0x7fdba7d841d0>"
      ]
     },
     "metadata": {},
     "output_type": "display_data"
    }
   ],
   "source": [
    "import os\n",
    "\n",
    "###\n",
    "# 5.学習の可視化\n",
    "###\n",
    "\n",
    "plt.rc('font', family='serif')\n",
    "fig = plt.figure()\n",
    "# 精度\n",
    "ax_acc = fig.add_subplot(111)\n",
    "ax_acc.plot(range(epochs), val_acc, label='acc', color='black')\n",
    "# 損失\n",
    "ax_loss = ax_acc.twinx()\n",
    "ax_loss.plot(range(epochs), val_loss, label='loss', color='gray')\n",
    "plt.xlabel('epochs')\n",
    "#file,ext = os.path.splitext(os.path.basename(__file__))\n",
    "#plt.savefig(file+'.eps')\n",
    "\n",
    "plt.show()"
   ]
  },
  {
   "cell_type": "code",
   "execution_count": null,
   "metadata": {},
   "outputs": [],
   "source": []
  }
 ],
 "metadata": {
  "kernelspec": {
   "display_name": "Environment (conda_tensorflow_p36)",
   "language": "python",
   "name": "conda_tensorflow_p36"
  },
  "language_info": {
   "codemirror_mode": {
    "name": "ipython",
    "version": 3
   },
   "file_extension": ".py",
   "mimetype": "text/x-python",
   "name": "python",
   "nbconvert_exporter": "python",
   "pygments_lexer": "ipython3",
   "version": "3.6.4"
  }
 },
 "nbformat": 4,
 "nbformat_minor": 2
}
