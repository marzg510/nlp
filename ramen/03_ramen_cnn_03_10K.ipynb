{
 "cells": [
  {
   "cell_type": "code",
   "execution_count": 19,
   "metadata": {
    "scrolled": true
   },
   "outputs": [
    {
     "name": "stdout",
     "output_type": "stream",
     "text": [
      "2018-02-15 00:51:35.336288 start\n",
      "initializing...\n",
      "max_rows=10000\n",
      "train_rows=9000\n",
      "reading data..\n",
      "10000 rows read .. 2018-02-15 00:51:42.520808\n",
      "total 10000 rows read\n",
      "2018-02-15 00:51:43.322484 initialized\n"
     ]
    }
   ],
   "source": [
    "import csv\n",
    "import numpy as np\n",
    "import keras\n",
    "import datetime\n",
    "\n",
    "print(\"%s start\" % datetime.datetime.today())\n",
    "###\n",
    "# 1.データ準備\n",
    "###\n",
    "print(\"initializing...\")\n",
    "n = 8500              # 入力層の要素数(=データの最大文字数)\n",
    "k = 3                 # 出力層の要素数(いくつに分類するか)\n",
    "\n",
    "max_rows = 10000  # 読み取り行数最大\n",
    "train_ratio = 0.9 # 読み取ったデータのうち学習に使う比率\n",
    "train_rows = int(max_rows * train_ratio) # 学習に使うデータの行数\n",
    "test_rows = max_rows - train_rows\n",
    "print(\"max_rows=%s\" % max_rows)\n",
    "print(\"train_rows=%s\" % train_rows)\n",
    "\n",
    "print(\"reading data..\")\n",
    "# numpy.appendは遅いので先にlistに取り込んでからnumpyに展開\n",
    "xlist=[]\n",
    "ylist=[]\n",
    "with open('reviews-ccnn-train-data04.txt', 'r') as f:\n",
    "    reader = csv.reader(f,delimiter = '\\t')\n",
    "#    header = next(reader)  # ヘッダーを読み飛ばしたい時\n",
    "\n",
    "    for i,row in enumerate(reader):\n",
    "        if i >= max_rows:\n",
    "            break\n",
    "#        print(i,row[0],row[1])          # 1行づつ取得できる\n",
    "        if (i+1) % 10000 == 0:\n",
    "            print(\"%s rows read .. %s\" % (i+1,datetime.datetime.today()))\n",
    "        x=[]\n",
    "        for c in row[1]:\n",
    "            x.append(float(np.int.from_bytes(c.encode('utf-8'),'big')))\n",
    "        xx = np.array(x)\n",
    "        xx.resize(n,refcheck=False)\n",
    "        xx = xx.astype('float32')\n",
    "        y = float(row[0])\n",
    "        xlist.append(xx)\n",
    "        ylist.append(y)\n",
    "\n",
    "print(\"total %s rows read\" % (i) )\n",
    "\n",
    "X=np.zeros((len(xlist),n),float) # 学習用入力データの行列\n",
    "Y=np.zeros((len(ylist),k),float)  # 学習用出力データの行列\n",
    "X_test=np.zeros((len(xlist),n),float) # 評価用入力データの行列\n",
    "Y_test=np.zeros((len(ylist),k),float) # 評価用出力データの行列\n",
    "train_index = 0\n",
    "test_index = 0\n",
    "for i in range(len(xlist)):\n",
    "    x = xlist[i]\n",
    "    y = ylist[i]\n",
    "#    n_sub_samples = len(x.shape[0]\n",
    "    # 上位train_rows分を学習データ　それ以外を評価データに使う\n",
    "    # ホントはシャッフルしたほうがいい\n",
    "    if i < train_rows:\n",
    "        X[i:i+1,:] = x\n",
    "        Y[i:i+1,:] = keras.utils.np_utils.to_categorical(y, k)\n",
    "    else:\n",
    "        X_test[i-train_rows:i-train_rows+1,:] = x\n",
    "        Y_test[i-train_rows:i-train_rows+1,:] = keras.utils.np_utils.to_categorical(y, k)\n",
    "\n",
    "X.resize((train_rows,n))\n",
    "Y.resize((train_rows,k))\n",
    "X_test.resize((test_rows,n))\n",
    "Y_test.resize((test_rows,k))\n",
    "\n",
    "# Xを３次元の行列に変換。この意味はわからない・・Kerasの都合か。\n",
    "X=X.reshape(X.shape[0],n,1)\n",
    "X_test=X_test.reshape(X_test.shape[0],n,1)\n",
    "# 正規化\n",
    "X /= 0x1FFFFF\n",
    "X_test /= 0x1FFFFF\n",
    "\n",
    "print(\"%s initialized\" % datetime.datetime.today())\n",
    "\n"
   ]
  },
  {
   "cell_type": "code",
   "execution_count": 20,
   "metadata": {},
   "outputs": [
    {
     "data": {
      "text/plain": [
       "(1000, 8500, 1)"
      ]
     },
     "execution_count": 20,
     "metadata": {},
     "output_type": "execute_result"
    }
   ],
   "source": [
    "# 学習データの件数確認\n",
    "X_test.shape\n"
   ]
  },
  {
   "cell_type": "code",
   "execution_count": 4,
   "metadata": {},
   "outputs": [
    {
     "name": "stdout",
     "output_type": "stream",
     "text": [
      "building model start at 2018-02-14 23:25:29.713694\n",
      "model built at 2018-02-14 23:25:29.999461\n"
     ]
    }
   ],
   "source": [
    "from keras.models import Sequential\n",
    "from keras.layers import Dense, Activation\n",
    "from keras.optimizers import Adadelta\n",
    "from sklearn import datasets\n",
    "from sklearn.model_selection import train_test_split\n",
    "import matplotlib.pyplot as plt\n",
    "from keras.layers.core import Dropout\n",
    "from keras.initializers import TruncatedNormal\n",
    "from keras.layers import Flatten, Conv1D, MaxPooling1D\n",
    "\n",
    "###\n",
    "# 2.モデル設定\n",
    "###\n",
    "print(\"%s building model start\" % datetime.datetime.today())\n",
    "kernel_size = (3)\n",
    "model = Sequential()\n",
    "# 入力層\n",
    "model.add(Conv1D(32, kernel_size=kernel_size,\n",
    "                 activation='relu',\n",
    "                 input_shape=(n,1)\n",
    "                 )\n",
    "        )\n",
    "# 畳み込み層\n",
    "model.add(Conv1D(64, kernel_size, activation='relu'))\n",
    "# プーリング層\n",
    "model.add(MaxPooling1D(pool_size=(2)))\n",
    "model.add(Dropout(0.25))\n",
    "model.add(Flatten())\n",
    "model.add(Dense(128, activation='relu'))\n",
    "model.add(Dropout(0.5))\n",
    "# 出力層\n",
    "model.add(Dense(k, activation='softmax'))\n",
    "\n",
    "# 確率的勾配降下法\n",
    "model.compile(loss='categorical_crossentropy', optimizer=Adadelta(), metrics=['accuracy'])\n",
    "\n",
    "print(\"%s model built\" % datetime.datetime.today())\n"
   ]
  },
  {
   "cell_type": "code",
   "execution_count": 5,
   "metadata": {},
   "outputs": [
    {
     "name": "stdout",
     "output_type": "stream",
     "text": [
      "learning model start at 2018-02-14 23:25:39.641035\n",
      "Epoch 1/12\n",
      "9000/9000 [==============================] - 332s - loss: 0.9809 - acc: 0.5532   \n",
      "Epoch 2/12\n",
      "9000/9000 [==============================] - 327s - loss: 0.7362 - acc: 0.5698   \n",
      "Epoch 3/12\n",
      "9000/9000 [==============================] - 328s - loss: 0.7306 - acc: 0.5759   \n",
      "Epoch 4/12\n",
      "9000/9000 [==============================] - 326s - loss: 0.7184 - acc: 0.5790   \n",
      "Epoch 5/12\n",
      "9000/9000 [==============================] - 325s - loss: 0.7138 - acc: 0.5810   \n",
      "Epoch 6/12\n",
      "9000/9000 [==============================] - 325s - loss: 0.7040 - acc: 0.5927   \n",
      "Epoch 7/12\n",
      "9000/9000 [==============================] - 328s - loss: 0.6885 - acc: 0.6112   \n",
      "Epoch 8/12\n",
      "9000/9000 [==============================] - 331s - loss: 0.6700 - acc: 0.6274   \n",
      "Epoch 9/12\n",
      "9000/9000 [==============================] - 342s - loss: 0.6478 - acc: 0.6517   \n",
      "Epoch 10/12\n",
      "9000/9000 [==============================] - 369s - loss: 0.6175 - acc: 0.6767   \n",
      "Epoch 11/12\n",
      "9000/9000 [==============================] - 421s - loss: 0.5812 - acc: 0.7106   \n",
      "Epoch 12/12\n",
      "9000/9000 [==============================] - 401s - loss: 0.5382 - acc: 0.7383   \n",
      "learned at 2018-02-15 00:35:00.768553\n"
     ]
    }
   ],
   "source": [
    "print(\"%s trainning model start\" % datetime.datetime.today())\n",
    "\n",
    "###\n",
    "# 3.モデル学習\n",
    "###\n",
    "epochs = 12     # 学習繰り返し数\n",
    "batch_size = 120\n",
    "hist = model.fit(X, Y, epochs=epochs, batch_size=batch_size,)\n",
    "#               validation_data=(X_validation ,Y_validation))\n",
    "\n",
    "print(\"%s training finish\" % datetime.datetime.today())\n"
   ]
  },
  {
   "cell_type": "code",
   "execution_count": 22,
   "metadata": {},
   "outputs": [
    {
     "name": "stdout",
     "output_type": "stream",
     "text": [
      "2018-02-15 00:52:49.191995 evaluate start\n",
      "1000/1000 [==============================] - 10s    \n",
      "\n",
      "[0.82522573566436763, 0.51600000000000001]\n",
      "[0.98090441862742106, 0.73621815601984664, 0.73058515151341752, 0.71840133110682169, 0.71384462674458826, 0.70395606040954595, 0.68852680683135992, 0.66996780633926389, 0.64783008654912311, 0.61747752745946249, 0.58122654994328815, 0.53824241439501441]\n",
      "[0.55322221994400023, 0.56977777640024818, 0.57588888724644982, 0.57900000055631007, 0.58099999547004699, 0.59266666611035668, 0.61122222503026324, 0.62744444608688354, 0.65166666507720949, 0.67666666348775228, 0.7105555589993795, 0.73833333174387616]\n",
      "2018-02-15 00:52:59.717492 evaluate finish\n"
     ]
    }
   ],
   "source": [
    "###\n",
    "# 4-1.評価\n",
    "###\n",
    "print(\"%s evaluate start\" % datetime.datetime.today())\n",
    "loss_and_metrics = model.evaluate(X_test, Y_test)\n",
    "print()\n",
    "print(loss_and_metrics)\n",
    "# 可視化\n",
    "val_loss = hist.history['loss']\n",
    "val_acc = hist.history['acc']\n",
    "print(val_loss)\n",
    "print(val_acc)\n",
    "\n",
    "print(\"%s evaluate finish\" % datetime.datetime.today())\n"
   ]
  },
  {
   "cell_type": "code",
   "execution_count": 23,
   "metadata": {
    "collapsed": true
   },
   "outputs": [],
   "source": [
    "###\n",
    "# 4-2.予測\n",
    "###\n",
    "\n",
    "predicted = model.predict(X_test)\n"
   ]
  },
  {
   "cell_type": "code",
   "execution_count": 24,
   "metadata": {},
   "outputs": [
    {
     "name": "stdout",
     "output_type": "stream",
     "text": [
      "460 [ 0.  1.  0.] [ 0.00295908  0.517681    0.47935981]\n",
      "ナビを頼りに店頭にたどりつくとあれ？目的の店の名前が違います。 とりあえず入ってみると、やはり別の店でしたｗ（目的のお店は同じビルのB1でした） なかは結構繁盛していてほぼ満席。 いろいろメニューがありましたが、海老もあったでこちらを 程なくして提供。海老の香りがブワッと広がります。 早速ズバズバ、モチモチの麺がｳﾏｰ。チャーシューは炙られていて香ばしさUP スープはエビがガツンと前に出ていてGOOD! ただザラザラした食感がちと気になりましたね。海老がこせてないのかな。\n",
      "24 [ 0.  1.  0.] [ 0.01848684  0.60881102  0.37270215]\n",
      "何処で食べても、同じ味 たまーに食べたくなるなる\n",
      "156 [ 0.  0.  1.] [ 0.00438532  0.50057077  0.49504384]\n",
      "かなり久しぶりの訪問。 引っ越してから、来る機会もなく実家に戻った際に、食べたくなって行ってきました。  到着時、待ち人はおらずカウンターに少し空きがあっただけ。 相変わらずの人気です。  早々に着席し注文。着丼までに約１５分。  スープは毎度のことながら、抜群のドロドロ感。 麺に非常にからみやすく、あっという間においしく頂きました。 残った付け汁は、スープ割してもらい完飲。  味についての感想ですが、いつも思うのはちょっと塩辛いかもってことです(笑) これは完全に個人の好みなの問題なので仕方ないですが・・・ でも、おいしいことにかわりなしです。\n",
      "787 [ 0.  1.  0.] [  1.76017027e-04   7.79734254e-01   2.20089674e-01]\n",
      "海苔･ネギ･チャーシューなどシンプルな具材のビジュアルです。 スープは鶏ガラベースの動物系に野菜などを加えたあっさり系。 そこに昆布や節系などを使った醤油ダレを加えているそうです。 あっさり寄りで悪くは無いのですが方向性が見えて来ないと言うか バランスがイマイチで美味くも不味くもないそんな印象です。 麺は小林製麺さんの中太寄りの縮れのシンプルな札幌麺です。 茹で具合は良くて札幌麺らしくて良い印象ですがスープが あまり札幌系らしくないせいかあまり合っていない印象を受けます。 チャーシューはほど良く旨みと歯ごたえがあって良い感じです。 （最終実食 2015/02）\n",
      "33 [ 0.  1.  0.] [ 0.07752216  0.44824141  0.47423649]\n",
      "焼きそばを食べてる気がしました。 旨いと思います。\n",
      "303 [ 0.  1.  0.] [ 0.01923403  0.71332031  0.26744565]\n",
      "醤油ラーメンのお店です。 胡椒ではなく、とうがらしが入っています。 このみで、調整できるお店です。\n",
      "23 [ 0.  1.  0.] [  8.18463886e-05   6.54916108e-01   3.45002115e-01]\n",
      "１年振りの此方。 「味噌」との対面は約５年振りである。 もう此方の味噌の味を忘れたので注文。  「味濃いめ」だけをコールした為、 出て来たラーメンは写真のような山！  やってもうた～！！ 此方の盛りが凄かった事を忘れてた。 「野菜少なめ」を頼むべきだった…！  よく見ると、叉焼が以前よりかなりショボくなり、もやし山のてっぺんに一寸だけ乗っているだけ。 又ここ最近30円程全体的に値上がっていたようだが、値も上がり品質は下がるというのは解せない。 ま、それでも730円（醤油は680円）でこのボリュームなのは大食漢には価値があるけど。。。  天地返しするにもモヤシが零れ落ちる程のジャンク山である。麺は平型のテロムニュ麺。 色んな意味でどんどんと本家「二郎」に近付いている気がする。。。  優しい麦味噌の風味。「味濃いめ」を頼んでこの程度なので、豆板醤やニンニクを入れないと パンチのある味には程遠い。レシピは５年前と変わってないと思われるが、自分の舌が肥えたのか、 もうこのくらいの味噌味では全然満足出来なくなっている。。。不味くはないが賛美も出来ない…。  老体にムチ打ち、なんとか固形物は完食出来たが、お腹はパンパンで帰宅後直ぐにトイレへ…！ もうこの手のガッツリ系は年々食べられなくなって来た。安くて大量はやはり若者に任せよう。。。 ご馳走様！\n",
      "894 [ 0.  1.  0.] [ 0.02109523  0.44854322  0.53036159]\n",
      "全体的にさっぱりして美味しい！ だが何か物足りない気が…\n",
      "325 [ 0.  0.  1.] [  3.16281767e-05   5.70670545e-01   4.29297775e-01]\n",
      "真岡にも二郎系が。  ２軒めはこちら。 なかなか評判がいいようなので回ってみた。 カウンターだけで，広い店内にご店主一人だけの営業。 ラーメンは麺量300gほどのようだが，小200gを選び，トッピングを増すことにする。 700円である。 券を渡す時にトッピングを聞かれたので全増しを告げる。 間もなく提供されたのは，かなりの標高の一杯。  麺は自家製とのこと。 ごわもちっとした平打ち気味の極太麺は，しっかりめに茹でられており，好みの加減。 オーション使用と思われるその麺は，小麦の味わいも豊かでなかなかの味わい。 絡んでくるスープは，軽く乳化したもの。 カネシの青ラベルを使っているとのことで，これもかなりのもの。 軽い酸味を感じたが，これは意図的なものだろう。 さっぱり感を出すために，少量酢を入れているのだろうか。 野菜は，キャベ率10％ほどでもやしが主体だが，かなりの量。 茹で具合は軟らかすぎず，硬すぎず。 これぐらいがちょうどいい。 頂上にかけられた脂は，プルッとした半固体。 これも甘みがあっていい感じだ。 野菜の下から出てきた２枚の豚は，やや小ぶりで厚みがあるもの。 少々煮崩れたような軟らかさも，かなり好み。 麺量は200gだからそれほどでもないが，器が大きく（多分300と同じ），野菜の盛りがよかったので，軽く遭難しかけた。 何とか完食して店を後にすることができた。  自家製麺，カネシの青ラベルを使用した，かなり気合の入った本格的二郎インスパイア。 開店から４カ月ほどだが，既に後から後から客が入ってくる人気店になっているのも頷ける。 二郎インスパイアがけっこう多い栃木でも，かなり上位に位置されるのではないだろうか。 ただ，前日いただいた，西新井のＪインスパの出来があまりにもよかったのでつい比較，これぐらいの採点になってしまった。\n",
      "441 [ 0.  1.  0.] [ 0.00793822  0.33741859  0.65464324]\n",
      "3年くらい前に訪れた時はスープにコクがあって美味しいかったですが   今回は醤油のカドがたって しょっぱいです チャーシューも前よりカタイような．．気のせいかな（苦笑）\n"
     ]
    }
   ],
   "source": [
    "# ランダムに１０個ほど予測結果を確認\n",
    "for i in np.random.randint(0,max_rows-train_rows,10):\n",
    "    print(i,Y_test[i],predicted[i])\n",
    "    # ID化したデータを文字列に戻す\n",
    "    ss = str()\n",
    "    for xx in (X_test[i] * 0x1FFFFF).reshape(n).astype(int):\n",
    "        ixx = int(xx)\n",
    "        ss += (ixx.to_bytes((ixx.bit_length() + 7) // 8,'big')).decode(encoding='utf-8')\n",
    "\n",
    "    print(ss)\n",
    "\n",
    "\n"
   ]
  },
  {
   "cell_type": "code",
   "execution_count": 25,
   "metadata": {},
   "outputs": [
    {
     "data": {
      "image/png": "[encoded data removed]",
      "text/plain": [
       "<matplotlib.figure.Figure at 0x7fed4b466978>"
      ]
     },
     "metadata": {},
     "output_type": "display_data"
    },
    {
     "data": {
      "image/png": "[encoded data removed]",
      "text/plain": [
       "<matplotlib.figure.Figure at 0x7fed4b3acdd8>"
      ]
     },
     "metadata": {},
     "output_type": "display_data"
    }
   ],
   "source": [
    "import os\n",
    "\n",
    "###\n",
    "# 5.学習の可視化\n",
    "###\n",
    "\n",
    "plt.rc('font', family='serif')\n",
    "fig = plt.figure()\n",
    "# 精度\n",
    "ax_acc = fig.add_subplot(111)\n",
    "ax_acc.plot(range(epochs), val_acc, label='acc', color='black')\n",
    "# 損失\n",
    "ax_loss = ax_acc.twinx()\n",
    "ax_loss.plot(range(epochs), val_loss, label='loss', color='gray')\n",
    "plt.xlabel('epochs')\n",
    "#file,ext = os.path.splitext(os.path.basename(__file__))\n",
    "#plt.savefig(file+'.eps')\n",
    "\n",
    "plt.show()"
   ]
  },
  {
   "cell_type": "code",
   "execution_count": null,
   "metadata": {
    "collapsed": true
   },
   "outputs": [],
   "source": []
  }
 ],
 "metadata": {
  "kernelspec": {
   "display_name": "Python 3",
   "language": "python",
   "name": "python3"
  },
  "language_info": {
   "codemirror_mode": {
    "name": "ipython",
    "version": 3
   },
   "file_extension": ".py",
   "mimetype": "text/x-python",
   "name": "python",
   "nbconvert_exporter": "python",
   "pygments_lexer": "ipython3",
   "version": "3.6.1"
  }
 },
 "nbformat": 4,
 "nbformat_minor": 2
}
