{
 "cells": [
  {
   "cell_type": "code",
   "execution_count": 8,
   "metadata": {},
   "outputs": [
    {
     "name": "stdout",
     "output_type": "stream",
     "text": [
      "2018-03-07 17:13:29.720925 start\n",
      "2018-03-07 17:13:29.771688 end\n"
     ]
    }
   ],
   "source": [
    "# https://keras.io/ja/layers/embeddings/\n",
    "# 正の整数（インデックス）を固定次元の密ベクトルに変換します． 例）[[4], [20]] -> [[0.25, 0.1], [0.6, -0.2]]\n",
    "# http://kento1109.hatenablog.com/entry/2017/12/02/114515\n",
    "\n",
    "import numpy as np\n",
    "from keras.models import Sequential\n",
    "from keras.layers import Embedding\n",
    "import datetime\n",
    "\n",
    "print(\"%s start\" % datetime.datetime.today())\n",
    "\n",
    "# 20までの数字で10x5の行列生成\n",
    "input_array = np.random.randint(20, size=(10, 5))\n",
    "\n",
    "model = Sequential()\n",
    "# input_dim:入力データの最大インデックス + 1\n",
    "# output_dim: 密なembeddingsの次元数．, \n",
    "# input_length: 入力の系列長（定数）． この引数はこのレイヤーの後にFlattenからDenseレイヤーへ接続する際に必要です (これがないと，denseの出力のshapeを計算できません)．\n",
    "# 入力データの種類が２０までなので、input_dimは20\n",
    "# 1つの入力データを１０次元の蜜ベクトルに変換するのでoutput_dimは10 この数字は多分あまり意味はない?\n",
    "# input_arrayの列数が５なのでinput_lengthは5 多分\n",
    "model.add(Embedding(20, 10, input_length=5))\n",
    "model.compile('rmsprop', 'mse')\n",
    "output_array = model.predict(input_array)\n",
    "\n",
    "print(\"%s end\" % datetime.datetime.today())\n"
   ]
  },
  {
   "cell_type": "code",
   "execution_count": 13,
   "metadata": {},
   "outputs": [
    {
     "data": {
      "text/plain": [
       "array([[ 9,  6,  5,  2, 16],\n",
       "       [11,  2,  2,  6,  9]])"
      ]
     },
     "execution_count": 13,
     "metadata": {},
     "output_type": "execute_result"
    }
   ],
   "source": [
    "input_array[0:2]\n",
    "\n",
    "\n"
   ]
  },
  {
   "cell_type": "code",
   "execution_count": 12,
   "metadata": {},
   "outputs": [
    {
     "data": {
      "text/plain": [
       "array([[[ 0.0184721 , -0.01267653,  0.00904752, -0.03401458, -0.00626581,\n",
       "          0.04169608, -0.03171185, -0.04509391,  0.00818732,  0.03686586],\n",
       "        [-0.02961229, -0.01609151,  0.00980437, -0.01241324, -0.01736271,\n",
       "          0.02143287,  0.01997726,  0.03955896,  0.04194834, -0.03870683],\n",
       "        [-0.03149613,  0.01783235, -0.02435502, -0.01431438,  0.03774481,\n",
       "         -0.04091991,  0.03230638,  0.01057551,  0.04519438, -0.01842938],\n",
       "        [ 0.02854549,  0.01776375, -0.02642847,  0.00162339,  0.03910719,\n",
       "          0.02169157, -0.03408506, -0.04658179,  0.01898718,  0.04598005],\n",
       "        [ 0.04584498,  0.0240326 ,  0.00872178, -0.0119509 , -0.042976  ,\n",
       "         -0.01834314,  0.00218909, -0.04601455, -0.04123963, -0.04438149]],\n",
       "\n",
       "       [[ 0.02111248,  0.03295754, -0.00725074, -0.03979387,  0.00387195,\n",
       "         -0.00638995,  0.02286189,  0.01282528,  0.02937026,  0.04338975],\n",
       "        [ 0.02854549,  0.01776375, -0.02642847,  0.00162339,  0.03910719,\n",
       "          0.02169157, -0.03408506, -0.04658179,  0.01898718,  0.04598005],\n",
       "        [ 0.02854549,  0.01776375, -0.02642847,  0.00162339,  0.03910719,\n",
       "          0.02169157, -0.03408506, -0.04658179,  0.01898718,  0.04598005],\n",
       "        [-0.02961229, -0.01609151,  0.00980437, -0.01241324, -0.01736271,\n",
       "          0.02143287,  0.01997726,  0.03955896,  0.04194834, -0.03870683],\n",
       "        [ 0.0184721 , -0.01267653,  0.00904752, -0.03401458, -0.00626581,\n",
       "          0.04169608, -0.03171185, -0.04509391,  0.00818732,  0.03686586]]], dtype=float32)"
      ]
     },
     "execution_count": 12,
     "metadata": {},
     "output_type": "execute_result"
    }
   ],
   "source": [
    "# input_arrayの一つ一つのデータを１０次元の蜜ベクトルにしたということであろう\n",
    "output_array[0:2]"
   ]
  },
  {
   "cell_type": "code",
   "execution_count": 4,
   "metadata": {},
   "outputs": [
    {
     "data": {
      "text/plain": [
       "array([[17,  9,  1, 11,  5],\n",
       "       [17, 12,  6,  4, 15],\n",
       "       [12, 13, 14, 10,  3],\n",
       "       [19, 19, 16, 16, 17],\n",
       "       [ 7,  9,  3, 13,  2],\n",
       "       [12,  4, 12, 18,  2],\n",
       "       [18, 15,  1,  5, 15],\n",
       "       [ 0,  1, 18,  8,  3],\n",
       "       [11, 18,  8, 10,  6],\n",
       "       [ 6,  5,  3,  4, 17]])"
      ]
     },
     "execution_count": 4,
     "metadata": {},
     "output_type": "execute_result"
    }
   ],
   "source": [
    "# 乱数生成の動作確認\n",
    "import numpy as np\n",
    "\n",
    "# np.random.randint(20)\n",
    "# 20までの数字で10x5の行列生成\n",
    "np.random.randint(20, size=(10, 5))\n"
   ]
  },
  {
   "cell_type": "code",
   "execution_count": 28,
   "metadata": {},
   "outputs": [
    {
     "name": "stdout",
     "output_type": "stream",
     "text": [
      "2018-03-07 17:30:10.349089 start\n",
      "2018-03-07 17:30:10.413181 end\n"
     ]
    }
   ],
   "source": [
    "# 実験\n",
    "import numpy as np\n",
    "from keras.models import Sequential\n",
    "from keras.layers import Embedding\n",
    "import datetime\n",
    "\n",
    "print(\"%s start\" % datetime.datetime.today())\n",
    "\n",
    "# 1-9までの数字で3x2の行列生成\n",
    "input_array = np.asarray([\n",
    "                         [1,2,3],\n",
    "                         [4,5,6]\n",
    "])\n",
    "\n",
    "model = Sequential()\n",
    "# input_dim:入力データの最大インデックス + 1\n",
    "# output_dim: 密なembeddingsの次元数．, \n",
    "# input_length: 入力の系列長（定数）． この引数はこのレイヤーの後にFlattenからDenseレイヤーへ接続する際に必要です (これがないと，denseの出力のshapeを計算できません)．\n",
    "# 入力データの種類が1-6なので、input_dimは7\n",
    "# 1つの入力データを8次元の蜜ベクトルに変換するのでoutput_dimは8 この数字は出力したい次元数\n",
    "# input_arrayの列数が3なのでinput_lengthは3 多分\n",
    "model.add(Embedding(7, 8, input_length=3))\n",
    "model.compile('rmsprop', 'mse')\n",
    "output_array = model.predict(input_array)\n",
    "\n",
    "print(\"%s end\" % datetime.datetime.today())\n"
   ]
  },
  {
   "cell_type": "code",
   "execution_count": 29,
   "metadata": {},
   "outputs": [
    {
     "data": {
      "text/plain": [
       "array([[1, 2, 3],\n",
       "       [4, 5, 6]])"
      ]
     },
     "execution_count": 29,
     "metadata": {},
     "output_type": "execute_result"
    }
   ],
   "source": [
    "input_array"
   ]
  },
  {
   "cell_type": "code",
   "execution_count": 30,
   "metadata": {},
   "outputs": [
    {
     "data": {
      "text/plain": [
       "array([[[-0.00321952, -0.0412927 ,  0.03926912, -0.0098901 ,  0.00121695,\n",
       "         -0.01619692, -0.01308559,  0.01850671],\n",
       "        [-0.03996754, -0.00904243,  0.02582434, -0.00305085,  0.02158827,\n",
       "          0.02144363, -0.00673435,  0.00144339],\n",
       "        [-0.04451327, -0.0247128 , -0.0494037 ,  0.0410302 , -0.00802755,\n",
       "         -0.00798134, -0.00898333,  0.03766738]],\n",
       "\n",
       "       [[-0.00930623, -0.00784091,  0.02067738, -0.04148411,  0.02703779,\n",
       "          0.03211698,  0.01019262, -0.03806993],\n",
       "        [-0.02774885, -0.04228967,  0.04954437, -0.04024577,  0.0248764 ,\n",
       "         -0.012818  , -0.02574583, -0.00921291],\n",
       "        [ 0.01641442, -0.04396258, -0.02723491, -0.02202097,  0.04178537,\n",
       "         -0.04113647, -0.04022508,  0.04269603]]], dtype=float32)"
      ]
     },
     "execution_count": 30,
     "metadata": {},
     "output_type": "execute_result"
    }
   ],
   "source": [
    "# 実行のたびに値が変わるようだ\n",
    "output_array"
   ]
  },
  {
   "cell_type": "code",
   "execution_count": null,
   "metadata": {
    "collapsed": true
   },
   "outputs": [],
   "source": []
  }
 ],
 "metadata": {
  "kernelspec": {
   "display_name": "Python 3",
   "language": "python",
   "name": "python3"
  },
  "language_info": {
   "codemirror_mode": {
    "name": "ipython",
    "version": 3
   },
   "file_extension": ".py",
   "mimetype": "text/x-python",
   "name": "python",
   "nbconvert_exporter": "python",
   "pygments_lexer": "ipython3",
   "version": "3.6.1"
  }
 },
 "nbformat": 4,
 "nbformat_minor": 2
}
