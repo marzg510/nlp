{
 "cells": [
  {
   "cell_type": "code",
   "execution_count": 1,
   "metadata": {
    "scrolled": true
   },
   "outputs": [
    {
     "name": "stderr",
     "output_type": "stream",
     "text": [
      "Using TensorFlow backend.\n"
     ]
    },
    {
     "name": "stdout",
     "output_type": "stream",
     "text": [
      "start at 2018-02-07 17:46:35.746040\n",
      "initializing...\n",
      "max_rows=10000\n",
      "learn_rows=9000.0\n",
      "reading data..\n",
      "500 rows read .. 2018-02-07 17:46:43.006805\n",
      "1000 rows read .. 2018-02-07 17:47:05.322858\n",
      "1500 rows read .. 2018-02-07 17:47:40.611246\n",
      "2000 rows read .. 2018-02-07 17:48:29.904426\n",
      "2500 rows read .. 2018-02-07 17:49:32.607923\n",
      "3000 rows read .. 2018-02-07 17:50:48.720557\n",
      "3500 rows read .. 2018-02-07 17:52:18.203879\n",
      "4000 rows read .. 2018-02-07 17:54:01.454630\n",
      "4500 rows read .. 2018-02-07 17:55:58.240150\n",
      "5000 rows read .. 2018-02-07 17:58:08.588942\n",
      "5500 rows read .. 2018-02-07 18:00:32.411735\n",
      "6000 rows read .. 2018-02-07 18:03:09.620725\n",
      "6500 rows read .. 2018-02-07 18:05:59.951167\n",
      "7000 rows read .. 2018-02-07 18:09:03.912290\n",
      "7500 rows read .. 2018-02-07 18:12:20.665891\n",
      "8000 rows read .. 2018-02-07 18:15:50.455261\n",
      "8500 rows read .. 2018-02-07 18:19:33.853723\n",
      "9000 rows read .. 2018-02-07 18:23:31.112054\n",
      "9500 rows read .. 2018-02-07 18:23:34.156863\n",
      "10000 rows read .. 2018-02-07 18:23:55.462883\n",
      "total 10000 rows read\n",
      "initialized at 2018-02-07 18:23:55.769667\n"
     ]
    }
   ],
   "source": [
    "import csv\n",
    "import numpy as np\n",
    "import keras\n",
    "import datetime\n",
    "\n",
    "print(\"start at %s\" % datetime.datetime.today())\n",
    "###\n",
    "# 1.データ準備\n",
    "###\n",
    "print(\"initializing...\")\n",
    "n = 8500              # 入力層の要素数(=データの最大文字数)\n",
    "k = 3                 # 出力層の要素数(いくつに分類するか)\n",
    "X=np.empty((0,n),float) # 学習用入力データの行列\n",
    "Y=np.empty((0,k),float)  # 学習用出力データの行列\n",
    "X_test=np.empty((0,n),float) # 評価用入力データの行列\n",
    "Y_test=np.empty((0,k),float) # 評価用出力データの行列\n",
    "\n",
    "max_rows = 10000  # 読み取り行数最大\n",
    "learn_ratio = 0.9 # 読み取ったデータのうち学習に使う比率\n",
    "learn_rows = max_rows * learn_ratio # 学習に使うデータの行数\n",
    "print(\"max_rows=%s\" % max_rows)\n",
    "print(\"learn_rows=%s\" % learn_rows)\n",
    "\n",
    "print(\"reading data..\")\n",
    "with open('reviews-ccnn-teacher-data03.txt', 'r') as f:\n",
    "    reader = csv.reader(f,delimiter = '\\t')\n",
    "#    header = next(reader)  # ヘッダーを読み飛ばしたい時\n",
    "\n",
    "    for i,row in enumerate(reader):\n",
    "#        print(i,row[0],row[1])          # 1行づつ取得できる\n",
    "        if (i+1) % 500 == 0:\n",
    "            print(\"%s rows read .. %s\" % (i+1,datetime.datetime.today()))\n",
    "        x=[]\n",
    "        for c in row[1]:\n",
    "            x.append(np.int.from_bytes(c.encode('utf-8'),'big'))\n",
    "        xx = np.array(x)\n",
    "        xx.resize(n,refcheck=False)\n",
    "        xx = xx.astype('float32')\n",
    "        y = float(row[0])\n",
    "        # 上位learn_rows分を学習データ　それ以外を評価データに使う\n",
    "        # ホントはシャッフルしたほうがいい\n",
    "        if i < learn_rows:\n",
    "            X=np.append(X,[xx],axis=0)\n",
    "            Y = np.append(Y,keras.utils.np_utils.to_categorical(y, k),axis=0)\n",
    "        else:\n",
    "            X_test=np.append(X_test,[xx],axis=0)\n",
    "            Y_test = np.append(Y_test,keras.utils.np_utils.to_categorical(y, k),axis=0)\n",
    "        if i > max_rows:\n",
    "            break\n",
    "\n",
    "print(\"total %s rows read\" % (i-1) )\n",
    "\n",
    "# Xを３次元の行列に変換。この意味はわからない・・Kerasの都合か。\n",
    "X=X.reshape(X.shape[0],n,1)\n",
    "X_test=X_test.reshape(X_test.shape[0],n,1)\n",
    "# 正規化\n",
    "X /= 0x1FFFFF\n",
    "X_test /= 0x1FFFFF\n",
    "\n",
    "print(\"initialized at %s\" % datetime.datetime.today())\n"
   ]
  },
  {
   "cell_type": "code",
   "execution_count": 2,
   "metadata": {},
   "outputs": [
    {
     "data": {
      "text/plain": [
       "(9000, 8500, 1)"
      ]
     },
     "execution_count": 2,
     "metadata": {},
     "output_type": "execute_result"
    }
   ],
   "source": [
    "# 学習データの件数確認\n",
    "X.shape"
   ]
  },
  {
   "cell_type": "code",
   "execution_count": 3,
   "metadata": {},
   "outputs": [
    {
     "name": "stdout",
     "output_type": "stream",
     "text": [
      "building model start at 2018-02-07 18:23:56.388952\n",
      "model built at 2018-02-07 18:23:56.611402\n"
     ]
    }
   ],
   "source": [
    "from keras.models import Sequential\n",
    "from keras.layers import Dense, Activation\n",
    "from keras.optimizers import Adadelta\n",
    "from sklearn import datasets\n",
    "from sklearn.model_selection import train_test_split\n",
    "import matplotlib.pyplot as plt\n",
    "from keras.layers.core import Dropout\n",
    "from keras.initializers import TruncatedNormal\n",
    "from keras.layers import Flatten, Conv1D, MaxPooling1D\n",
    "\n",
    "###\n",
    "# 2.モデル設定\n",
    "###\n",
    "print(\"building model start at %s\" % datetime.datetime.today())\n",
    "kernel_size = (3)\n",
    "model = Sequential()\n",
    "# 入力層\n",
    "model.add(Conv1D(10, kernel_size=kernel_size,\n",
    "                 activation='relu',\n",
    "                 input_shape=(n,1)\n",
    "                 )\n",
    "        )\n",
    "# 畳み込み層\n",
    "model.add(Conv1D(20, kernel_size, activation='relu'))\n",
    "# プーリング層\n",
    "model.add(MaxPooling1D(pool_size=(2)))\n",
    "model.add(Dropout(0.25))\n",
    "model.add(Flatten())\n",
    "model.add(Dense(10, activation='relu'))\n",
    "model.add(Dropout(0.5))\n",
    "# 出力層\n",
    "model.add(Dense(k, activation='softmax'))\n",
    "\n",
    "# 確率的勾配降下法\n",
    "model.compile(loss='categorical_crossentropy', optimizer=Adadelta(), metrics=['accuracy'])\n",
    "\n",
    "print(\"model built at %s\" % datetime.datetime.today())\n"
   ]
  },
  {
   "cell_type": "code",
   "execution_count": 4,
   "metadata": {},
   "outputs": [
    {
     "name": "stdout",
     "output_type": "stream",
     "text": [
      "learning model start at 2018-02-07 18:23:56.621491\n",
      "Epoch 1/12\n",
      "9000/9000 [==============================] - 66s - loss: 0.9260 - acc: 0.5332    \n",
      "Epoch 2/12\n",
      "9000/9000 [==============================] - 66s - loss: 0.9059 - acc: 0.5838    \n",
      "Epoch 3/12\n",
      "9000/9000 [==============================] - 66s - loss: 0.8884 - acc: 0.5833    \n",
      "Epoch 4/12\n",
      "9000/9000 [==============================] - 66s - loss: 0.8853 - acc: 0.5839    \n",
      "Epoch 5/12\n",
      "9000/9000 [==============================] - 66s - loss: 0.8764 - acc: 0.5810    \n",
      "Epoch 6/12\n",
      "9000/9000 [==============================] - 66s - loss: 0.8634 - acc: 0.5812    \n",
      "Epoch 7/12\n",
      "9000/9000 [==============================] - 66s - loss: 0.8498 - acc: 0.5819    \n",
      "Epoch 8/12\n",
      "9000/9000 [==============================] - 66s - loss: 0.8440 - acc: 0.5833    \n",
      "Epoch 9/12\n",
      "9000/9000 [==============================] - 67s - loss: 0.8370 - acc: 0.5813    \n",
      "Epoch 10/12\n",
      "9000/9000 [==============================] - 67s - loss: 0.8265 - acc: 0.5823    \n",
      "Epoch 11/12\n",
      "9000/9000 [==============================] - 70s - loss: 0.8254 - acc: 0.5832    \n",
      "Epoch 12/12\n",
      "9000/9000 [==============================] - 69s - loss: 0.8165 - acc: 0.5818    \n",
      "learned at 2018-02-07 18:37:26.695306\n"
     ]
    }
   ],
   "source": [
    "print(\"learning model start at %s\" % datetime.datetime.today())\n",
    "\n",
    "###\n",
    "# 3.モデル学習\n",
    "###\n",
    "epochs = 12     # 学習繰り返し数\n",
    "batch_size = 120\n",
    "hist = model.fit(X, Y, epochs=epochs, batch_size=batch_size,)\n",
    "#               validation_data=(X_validation ,Y_validation))\n",
    "\n",
    "print(\"learned at %s\" % datetime.datetime.today())\n"
   ]
  },
  {
   "cell_type": "code",
   "execution_count": 5,
   "metadata": {},
   "outputs": [
    {
     "name": "stdout",
     "output_type": "stream",
     "text": [
      " 992/1002 [============================>.] - ETA: 0s\n",
      "[0.75002612420422832, 0.52095808395130672]\n",
      "[0.92603411038716632, 0.90594668308893844, 0.88836114645004272, 0.88533145030339555, 0.87635244448979699, 0.86344993352890009, 0.84984836260477703, 0.84395415862401324, 0.8369843260447184, 0.82648702939351404, 0.82542283217112222, 0.81648220141728722]\n",
      "[0.53322222113609319, 0.58377777536710107, 0.58333333174387614, 0.58388888875643408, 0.58099999984105433, 0.58122222383817035, 0.58188888708750408, 0.58333333452542624, 0.58133333404858911, 0.5823333354791006, 0.583222219546636, 0.58177777767181393]\n"
     ]
    }
   ],
   "source": [
    "###\n",
    "# 4-1.評価\n",
    "###\n",
    "loss_and_metrics = model.evaluate(X_test, Y_test)\n",
    "print()\n",
    "print(loss_and_metrics)\n",
    "# 可視化\n",
    "val_loss = hist.history['loss']\n",
    "val_acc = hist.history['acc']\n",
    "print(val_loss)\n",
    "print(val_acc)"
   ]
  },
  {
   "cell_type": "code",
   "execution_count": 6,
   "metadata": {
    "collapsed": true
   },
   "outputs": [],
   "source": [
    "###\n",
    "# 4-2.予測\n",
    "###\n",
    "\n",
    "predicted = model.predict(X_test)\n"
   ]
  },
  {
   "cell_type": "code",
   "execution_count": 7,
   "metadata": {},
   "outputs": [
    {
     "name": "stdout",
     "output_type": "stream",
     "text": [
      "205 [ 0.  0.  1.] [ 0.0581618   0.47248349  0.46935469]\n",
      "すごい美味かった。\n",
      "466 [ 0.  0.  1.] [ 0.02483522  0.42216757  0.55299717]\n",
      "2015.3.21。用で通った道に偶然、目立つ店。昭島市の青樹に行く予定(仮)が、一緒にいた奴が腹へりで、北斗の拳のラオウなみに問答無用で決めた今回の店。「予定は未定」な旅気分、行きたい店は山ほど、通り道には息つく暇もないほどラーメン店があふれてる。今日のラーメンはどんなかな？  食券機のメニューが瞬時に理解しづらい。丼ぶりを待つ間に反スウ。整理すると、魁花ラーメン(塩・醤油)、魁花つけ麺(塩・醤油)がカマス出汁。昔ながらの中華そば(塩・醤油)、つけそばが鶏ガラ出汁。書けばこうなんだが。 つけ系にＺというのがあり、写真が美味しそうで気になった(つけ麺かつけそばか忘れた)。  魁花つけ麺醤油。煮干し系にたまにある、少し生臭い匂い。えぐみ等はなく味は美味しい。瞬時に以前に食べた焼きカマスを思い出すくらいカマス。写真より麺がよれていて嬉しい。具の、定番ぽい海苔やらも、それぞれがお互いに合ってて旨い。 隣席の別客に「Ｚです」と丼が。ああ、Ｚ！迷ったやつだ。具が盛り盛り。つけ汁がこっちのより、なんというか不透明で茶色っぽく見えた。次回の楽しみということで。  うん、旨かった。\n",
      "994 [ 0.  1.  0.] [ 0.00295057  0.4027099   0.59433955]\n",
      "変化進化退化。  長野駅前にある【北海道ラーメン るるも 長野駅前本店】の２号店。 「車で来てもらえる店を」とオープンさせた 、長野の人気店【ら～めん るるも 丹波島店】  モノがものなので先出しだす。  いゃ～４年ぶりの突撃かと。 ごぶゥ～ １３時半ちょい過ぎ、先客１０名、カウンターへ。 平日のランチサービスがある。色々と選択肢はあるのだが「大盛」をチョイス。 因みに他のサービスは「サラダ」とか「餃子」、「ライス」などがあったと思う.. ンで、肝心な主役は３月の「限定」で１日２０食の「数量限定」のモノをイッてみたい。 超久しぶりなので、忘れてしまった基本のモノも気にはなったが「限定」はソレを上回っちゃったのヨ！ 「暮春のおすすめ」で《俺の肉そばシリーズ第二弾！》ッて説明がある。 ソノ名は「俺の肉そば・鶏とろのトマト煮」で～すゥ♪ 早速のコールだ、店員のオネェーにネ～ 常連客と大声ではしゃぐ店主が多分２代目なんだろうと憶測しながら待ってたかなぁ。  ８分ほどで「お待たせしました！」カウンター越しに店主。以前来たときは先代だったハズだが… ビジュアルは、鶏肉とトマトソースのパスタ“～カリカリチーズを添えて～”・・・みたいなミタメ。 タレ、濃厚トマトソース、いや濃厚トマトダレか。酸味と甘味が程好く口内を駆け抜ける。 麺、中太ちぢれ麺。特徴は無い。 具材、刻みホールトマト、ぶつ切り鶏肩肉、カリカリチーズ、とろけるチーズ。 カリカリチーズが香ばしく良いアクセントだ。 トマトパスタの中華麺バージョンって感じで、うまっ！  「鶏とろ」とは鶏一羽から二つしか取れない希少肉で「鶏肩肉」だと.. モモ肉の様にジューシーでムネ肉の様にアッサリしている不思議な味わいが特徴だと続く.. まっ、確かに…  濃厚なトマトとチーズ、ソレだけでも不味いハズがないよネ！ キツめに言っちゃうとパスタの変わりに…辞めた。  「限定」は毎月提供されているみたいだゼ。  「ごちそーさまッ！」会計に向かう。 「ありがとうございます。」店員のオネェー。店主は… ・・・バイバイ..  一斉風靡ッたのに…  もったいないなッ≡≡\n",
      "4 [ 0.  1.  0.] [  2.68112752e-04   3.67541224e-01   6.32190645e-01]\n",
      "３月１７日（火）１２時２０分着。先客９名、後客１名。  水戸の未訪店巡り。 レポ上げ、忘れてましたw。 こちらは、glucose(OG党副総裁)さんに先を越された～。 http://s.ameblo.jp/ktr-12345678/image-12004127570-13250857395.html 店前に１台の駐車スペースがあったので、隣の出前用バイクにぶつけないようにピットイン。 街中華なメニューがズラリ。 http://s.ameblo.jp/ktr-12345678/image-12004127570-13250857402.html 近くの会社員などで賑わっています。 http://s.ameblo.jp/ktr-12345678/image-12004127570-13250857404.html 年配のご夫婦で切り盛り。 http://s.ameblo.jp/ktr-12345678/image-12004127570-13250857412.html 悩みますが、店名を冠したこちらをオーダー。  １５分程で大きめな丼が到着。 http://s.ameblo.jp/ktr-12345678/image-12004127570-13250857414.html それではスープから。 http://s.ameblo.jp/ktr-12345678/image-12004127570-13250857418.html 円やかな醤油の塩気に豚鶏っぽい旨味が感じられます。 出汁はライトですが、スッキリしてて、思ってたより美味しいです。  麺は加水中程度の中細微縮れ麺。 http://s.ameblo.jp/ktr-12345678/image-12004127570-13250857422.html ボイルは過多。 ヌメリも感じつつ、ヤワモチな食感。 味わいは普通。 一口目はテンションダウン．． でも、食べ進めていくと「これでいいのだ」と思えますが、やっぱり柔すぎるような．．  具は白菜、ニンジン、キクラゲ、豚バラ肉、ヤングコーン、ニラ、玉ネギ、ナルト．．え～とです。 http://s.ameblo.jp/ktr-12345678/image-12004127570-13250857426.html 粘度の有る熱々の餡が、タ～ップリ。 でも、餡はコクが無いです。 片栗粉に醤油だけって印象．． 徐々にスープにも溶け込みますが、塩気が増えるだけ．． スタミナの餡とは別物です。 でも、具材のボリュームと熱さは好印象。 食べ終わる頃、カットされた柑橘類のサービスがあり、口中がスッキリ。 http://s.ameblo.jp/ktr-12345678/image-12004127570-13250857429.html  スープは残して終了。 http://s.ameblo.jp/ktr-12345678/image-12004127570-13250857435.html お腹一杯になれました。 ご馳走様です。\n",
      "144 [ 0.  1.  0.] [ 0.05617323  0.41954535  0.52428138]\n",
      "豚骨醤油に太麺にほうれん草、海苔など横浜家系風なビジュアルです。 チューニングは全てノーマルです。スープは白濁した豚骨ベースのもので ほど良く豚骨臭のするワイルドながらサラッとした白濁スープ。 普通に美味しいですが、熱さやキレが少し物足らない印象を受けます。 麺は太麺のストレート麺で茹で時間がかかるタイプの麺です。 少し加水は低めで歯ごたえの良い麺ではありますが普通コールにしては 少し柔くイマイチな食感ですね。少しヌメっとした印象です。 チャーシューは少し厚めでなかなか良い歯ごたえでした。 （最終実食 2015/02）\n",
      "789 [ 0.  0.  1.] [ 0.00444189  0.40756962  0.5879885 ]\n",
      "3月24日、この日の新発田市の天気は荒れていてあられが降って来たりして風も強く寒いです>_<  つけ麺のあつもりをお願いします(^-^)/ ランチはライス無料なのでそちらも^ ^  具はつけ汁にチャーシュー、半味玉、メンマ、モヤシ、ネギ、海苔です！ 麺にはゴマが振りかけられています。  このゴマが振りかけられているのが新潟のお店では結構ありますね！何故かわかりませんが(｡･ˇ_ˇ･｡)ﾑｩ…  動物と魚介スープは2日間煮込んでいるそうですよ( ^ω^ )  チャーシューは大きく柔らかくて美味しいですね（≧∇≦） 半分でも味玉が入っているのは嬉しいです！  麺は特注乱切り麺との事でよく見ると太いのや細いのがありますね！麺の食感が楽しめます♪( ´▽｀) あつもりにしたからか柔らかめで食感がちょっと分かりにくかったテスがσ(^_^;)  スープはサラリとしています！魚介が付くので混ぜると魚介が強くなります。  卓上の自家製唐辛子を入れると辛つけ麺になります！ 少し入れてみましたが結構辛いですね〜(OvO)  スープ割りをもらい完食です( ^ω^ )  ご馳走様でした( ´ ▽ ` )ﾉ\n",
      "447 [ 0.  1.  0.] [ 0.0382833   0.42220467  0.53951204]\n",
      "2015.3.21 13:45初訪問!! 前客15人後客5人～ お座敷に案内され、口頭で正油ラーメンと太麺をオーダー!! 待つこと15分で着丼～ まずはスープ…少し塩気が強いような？ 次は麺・太麺と言うより細目の平打ち麺？ 麺の後味が若干苦手？ カレー系や坦々系の方が人気かな～？ 今度は坦々系を頂いて見ます！\n",
      "654 [ 0.  0.  1.] [ 0.04697686  0.42117339  0.53184974]\n",
      "甘い！そしてしょっぱい！ なるほど、これは美味い！  麺は中太。結構硬いです。 チャーシューはスモーキーな風味が強く、そしてデカイ！美味い！  全体的に、かなり個性的で独特の味です。  隣の兄が花カツオをトッピングすると、大量の鰹節が…。少し分けてもらうとこれまた美味い！ベストマッチな味！  僕自身、個人的にかなりハマった感じです。 近隣の家系ではダントツトップかと。  とりあえず注意事項は、夜中が結構混んでいるということ。 やはり有名な店らしく、バイクで遠路はるばる来た(ような感じの)お客さんが多いです。\n",
      "266 [ 0.  0.  1.] [ 0.04183408  0.42185596  0.53630996]\n",
      "横浜ステキラーメン！  いつも長蛇の列で何度も降られたコチラ「鶏喰～TRICK～」。ランチタイム終了間際に伺うと、店頭の行列はわずか3名。これは「行け」ですね。程なくして女性店員さんが出てきて、「どうぞ～」とお声が掛かります。ステキ！なんとも品のある女性店員さん。もうそれだけでテンションが上がります（こればっかｗ）。  自分のあと3名ほどが入店して暖簾が外されます。ナイスタイミングですね。本日はポールポジションの「鶏の醤油らーめん」を頂きます。「味玉無いけどイイですか？」と後ろ髪を引いてくれますが、本日、既にゆで太郎 長者町店で頂いているので泣く泣くスルーです。 http://sobadb.supleks.jp/review/903367.html  厨房にはイケメン店主とイケメン店員さん。これまたイイお店の絶対条件。素晴らしい接客と、丁寧なオペレーションが素晴らしいです。そのイケメン2人による湯切りもスバラシス。パフォーマンスじゃなく、しっかりと湯切りされております。  さて「鶏の醤油らーめん」。トッピング具材は、青ネギ、鶏肉団子、鶏チャーシュー2種。そして海苔と言うなんともシンプル。先ずはスープを頂くと、鶏香る醤油スープは鶏油の甘みもイイ塩梅。しっかりとコクある感じはゲンコツも入れられてますかね。濃厚ながらスッキリした飲みくちでイイ塩梅です。  麺は三河屋製麺。中細ストレート麺が、しっかりとした歯応えでイイ塩梅です。鶏肉団子は、しっかり店主が都度手作りで作られております。鶏チャーシューも1枚はあっさり、1枚は香ばしくイイ塩梅です。しっかり完食、スープも完飲で、ご馳走様でした！  店名とは裏腹に、誤魔化しの無い旨さ！スバラシス！\n",
      "157 [ 0.  0.  1.] [ 0.10620321  0.40579373  0.48800308]\n",
      "平日昼間に近くのコインＰへ車を停めて訪問。店内に数名待ち客がおられ５分ほどで入店。自販機で、まぜそば：８００円（仕上げ飯付き）を購入しカウンターに座る。開店から数日なのでスタッフ５名（うち女性２名）で営業されてました。約１０分で着丼。武者麺のセカンドブランドで、魚貝を全面に出すメニュー構成。まぜそばも、さかなのミンチ（シーチキンタイプ）と豚肉＆温泉玉子がトッピングされた一品。人気の台湾まぜそばとは違い、ピリ辛感が無いので追い飯との相性は比べると良くはないが、自家製麺も含めとっても美味しく頂きました。ごちそうさまです。\n"
     ]
    }
   ],
   "source": [
    "# ランダムに１０個ほど予測結果を確認\n",
    "for i in np.random.randint(0,max_rows-learn_rows,10):\n",
    "    print(i,Y_test[i],predicted[i])\n",
    "    # ID化したデータを文字列に戻す\n",
    "    ss = str()\n",
    "    for xx in (X_test[i] * 0x1FFFFF).reshape(n).astype(int):\n",
    "        ixx = int(xx)\n",
    "        ss += (ixx.to_bytes((ixx.bit_length() + 7) // 8,'big')).decode(encoding='utf-8')\n",
    "\n",
    "    print(ss)\n",
    "\n",
    "\n"
   ]
  },
  {
   "cell_type": "code",
   "execution_count": 8,
   "metadata": {},
   "outputs": [
    {
     "data": {
      "image/png": "[encoded data removed]",
      "text/plain": [
       "<matplotlib.figure.Figure at 0x7fdcd2917668>"
      ]
     },
     "metadata": {},
     "output_type": "display_data"
    }
   ],
   "source": [
    "import os\n",
    "\n",
    "###\n",
    "# 5.学習の可視化\n",
    "###\n",
    "\n",
    "plt.rc('font', family='serif')\n",
    "fig = plt.figure()\n",
    "# 精度\n",
    "ax_acc = fig.add_subplot(111)\n",
    "ax_acc.plot(range(epochs), val_acc, label='acc', color='black')\n",
    "# 損失\n",
    "ax_loss = ax_acc.twinx()\n",
    "ax_loss.plot(range(epochs), val_loss, label='loss', color='gray')\n",
    "plt.xlabel('epochs')\n",
    "#file,ext = os.path.splitext(os.path.basename(__file__))\n",
    "#plt.savefig(file+'.eps')\n",
    "\n",
    "plt.show()"
   ]
  },
  {
   "cell_type": "code",
   "execution_count": null,
   "metadata": {
    "collapsed": true
   },
   "outputs": [],
   "source": []
  }
 ],
 "metadata": {
  "kernelspec": {
   "display_name": "Python 3",
   "language": "python",
   "name": "python3"
  },
  "language_info": {
   "codemirror_mode": {
    "name": "ipython",
    "version": 3
   },
   "file_extension": ".py",
   "mimetype": "text/x-python",
   "name": "python",
   "nbconvert_exporter": "python",
   "pygments_lexer": "ipython3",
   "version": "3.6.1"
  }
 },
 "nbformat": 4,
 "nbformat_minor": 2
}
