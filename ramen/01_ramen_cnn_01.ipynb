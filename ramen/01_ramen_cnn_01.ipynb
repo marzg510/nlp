{
 "cells": [
  {
   "cell_type": "code",
   "execution_count": 105,
   "metadata": {
    "scrolled": true
   },
   "outputs": [
    {
     "name": "stdout",
     "output_type": "stream",
     "text": [
      "start at 2018-02-07 14:57:15.018681\n",
      "initializing...\n",
      "max_rows=10000\n",
      "learn_rows=9000.0\n",
      "reading data..\n",
      "500 rows read..\n",
      "1000 rows read..\n",
      "1500 rows read..\n",
      "2000 rows read..\n",
      "2500 rows read..\n",
      "3000 rows read..\n",
      "3500 rows read..\n",
      "4000 rows read..\n",
      "4500 rows read..\n",
      "5000 rows read..\n",
      "5500 rows read..\n",
      "6000 rows read..\n",
      "6500 rows read..\n",
      "7000 rows read..\n",
      "7500 rows read..\n",
      "8000 rows read..\n",
      "8500 rows read..\n",
      "9000 rows read..\n",
      "9500 rows read..\n",
      "10000 rows read..\n",
      "total 10000 rows read\n",
      "initialized at 2018-02-07 15:35:33.495813\n"
     ]
    }
   ],
   "source": [
    "import csv\n",
    "import numpy as np\n",
    "import keras\n",
    "import datetime\n",
    "\n",
    "print(\"start at %s\" % datetime.datetime.today())\n",
    "###\n",
    "# 1.データ準備\n",
    "###\n",
    "print(\"initializing...\")\n",
    "n = 8500              # 入力層の要素数(=データの最大文字数)\n",
    "k = 3                 # 出力層の要素数(いくつに分類するか)\n",
    "X=np.empty((0,n),float) # 学習用入力データの行列\n",
    "Y=np.empty((0,k),float)  # 学習用出力データの行列\n",
    "X_test=np.empty((0,n),float) # 評価用入力データの行列\n",
    "Y_test=np.empty((0,k),float) # 評価用出力データの行列\n",
    "\n",
    "max_rows = 10000  # 読み取り行数最大\n",
    "learn_ratio = 0.9 # 読み取ったデータのうち学習に使う比率\n",
    "learn_rows = max_rows * learn_ratio # 学習に使うデータの行数\n",
    "print(\"max_rows=%s\" % max_rows)\n",
    "print(\"learn_rows=%s\" % learn_rows)\n",
    "\n",
    "print(\"reading data..\")\n",
    "with open('reviews-ccnn-teacher-data02.txt', 'r') as f:\n",
    "    reader = csv.reader(f,delimiter = '\\t')\n",
    "#    header = next(reader)  # ヘッダーを読み飛ばしたい時\n",
    "\n",
    "    for i,row in enumerate(reader):\n",
    "#        print(i,row[0],row[1])          # 1行づつ取得できる\n",
    "        if (i+1) % 500 == 0:\n",
    "            print(\"%s rows read .. %s\" % (i+1,datetime.datetime.today()))\n",
    "        x=[]\n",
    "        for c in row[1]:\n",
    "            x.append(np.int.from_bytes(c.encode('utf-8'),'big'))\n",
    "        xx = np.array(x)\n",
    "        xx.resize(n,refcheck=False)\n",
    "        xx = xx.astype('float32')\n",
    "        y = float(row[0])\n",
    "        # 上位learn_rows分を学習データ　それ以外を評価データに使う\n",
    "        # ホントはシャッフルしたほうがいい\n",
    "        if i < learn_rows:\n",
    "            X=np.append(X,[xx],axis=0)\n",
    "            Y = np.append(Y,keras.utils.np_utils.to_categorical(y, k),axis=0)\n",
    "        else:\n",
    "            X_test=np.append(X_test,[xx],axis=0)\n",
    "            Y_test = np.append(Y_test,keras.utils.np_utils.to_categorical(y, k),axis=0)\n",
    "        if i > max_rows:\n",
    "            break\n",
    "\n",
    "print(\"total %s rows read\" % (i-1) )\n",
    "\n",
    "# Xを３次元の行列に変換。この意味はわからない・・Kerasの都合か。\n",
    "X=X.reshape(X.shape[0],n,1)\n",
    "X_test=X_test.reshape(X_test.shape[0],n,1)\n",
    "# 正規化\n",
    "X /= 0x1FFFFF\n",
    "X_test /= 0x1FFFFF\n",
    "\n",
    "print(\"initialized at %s\" % datetime.datetime.today())\n"
   ]
  },
  {
   "cell_type": "code",
   "execution_count": 106,
   "metadata": {},
   "outputs": [
    {
     "data": {
      "text/plain": [
       "(9000, 8500, 1)"
      ]
     },
     "execution_count": 106,
     "metadata": {},
     "output_type": "execute_result"
    }
   ],
   "source": [
    "# 学習データの件数確認\n",
    "X.shape"
   ]
  },
  {
   "cell_type": "code",
   "execution_count": 107,
   "metadata": {},
   "outputs": [
    {
     "name": "stdout",
     "output_type": "stream",
     "text": [
      "building model start at 2018-02-07 15:37:19.398867\n",
      "model built at 2018-02-07 15:37:19.569652\n"
     ]
    }
   ],
   "source": [
    "from keras.models import Sequential\n",
    "from keras.layers import Dense, Activation\n",
    "from keras.optimizers import Adadelta\n",
    "from sklearn import datasets\n",
    "from sklearn.model_selection import train_test_split\n",
    "import matplotlib.pyplot as plt\n",
    "from keras.layers.core import Dropout\n",
    "from keras.initializers import TruncatedNormal\n",
    "from keras.layers import Flatten, Conv1D, MaxPooling1D\n",
    "\n",
    "###\n",
    "# 2.モデル設定\n",
    "###\n",
    "print(\"building model start at %s\" % datetime.datetime.today())\n",
    "kernel_size = (3)\n",
    "model = Sequential()\n",
    "# 入力層\n",
    "model.add(Conv1D(10, kernel_size=kernel_size,\n",
    "                 activation='relu',\n",
    "                 input_shape=(n,1)\n",
    "                 )\n",
    "        )\n",
    "# 畳み込み層\n",
    "model.add(Conv1D(20, kernel_size, activation='relu'))\n",
    "# プーリング層\n",
    "model.add(MaxPooling1D(pool_size=(2)))\n",
    "model.add(Dropout(0.25))\n",
    "model.add(Flatten())\n",
    "model.add(Dense(10, activation='relu'))\n",
    "model.add(Dropout(0.5))\n",
    "# 出力層\n",
    "model.add(Dense(k, activation='softmax'))\n",
    "\n",
    "# 確率的勾配降下法\n",
    "model.compile(loss='categorical_crossentropy', optimizer=Adadelta(), metrics=['accuracy'])\n",
    "\n",
    "print(\"model built at %s\" % datetime.datetime.today())\n"
   ]
  },
  {
   "cell_type": "code",
   "execution_count": 108,
   "metadata": {},
   "outputs": [
    {
     "name": "stdout",
     "output_type": "stream",
     "text": [
      "learning model start at 2018-02-07 15:37:26.010625\n",
      "Epoch 1/12\n",
      "9000/9000 [==============================] - 78s - loss: 0.8525 - acc: 0.7154    \n",
      "Epoch 2/12\n",
      "9000/9000 [==============================] - 74s - loss: 0.6758 - acc: 0.8882    \n",
      "Epoch 3/12\n",
      "9000/9000 [==============================] - 75s - loss: 0.6390 - acc: 0.8882    \n",
      "Epoch 4/12\n",
      "9000/9000 [==============================] - 69s - loss: 0.6166 - acc: 0.8882    \n",
      "Epoch 5/12\n",
      "9000/9000 [==============================] - 69s - loss: 0.6006 - acc: 0.8882    \n",
      "Epoch 6/12\n",
      "9000/9000 [==============================] - 69s - loss: 0.5821 - acc: 0.8882    \n",
      "Epoch 7/12\n",
      "9000/9000 [==============================] - 69s - loss: 0.5713 - acc: 0.8882    \n",
      "Epoch 8/12\n",
      "9000/9000 [==============================] - 70s - loss: 0.5504 - acc: 0.8882    \n",
      "Epoch 9/12\n",
      "9000/9000 [==============================] - 70s - loss: 0.5318 - acc: 0.8882    \n",
      "Epoch 10/12\n",
      "9000/9000 [==============================] - 70s - loss: 0.5104 - acc: 0.8882    \n",
      "Epoch 11/12\n",
      "9000/9000 [==============================] - 70s - loss: 0.4970 - acc: 0.8882    \n",
      "Epoch 12/12\n",
      "9000/9000 [==============================] - 71s - loss: 0.4858 - acc: 0.8882    \n",
      "learned at 2018-02-07 15:51:46.436799\n"
     ]
    }
   ],
   "source": [
    "print(\"learning model start at %s\" % datetime.datetime.today())\n",
    "\n",
    "###\n",
    "# 3.モデル学習\n",
    "###\n",
    "epochs = 12     # 学習繰り返し数\n",
    "batch_size = 120\n",
    "hist = model.fit(X, Y, epochs=epochs, batch_size=batch_size,)\n",
    "#               validation_data=(X_validation ,Y_validation))\n",
    "\n",
    "print(\"learned at %s\" % datetime.datetime.today())\n"
   ]
  },
  {
   "cell_type": "code",
   "execution_count": 109,
   "metadata": {},
   "outputs": [
    {
     "name": "stdout",
     "output_type": "stream",
     "text": [
      " 992/1002 [============================>.] - ETA: 0s\n",
      "[0.41123545419670149, 0.86626746483191763]\n",
      "[0.85251361529032388, 0.67576604207356772, 0.63903077602386471, 0.6166468711694082, 0.60064520120620724, 0.58214507063229881, 0.57126584251721702, 0.55036017417907712, 0.53180311004320779, 0.51039050102233885, 0.49696995496749879, 0.48578930894533795]\n",
      "[0.71544444719950362, 0.88822222630182901, 0.88822222312291466, 0.88822222232818604, 0.88822222550710039, 0.88822222550710039, 0.88822222312291466, 0.88822222471237178, 0.88822222550710039, 0.88822222232818604, 0.88822222232818604, 0.88822222391764327]\n"
     ]
    }
   ],
   "source": [
    "###\n",
    "# 4-1.評価\n",
    "###\n",
    "loss_and_metrics = model.evaluate(X_test, Y_test)\n",
    "print()\n",
    "print(loss_and_metrics)\n",
    "# 可視化\n",
    "val_loss = hist.history['loss']\n",
    "val_acc = hist.history['acc']\n",
    "print(val_loss)\n",
    "print(val_acc)"
   ]
  },
  {
   "cell_type": "code",
   "execution_count": 110,
   "metadata": {
    "collapsed": true
   },
   "outputs": [],
   "source": [
    "###\n",
    "# 4-2.予測\n",
    "###\n",
    "\n",
    "predicted = model.predict(X_test)\n"
   ]
  },
  {
   "cell_type": "code",
   "execution_count": 111,
   "metadata": {},
   "outputs": [
    {
     "data": {
      "text/plain": [
       "array([ 0.00277503,  0.13273244,  0.86449248], dtype=float32)"
      ]
     },
     "execution_count": 111,
     "metadata": {},
     "output_type": "execute_result"
    }
   ],
   "source": [
    "predicted[672]\n"
   ]
  },
  {
   "cell_type": "code",
   "execution_count": 112,
   "metadata": {},
   "outputs": [
    {
     "data": {
      "text/plain": [
       "array([ 0.,  0.,  1.])"
      ]
     },
     "execution_count": 112,
     "metadata": {},
     "output_type": "execute_result"
    }
   ],
   "source": [
    "Y_test[672]"
   ]
  },
  {
   "cell_type": "code",
   "execution_count": 115,
   "metadata": {},
   "outputs": [
    {
     "data": {
      "text/plain": [
       "1.0"
      ]
     },
     "execution_count": 115,
     "metadata": {},
     "output_type": "execute_result"
    }
   ],
   "source": [
    "Y_test[672][2]"
   ]
  },
  {
   "cell_type": "code",
   "execution_count": 172,
   "metadata": {},
   "outputs": [
    {
     "name": "stdout",
     "output_type": "stream",
     "text": [
      "989 [ 0.  0.  1.] [ 0.01953401  0.18816774  0.7922982 ]\n",
      "マー油の効いた非常に旨いラーメンです^_^ 熊本ラーメンと博多ラーメンの違いが良く分かるラーメンだと思います。 チャーシューも小ぶりですが、旨味タップリですなぁ〜 サイドのチャーハンも抜かり無く旨いです！\n",
      "585 [ 0.  0.  1.] [  9.01596422e-07   6.52203744e-04   9.99346912e-01]\n",
      "もう随分と春めいて、天気が良かったりすると気もそぞろな感じになります。穏やかな気持ちでおられるのも、３月末までだろうな・・・と思うと大変貴重な週末。家庭の頼まれごとをささっと午前中に済まして、午後は本屋とコーヒーショップでまったりと過ごして、小腹が空いたということで、おやつ代わりに・・・・宝ソバを頂きました。「宝華らぁめんの油そば」と「中華料理宝華の宝ソバ」と何が違うのか、私にもよく分からないのですが、本店プレミアムの醍醐味ということでございましょうか。武蔵野エリアの代表作「油そば」を、まったりと味わい過ごした春の日でした・・・。  （外観）http://photozou.jp/photo/show/1985094/220171014    【店：大衆中華屋のポリシー感じる威勢の良さがいいね〜！】   　らっしゃいませ〜！、ぁーざしたーー！　などと厨房の中のお兄さんたちの勇ましさ。春ののどかな気分と合わないようで、その大衆お気楽歓迎ぶりが、妙に馴染む東小金井駅前です。一人客はテーブル席がどれだけ空いていようとも、カウンター席に誘導されます。それも詰めるように指示されますが、毎度ことなので常連なる先客や後客たちと「あ、ども」ってな感じでパーソナルスペースを自ら微調整はおてのもの。全員、宝ソバという趣向の完全一致。「お互い好きですな・・・（ニヤリ）」などといった無言で暗黙知を共有します。それにしても話は変わるが、製造原価は低いだろうな〜・・・。こういう製品戦略をいちいち考えなくても勝ち組、金のなる木、競争優位なる一品に、見事に吸い寄せられる私は、思う壺の虫けらですね。  （メニュー）http://photozou.jp/photo/show/1985094/220171052      【タレ：作りたてのドレッシングが美味いと感じるように、出来立てのシンプル醤油ダレの鮮度が際立つ】   　油そばの宝華版で「宝ソバ」。確かに、少しラード多めで、汁無しとはいえ少しタレ多めなのがこのブランドの特徴です。クリアな醤油ダレの軽い塩気と、ほのかに調味料の感覚がライトに広がり、化調がさっぱりとしているという皮肉さが逆に清々しいと感じる味わい。ラードがカメリア系のようなサラサラ感があって、植物油かとも思えるほどに軽やか。タレを眺めると、醤油ダレと香味オイルの分離が見て取れるよう。  （麺顔全景）http://photozou.jp/photo/show/1985094/220171079   　　　まるで醤油ドレッシングのようなすっきりとした味わい！食位進めるほどに攪拌されて円やか・・・・   　マコーミックのフレンチドレッシングのごときの綺麗な分離と攪拌融合が、なんとも美味い！　味わいは、正直申して「宝華らぁめん」とそう違いも感じることはできず。しかし、宝ソバ元祖のオーラといったものは何となく感じて、味わいの円やかを余裕の味わいと贔屓めに感じてしまう。元祖・本家至上主義な私ですね・・・・。  （タレアップ）http://photozou.jp/photo/show/1985094/220171135      【麺：ライトなラードでニュルニュルっとしたスベリが、カイワレ菜を巻き込んみ、ネギみじんをはべらす】   　麺の多加水さが本当に映えるね〜。決してプリプリモチモチが生きがいではありませんが、歯ごたえがクチリと淡白に潰れる一方で、そのしなり度合いは大変柔らかで、万人ウケすること請け合いです。密度感もライト。そこにライトなクリスタルラードがさーーーーっと入り混じるので、すする完食は汁麺よりも滑らかではないかと思えるほど。   　　　巻き込んだカイワレと薬味ネギのシャリっとした歯ごたえと、フレッシュな苦味が、オイルまみれを中和する！   　油そばは、ライトな食べ物。そのライトに印象づけるのが、実は油だったりする。これを再認識。そして引っかかってくるカイワレとネギが、単なる薬味ではなく、油の中和役割という使命を帯びていることも再認識。油とネギ（＆カイワレ）の役割分担が後になって考えさせられます。先日食った、宝華らぁめんの「おろし油そば」は、大根おろしが中和の最大限を表現しているのでしょうね。麺と絡ませながら、攪拌という中和作戦だったのね。  （麺アップ）http://photozou.jp/photo/show/1985094/220171147      【具：うほ！こんなに肉厚であったか・・・チャーシューの良さを再発見！！】   　まあ、いつもながらのロース肉です。しかし今回は大変肉厚であり、また片面炙りがとても香ばしく、ここまでの出来栄えだったか？と再認識でした。これは・・・・・次回は、他チャーシュー油そばへの意欲を誘いますな。肉厚ぶりと香ばしさが両方あって、旨さに閉口してしまいました。油そばは、チャーシューが美味くないと成立しないのね・・・。  （チャーシュー）http://photozou.jp/photo/show/1985094/220171121      　総じまして、「毎週末食うほどに、武蔵野エリアのまさに定番」なる一杯ですな。武蔵境と東小金井のあたりは、武蔵野ののどかさと再開発の勢いを感じるまさに注目エリア。そんなところに土着の名物麺があるので、最近若い人の訪問が多くなっていると感じます。街自体の新陳代謝を感じるし・・・。こういう雰囲気が春の躍動感につながるのか、なぜか散歩したくなるのよね〜。夏は、ビール片手に油そばってのもオツだし。今年はこの一杯を食う頻度が上がるかも。ともあれ、寛ぎと和みの味わいでありました。なので詠います！    　　　昼下がり 　　　彼岸陽射しに 　　　誘われて   　　　春風のって 　　　チャリっとラ活    　お粗末！と言うことで家族にも感謝しながら合掌！！今日も本当にごちそうさまでした！！！\n",
      "370 [ 0.  0.  1.] [  6.65504951e-04   4.70811911e-02   9.52253342e-01]\n",
      "ちょりーっす！  任天堂の株がきてるね〜！  スカイマークはミニスカまではよかったが終了ち〜ん（涙）  持ち越した株はどうなるのだろうーか？？  今宵はこちらの、うまいつけ麺の後は反対口までいって、ちゃんねえ〜に貢いできマッスル富岡（爆）  しかし昨日、超〜久々にデ●したらレベルの高さに驚き！轟き！  つけまつげ、カラコン、ストッキング、の三種のちん器と若さを武器にされたら、もはや神！！  やべーはんぱねーラーメンの次にはまりそう（爆×１００００００００）  しかも最近の若いのはテクも小野伸二クラス（超絶パスきます）  あっ！  またまた話それた（照笑）  ここの麺はツルツル、シコシコで美味いし、スープも接客も最高！何度きても飽きないし！  後はCPかな〜まあ最近はどこもトッピングすると１０００円越え、愛車のベンツの駐車料金もいれると やや高いランチかな〜でもぜひご来店を！うまいよ❤  ばいちゃ❤\n",
      "175 [ 0.  0.  1.] [  8.91984266e-04   6.75691217e-02   9.31538880e-01]\n",
      "3/15（日）9：30　前1後4　  島田の麺屋 燕のセカンドブランド。男性2名女性1名で切盛り。券売機でデフォと迷った末、標記限定をセレクト。  朝顔を思わせる胴体は細く口が大きく開いた丼でシルバーの受け皿を伴い登場。この丼は見た目は映えるがスープ量は何気に少ないように思われる。厚みのある鶏白湯に味噌ダレが強めに効いたパンチのあるスープで、ピリ辛風味もある。動物系は豚ではなく鶏だからか、厚みはあるが、強すぎずあくまでも味噌ダレが前面にでていて、濃厚ながらバランス感覚の良い仕上がりでなかなかおいしい。  細ストレートは若干柔めだが許容範囲。スープが強いので、もう一回り太い方が合うんじゃないかな。  具は、味噌には余り見ない海苔。木耳。固ゆで半熟の間ぐらいのゆで具合の玉子半分。もう少し黄味が溶け出すようなものだと嬉しい。中薄で小ぶりのチャーシューが2枚。脂身がつき、軟らかくまずまずおいしかった。  メニューが豊富でほかのメニューも試してみたい。\n",
      "782 [ 0.  0.  1.] [  4.08848515e-04   5.11693917e-02   9.48421717e-01]\n",
      "今回は割とリアルタイムなレビューUP！  先週末の2015-3-21春分の日に祝日限定メニューとして提供されました。  【メガジャージャー麺（追い飯付き）¥830】 pm2:40過ぎ頃に昼営業の外待ち5人にドッキング。 丁度入れ替わりタイムだったみたいなので10分位のwaiting timeにてチケットを購入しつつ着席出来まして着丼を待ちます。  私、ジャージャー麺は15歳の時に横浜にて出逢って以来結構ハマっちゃっておりまして今迄色々なお店で食べてきました。  ジャージャー麺は基本的には麺の上に挽肉餡と千切りキュウリってのが大凡定番ですね。 コチラの『メガジャージャー麺』も基本は一緒ですがコレにチャーシュー、白髪葱、微塵切りニンニク、辛味、卵黄が載せられてバラエティー豊かな華やかなスタイルにて提供されておりますね。 甜麺醤で味付けされた挽肉餡には椎茸と刻まれたタケノコも混ぜられておりました。  いただいてみた感想は食べ応え満載の如何にもメガらしい“ジャージャー麺”。 ニンニク・辛味は掻き混ぜると間違いなく『メガジャージャー麺』になりました。  …でも、なんだかチョイと甘旨いジャージャー麺からは多少イメージが掛け離れる感がありますね。 なので刻みニンニクと辛味は別皿提供が良かった鴨しれませんね。  まぁ、『メガジャージャー麺』だからこれはコレで“アリ”な出来映えですね！ とっても具沢山でスタミナつく素晴らしい限定メニューですね！！  追い飯にチーズのトッピングがまた抜群なサービスでこの辺りは大変満足のいく内容でしたね。  また次の限定メニューもとっても楽しみにしておりますね！  ごちそう様でした！\n",
      "695 [ 0.  0.  1.] [ 0.01932481  0.27813494  0.70254028]\n",
      "春限定メニューは皮も含め煮出したごぼう汁と鶏白湯のラーメンだそうな！ ごぼう茶並の薬効も期待出来る様ですが、スープの濃さ、盛りは選べないみたい。湯で加減とレモンの有り無しはいつも通り聞いて下さいました。  いつものノーマルのトッピングに加えてごぼうチップとごぼう風味の焦がし油。 スープを口にすると、ほんのり、でもしっかりとしたごぼうの味わい、そしてとても優しい鶏白湯。 泥臭さが残ってたら嫌だなぁというのは杞憂で、上品過ぎる位上品な味わい。  普段超濃厚しか食べていないので口当たりの軽さに吃驚しました。あっさりをベースに作られているのでしょうか？ 焦がし油もクドく無く、油脂と言うよりはオリーブオイルの様なまったり感。 ごぼうチップも主張は控え目で、いつも通り塩分は控え目の優しいあっさりとした一杯でした。 どの卓上アイテムとも相性が良かったのが楽しかったです。\n",
      "887 [ 0.  0.  1.] [  2.85050017e-04   4.14303169e-02   9.58284616e-01]\n",
      "平成27年3月25日（水）天気⁑晴れ 入店時間⁑AM11時22分ごろ 先客ナシ、後客ナシ  店はカウンターとテーブル席で20人ぐらい入れる。調理場の中にいる店主と思しき女性1名で全てを切盛り。入口を入ると券売機は無く、空いていたテーブル席に着くと水を持って来てくれた。壁に掲示されたメニューから標記の品を注文し待つこと9分ほどで丼着。  具はメンマ、ナルト、ワカメ、チャーシューが1切れと刻みネギ。スープ表面の油は比較的多めで琥珀色よりも薄い清湯スープ。麺は細麺で断面は四角く縮れている。麺肌は艶があり少し黄色っぽいもの。麺の製造元は確認出来なかった。  食べてみると出汁感は弱くスープのベースはハッキリしないが昆布や野菜を中心とした乾物系だろうか。醤油ダレの効かせ方も弱く塩分も控えめで全体的には、かなり穏やかなスープに仕上げてある。具のメンマはコリコリ感のあるオーソドックスなもの。ワカメは磯臭さはなく量も適量。チャーシューは巻きバラで厚さは5mmぐらいのカット。肉質は柔らかく、甘めの味付けで美味しかった。麺の茹で加減は少し柔らかめで麺量は普通ぐらい。プリシコなタイプに見えたが実際はモッサリした食感で終盤はダレ気味に。  ラーメン単体としてみればデフォで550円という価格を考慮しても、まあまあ滋味に旨い。このセットには写真の通りミニカレーとミニサラダも付く。ミニカレーはミニと言いながらソコソコのボリュームと美味しさがありトータル的な満足度としても、まずまずと言えよう。  ご馳走サンでした！\n",
      "25 [ 0.  0.  1.] [ 0.00247423  0.08742308  0.91010273]\n",
      "2015年3月18日   浜松町での打ち合わせを終えてお昼。 ちょっと歩いたけど、つけ麺が食べたくて訪問。  どろりとした濃厚なつけ汁。 魚介もしっかり感じるが少々塩辛い感じ。個人的には好きなので問題ないけどちょっと強すぎるかな？ もちもち太麺は食感は良いけど小麦の感じは弱め。それはそれで悪くないけどこのつけ汁と合わせると負けちゃうかな？ちょっともったいないかも。 具はかなり寂しい感じ。特にメンマは1本しか入っていないのかと思った（笑） ※もちろん、もう少し入ってました。  よくあるポタージュ系つけ麺ではあるけど、並びも少なくてたまに食べるには良いと思う。 浜松町での仕事もしばらく続くからまた行こう。 ごちそうさまでした。\n",
      "350 [ 0.  0.  1.] [ 0.00159197  0.10230272  0.89610535]\n",
      "つけ麺専門店 風雲堂(ﾌｳｳﾝﾄﾞｳ) ☆☆☆．８（新板橋・板橋） 味噌つけ麺７８０円 Winds and Clouds Hall 味噌つけ麺（中盛）戴きました。 麺は角中細ストレート（平打気味）のエッジに確りした尖りがある、盛岡冷麺の様なこちらも確りしたコシがあるとても喉ごしの良い啜り易い好みの麺で、戴いていて気分が良くなります（麺量：茹で前３００ｇで丁度腹一杯で、並盛２００ｇから大盛４００ｇ迄同一価格です）。 つけ汁は酸味とオイリー感と粘度が微アリな辛味の無い豚骨ベースに魚介を合せたスープに麹風味の弱い味噌をブレンドした魚介豚骨味噌味で、味噌の芳醇な香りがしないのでインパクト的には寂しさを感じてしまいます。 具はメンマ５・６本と賽の目切された肩ロース叉焼５・６個と海苔１枚と長葱と白胡麻と味玉半分がつけ汁に忍ばせてあります。 やはり、海苔はつけ汁に浸っていない方がパリパリ感が楽しめますね。 麺をつけ汁に浸して戴いてみると、麺の舌触りや喉ごしは楽しめますが、如何せんつけ汁に味噌の芳醇感が足らな過ぎるので残念な気持ちになってしまいました。 スープ割はブーメラン方式に豚骨スープが注がれ、味噌風味がほぼ無くなったスープ割を蓮華で美味しく戴きました。 店内は茹で湯から立ち込める湯気で入口のガラスが結露で覆い隠されていて熱気ムンムンでした。  卓上魚粉はこちら⇒ http://blog.livedoor.jp/d52001037/archives/8100826.html\n",
      "559 [ 0.  0.  1.] [  7.34940229e-04   7.82514066e-02   9.21013653e-01]\n",
      "コチラ系列は未食ですが、「神田ラーメン わいず」の隣に出店してくるとはかなり自信があるようですね。 近所まで来たので食べてみることに。 ２２日、１３：３５分到着。先客０。 「節骨らー麺」から食べようと券売機を見ると情報になかった「台湾まぜそば」を発見。 コレに変更して食券をニイサンに渡すと大盛or並盛＋追い飯がサービスとのこと。 表記のように答え暫し待機。 店内はマズマズ広く、ポップ等がチョット賑やかですが居心地良さげ。 店員はニイサンが３名居り、接客態度は問題なし。  待つこと８分ほどでお皿に乗せられ配膳。追い飯も同時配膳です。 王道的ビジュアルでなかなか旨そうですが、ニンニクは乗っていません。 しかし卓上にクラッシャーがあるので大丈夫。 具は台湾ミンチ、卵黄、刻み海苔、刻みニラ、刻みネギ、魚粉。  先ずはよ～くマゼマゼして麺に食らいつく。 やや甘めのピリ辛な味わいがメインで、ソコに卵黄のコクや魚粉の風味が楽しめます。 ネギやニラもシッカリ主張してきますが、やはり何かが足りません。 早速ニンニククラッシュ！ するとジャンク度が一気に上がり、タマリマセン。  麺は「カネジン食品」の平打ち風の中太ちぢれ。 茹で加減良好で、ムッチリとしたコシが楽しめます。 今まで食べた「台湾まぜそば」の中では細いタイプですが、食べごたえに不満は無く旨い。  卓上にはグッズがマズマズ充実しています。 辛さがもっと欲しいとオリジナルの辛味スパイスを振り掛けるとピリピリといい感じ。 魚粉を振り掛け風味をアップさせ、お酢を回し入れるとサッパリと良く合う。 その都度の変化を楽しみ食べ進め、麺を片付けた。 ライスを放り込み、追い飯もシッカリ楽しみ完食。  先客がいなかったのでチョットビビったが、かなり美味しく頂けた。 デフォメニューの方もそのうち食べてみたい。\n"
     ]
    }
   ],
   "source": [
    "# ランダムに１０個ほど予測結果を確認\n",
    "for i in np.random.randint(0,max_rows-learn_rows,10):\n",
    "    print(i,Y_test[i],predicted[i])\n",
    "    # ID化したデータを文字列に戻す\n",
    "    ss = str()\n",
    "    for xx in (X_test[i] * 0x1FFFFF).reshape(n).astype(int):\n",
    "        ixx = int(xx)\n",
    "        ss += (ixx.to_bytes((ixx.bit_length() + 7) // 8,'big')).decode(encoding='utf-8')\n",
    "\n",
    "    print(ss)\n",
    "\n",
    "\n"
   ]
  },
  {
   "cell_type": "code",
   "execution_count": 155,
   "metadata": {},
   "outputs": [
    {
     "name": "stdout",
     "output_type": "stream",
     "text": [
      "今日は４月５日でラー博を卒業すると言うのをコバトちゃんのレビューで知ったので、故郷宮城の味を卒業する前に食べようとかもめ食堂さんにお邪魔してみた。  気仙沼ラーメンは以前仕事で気仙沼に行ったときに食べたことが有り、素朴な味だが美味しかったので覚えてるんですよね。  向かいの新横浜ウインズで午前中のレースを終えてサクッとランチで訪問すると、なんとかもめ食堂さんは３０分の待ちと一番の人気ですね～当然最後尾に接続して待ちましょうかね。  ２０分ほど並んで待つとやっと券売機の前に到着し、潮味と醤油味で悩むも醤油好きなんで醤油にワンタン入りを選択して食券購入。すると間もなく食券回収と店内に入店と相成りました。  程なくして自分の気仙沼ラーメン醤油味が、店員さんの手によって届けられました。 恒例の記念撮影を済まして、まずはスープを一口。 穏やかな醤油味で魚介がほのかに感じる懐かしい味わいのスープですね。香り付けに秋刀魚の香味油を使っているとのことですが、これが気仙沼の特徴で旨さを引き立たせますよね。  麺は細めの縮れタイプで、茹で加減は適度で歯応え程よく旨いです。麺量は１４０ｇ位だろうか、ワンタンも付けたからお腹的には普通に満足出来ました。  具材はチャーシュー２枚にトッピングのエビワンタン３個・メンマ・なると・刻みネギの布陣です。本当は秋刀魚のツミレが入ってるものと思ってましたが、それは秋刀魚ラーメンの方だけなんですね。少しだけ残念でした。でもチャーシューやエビワンタンも美味しかったので良しとしましょうかね。  自分の故郷は宮城県仙台市なのですが、同じ宮城県でも気仙沼は仙台から遠くてなかなか行けません。なのでこの店が気仙沼でオープンしても食べに行けるなんて事はないだろうから今回食べれて良かったです。と言う事で故郷の味を堪能して本日のラー食が終了と相成りました。  さて、後半のレースも頑張らなくっちゃｗｗ  ご馳走様でした。\n"
     ]
    }
   ],
   "source": [
    "# ID化したデータを文字列に戻す\n",
    "ss = str()\n",
    "for xx in (X_test[672] * 0x1FFFFF).reshape(n).astype(int):\n",
    "#    print(type(int(xx)))\n",
    "    ixx = int(xx)\n",
    "    ss += (ixx.to_bytes((ixx.bit_length() + 7) // 8,'big')).decode(encoding='utf-8')\n",
    "\n",
    "print(ss)"
   ]
  },
  {
   "cell_type": "code",
   "execution_count": 113,
   "metadata": {},
   "outputs": [
    {
     "data": {
      "image/png": "[encoded data removed]",
      "text/plain": [
       "<matplotlib.figure.Figure at 0x7fcaa7b69240>"
      ]
     },
     "metadata": {},
     "output_type": "display_data"
    }
   ],
   "source": [
    "import os\n",
    "\n",
    "###\n",
    "# 5.学習の可視化\n",
    "###\n",
    "\n",
    "plt.rc('font', family='serif')\n",
    "fig = plt.figure()\n",
    "# 精度\n",
    "ax_acc = fig.add_subplot(111)\n",
    "ax_acc.plot(range(epochs), val_acc, label='acc', color='black')\n",
    "# 損失\n",
    "ax_loss = ax_acc.twinx()\n",
    "ax_loss.plot(range(epochs), val_loss, label='loss', color='gray')\n",
    "plt.xlabel('epochs')\n",
    "#file,ext = os.path.splitext(os.path.basename(__file__))\n",
    "#plt.savefig(file+'.eps')\n",
    "\n",
    "plt.show()"
   ]
  },
  {
   "cell_type": "code",
   "execution_count": null,
   "metadata": {
    "collapsed": true
   },
   "outputs": [],
   "source": []
  }
 ],
 "metadata": {
  "kernelspec": {
   "display_name": "Python 3",
   "language": "python",
   "name": "python3"
  },
  "language_info": {
   "codemirror_mode": {
    "name": "ipython",
    "version": 3
   },
   "file_extension": ".py",
   "mimetype": "text/x-python",
   "name": "python",
   "nbconvert_exporter": "python",
   "pygments_lexer": "ipython3",
   "version": "3.6.1"
  }
 },
 "nbformat": 4,
 "nbformat_minor": 2
}
