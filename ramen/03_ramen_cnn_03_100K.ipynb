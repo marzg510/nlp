{
 "cells": [
  {
   "cell_type": "code",
   "execution_count": 20,
   "metadata": {
    "scrolled": true
   },
   "outputs": [
    {
     "name": "stdout",
     "output_type": "stream",
     "text": [
      "start at 2018-02-08 08:06:21.637696\n",
      "initializing...\n",
      "max_rows=10000\n",
      "learn_rows=9000.0\n",
      "reading data..\n",
      "10000 rows read .. 2018-02-08 08:06:28.793102\n",
      "total 10000 rows read\n"
     ]
    },
    {
     "ename": "TypeError",
     "evalue": "'float' object cannot be interpreted as an integer",
     "output_type": "error",
     "traceback": [
      "\u001b[0;31m---------------------------------------------------------------------------\u001b[0m",
      "\u001b[0;31mTypeError\u001b[0m                                 Traceback (most recent call last)",
      "\u001b[0;32m<ipython-input-20-8c8bc70d27b9>\u001b[0m in \u001b[0;36m<module>\u001b[0;34m()\u001b[0m\n\u001b[1;32m     66\u001b[0m         \u001b[0mtest_start\u001b[0m \u001b[0;34m+=\u001b[0m \u001b[0;36m1\u001b[0m\u001b[0;34m\u001b[0m\u001b[0m\n\u001b[1;32m     67\u001b[0m \u001b[0;34m\u001b[0m\u001b[0m\n\u001b[0;32m---> 68\u001b[0;31m \u001b[0mX\u001b[0m\u001b[0;34m.\u001b[0m\u001b[0mresize\u001b[0m\u001b[0;34m(\u001b[0m\u001b[0mlearn_rows\u001b[0m\u001b[0;34m,\u001b[0m\u001b[0mrefcheck\u001b[0m\u001b[0;34m=\u001b[0m\u001b[0;32mFalse\u001b[0m\u001b[0;34m)\u001b[0m\u001b[0;34m\u001b[0m\u001b[0m\n\u001b[0m\u001b[1;32m     69\u001b[0m \u001b[0mY\u001b[0m\u001b[0;34m.\u001b[0m\u001b[0mresize\u001b[0m\u001b[0;34m(\u001b[0m\u001b[0mlearn_rows\u001b[0m\u001b[0;34m,\u001b[0m\u001b[0mrefcheck\u001b[0m\u001b[0;34m=\u001b[0m\u001b[0;32mFalse\u001b[0m\u001b[0;34m)\u001b[0m\u001b[0;34m\u001b[0m\u001b[0m\n\u001b[1;32m     70\u001b[0m \u001b[0mX_test\u001b[0m\u001b[0;34m.\u001b[0m\u001b[0mresize\u001b[0m\u001b[0;34m(\u001b[0m\u001b[0mlearn_rows\u001b[0m\u001b[0;34m)\u001b[0m\u001b[0;34m\u001b[0m\u001b[0m\n",
      "\u001b[0;31mTypeError\u001b[0m: 'float' object cannot be interpreted as an integer"
     ]
    }
   ],
   "source": [
    "import csv\n",
    "import numpy as np\n",
    "import keras\n",
    "import datetime\n",
    "\n",
    "print(\"start at %s\" % datetime.datetime.today())\n",
    "###\n",
    "# 1.データ準備\n",
    "###\n",
    "print(\"initializing...\")\n",
    "n = 8500              # 入力層の要素数(=データの最大文字数)\n",
    "k = 3                 # 出力層の要素数(いくつに分類するか)\n",
    "\n",
    "max_rows = 10000  # 読み取り行数最大\n",
    "learn_ratio = 0.9 # 読み取ったデータのうち学習に使う比率\n",
    "learn_rows = max_rows * learn_ratio # 学習に使うデータの行数\n",
    "test_rows = max_rows - learn_rows\n",
    "print(\"max_rows=%s\" % max_rows)\n",
    "print(\"learn_rows=%s\" % learn_rows)\n",
    "\n",
    "print(\"reading data..\")\n",
    "# numpy.appendは遅いので先にlistに取り込んでからnumpyに展開\n",
    "xlist=[]\n",
    "ylist=[]\n",
    "with open('reviews-ccnn-train-data04.txt', 'r') as f:\n",
    "    reader = csv.reader(f,delimiter = '\\t')\n",
    "#    header = next(reader)  # ヘッダーを読み飛ばしたい時\n",
    "\n",
    "    for i,row in enumerate(reader):\n",
    "#        print(i,row[0],row[1])          # 1行づつ取得できる\n",
    "        if (i+1) % 10000 == 0:\n",
    "            print(\"%s rows read .. %s\" % (i+1,datetime.datetime.today()))\n",
    "        x=[]\n",
    "        for c in row[1]:\n",
    "            x.append(float(np.int.from_bytes(c.encode('utf-8'),'big')))\n",
    "        xx = np.array(x)\n",
    "        xx.resize(n,refcheck=False)\n",
    "        xx = xx.astype('float32')\n",
    "        y = float(row[0])\n",
    "        xlist.append(xx)\n",
    "        ylist.append(y)\n",
    "        if i > max_rows:\n",
    "            break\n",
    "\n",
    "print(\"total %s rows read\" % (i-1) )\n",
    "\n",
    "X=np.zeros((i,n),float) # 学習用入力データの行列\n",
    "Y=np.zeros((i,k),float)  # 学習用出力データの行列\n",
    "X_test=np.zeros((i,n),float) # 評価用入力データの行列\n",
    "Y_test=np.zeros((i,k),float) # 評価用出力データの行列\n",
    "train_start = 0\n",
    "test_start = 0\n",
    "for i in range(len(xlist)):\n",
    "    x = xlist[i]\n",
    "    y = ylist[i]\n",
    "#    n_sub_samples = len(x.shape[0]\n",
    "    # 上位learn_rows分を学習データ　それ以外を評価データに使う\n",
    "    # ホントはシャッフルしたほうがいい\n",
    "    if i < learn_rows:\n",
    "        X[start:start+1,:] = x\n",
    "        Y[start:start+1,:] = keras.utils.np_utils.to_categorical(y, k)\n",
    "        train_start += 1\n",
    "    else:\n",
    "        X_test[start:start+1,:] = x\n",
    "        Y_test[start:start+1,:] = keras.utils.np_utils.to_categorical(y, k)\n",
    "        test_start += 1\n",
    "\n",
    "X.resize(learn_rows,refcheck=False)\n",
    "Y.resize(learn_rows,refcheck=False)\n",
    "X_test.resize(learn_rows)\n",
    "Y_test.resize(learn_rows)\n",
    "\n",
    "# Xを３次元の行列に変換。この意味はわからない・・Kerasの都合か。\n",
    "X=X.reshape(X.shape[0],n,1)\n",
    "X_test=X_test.reshape(X_test.shape[0],n,1)\n",
    "# 正規化\n",
    "X /= 0x1FFFFF\n",
    "X_test /= 0x1FFFFF\n",
    "\n",
    "print(\"initialized at %s\" % datetime.datetime.today())\n"
   ]
  },
  {
   "cell_type": "code",
   "execution_count": 15,
   "metadata": {},
   "outputs": [
    {
     "data": {
      "text/plain": [
       "(10001, 8500, 1)"
      ]
     },
     "execution_count": 15,
     "metadata": {},
     "output_type": "execute_result"
    }
   ],
   "source": [
    "# 学習データの件数確認\n",
    "X.shape"
   ]
  },
  {
   "cell_type": "code",
   "execution_count": null,
   "metadata": {},
   "outputs": [],
   "source": [
    "from keras.models import Sequential\n",
    "from keras.layers import Dense, Activation\n",
    "from keras.optimizers import Adadelta\n",
    "from sklearn import datasets\n",
    "from sklearn.model_selection import train_test_split\n",
    "import matplotlib.pyplot as plt\n",
    "from keras.layers.core import Dropout\n",
    "from keras.initializers import TruncatedNormal\n",
    "from keras.layers import Flatten, Conv1D, MaxPooling1D\n",
    "\n",
    "###\n",
    "# 2.モデル設定\n",
    "###\n",
    "print(\"building model start at %s\" % datetime.datetime.today())\n",
    "kernel_size = (3)\n",
    "model = Sequential()\n",
    "# 入力層\n",
    "model.add(Conv1D(10, kernel_size=kernel_size,\n",
    "                 activation='relu',\n",
    "                 input_shape=(n,1)\n",
    "                 )\n",
    "        )\n",
    "# 畳み込み層\n",
    "model.add(Conv1D(20, kernel_size, activation='relu'))\n",
    "# プーリング層\n",
    "model.add(MaxPooling1D(pool_size=(2)))\n",
    "model.add(Dropout(0.25))\n",
    "model.add(Flatten())\n",
    "model.add(Dense(10, activation='relu'))\n",
    "model.add(Dropout(0.5))\n",
    "# 出力層\n",
    "model.add(Dense(k, activation='softmax'))\n",
    "\n",
    "# 確率的勾配降下法\n",
    "model.compile(loss='categorical_crossentropy', optimizer=Adadelta(), metrics=['accuracy'])\n",
    "\n",
    "print(\"model built at %s\" % datetime.datetime.today())\n"
   ]
  },
  {
   "cell_type": "code",
   "execution_count": null,
   "metadata": {},
   "outputs": [],
   "source": [
    "print(\"learning model start at %s\" % datetime.datetime.today())\n",
    "\n",
    "###\n",
    "# 3.モデル学習\n",
    "###\n",
    "epochs = 12     # 学習繰り返し数\n",
    "batch_size = 120\n",
    "hist = model.fit(X, Y, epochs=epochs, batch_size=batch_size,)\n",
    "#               validation_data=(X_validation ,Y_validation))\n",
    "\n",
    "print(\"learned at %s\" % datetime.datetime.today())\n"
   ]
  },
  {
   "cell_type": "code",
   "execution_count": null,
   "metadata": {},
   "outputs": [],
   "source": [
    "###\n",
    "# 4-1.評価\n",
    "###\n",
    "loss_and_metrics = model.evaluate(X_test, Y_test)\n",
    "print()\n",
    "print(loss_and_metrics)\n",
    "# 可視化\n",
    "val_loss = hist.history['loss']\n",
    "val_acc = hist.history['acc']\n",
    "print(val_loss)\n",
    "print(val_acc)"
   ]
  },
  {
   "cell_type": "code",
   "execution_count": null,
   "metadata": {
    "collapsed": true
   },
   "outputs": [],
   "source": [
    "###\n",
    "# 4-2.予測\n",
    "###\n",
    "\n",
    "predicted = model.predict(X_test)\n"
   ]
  },
  {
   "cell_type": "code",
   "execution_count": null,
   "metadata": {},
   "outputs": [],
   "source": [
    "# ランダムに１０個ほど予測結果を確認\n",
    "for i in np.random.randint(0,max_rows-learn_rows,10):\n",
    "    print(i,Y_test[i],predicted[i])\n",
    "    # ID化したデータを文字列に戻す\n",
    "    ss = str()\n",
    "    for xx in (X_test[i] * 0x1FFFFF).reshape(n).astype(int):\n",
    "        ixx = int(xx)\n",
    "        ss += (ixx.to_bytes((ixx.bit_length() + 7) // 8,'big')).decode(encoding='utf-8')\n",
    "\n",
    "    print(ss)\n",
    "\n",
    "\n"
   ]
  },
  {
   "cell_type": "code",
   "execution_count": null,
   "metadata": {},
   "outputs": [],
   "source": [
    "import os\n",
    "\n",
    "###\n",
    "# 5.学習の可視化\n",
    "###\n",
    "\n",
    "plt.rc('font', family='serif')\n",
    "fig = plt.figure()\n",
    "# 精度\n",
    "ax_acc = fig.add_subplot(111)\n",
    "ax_acc.plot(range(epochs), val_acc, label='acc', color='black')\n",
    "# 損失\n",
    "ax_loss = ax_acc.twinx()\n",
    "ax_loss.plot(range(epochs), val_loss, label='loss', color='gray')\n",
    "plt.xlabel('epochs')\n",
    "#file,ext = os.path.splitext(os.path.basename(__file__))\n",
    "#plt.savefig(file+'.eps')\n",
    "\n",
    "plt.show()"
   ]
  },
  {
   "cell_type": "code",
   "execution_count": null,
   "metadata": {
    "collapsed": true
   },
   "outputs": [],
   "source": []
  }
 ],
 "metadata": {
  "kernelspec": {
   "display_name": "Python 3",
   "language": "python",
   "name": "python3"
  },
  "language_info": {
   "codemirror_mode": {
    "name": "ipython",
    "version": 3
   },
   "file_extension": ".py",
   "mimetype": "text/x-python",
   "name": "python",
   "nbconvert_exporter": "python",
   "pygments_lexer": "ipython3",
   "version": "3.6.1"
  }
 },
 "nbformat": 4,
 "nbformat_minor": 2
}
