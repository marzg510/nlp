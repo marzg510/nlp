{
 "cells": [
  {
   "cell_type": "code",
   "execution_count": 14,
   "metadata": {
    "collapsed": true
   },
   "outputs": [],
   "source": [
    "## AND gate for keras\n",
    "\n",
    "# 層を一つ増やしてみる\n",
    "# より少ないepochで正解率が上がるのではないか。\n",
    "\n",
    "X=[[0,0],[0,1],[1,0],[1,1]]\n",
    "Y=[[1,0],[1,0],[1,0],[0,1]]  # [1,0]=0,[0,1]=1\n",
    "\n",
    "X_test=X\n",
    "Y_test=Y\n",
    "\n"
   ]
  },
  {
   "cell_type": "code",
   "execution_count": 15,
   "metadata": {},
   "outputs": [],
   "source": [
    "import keras\n",
    "from keras.models import Sequential\n",
    "\n",
    "model = Sequential()\n"
   ]
  },
  {
   "cell_type": "code",
   "execution_count": 16,
   "metadata": {
    "collapsed": true
   },
   "outputs": [],
   "source": [
    "from keras.layers import Dense, Activation\n",
    "# 入力層\n",
    "#model.add(Dense(input_dim=2, units=2))\n",
    "# https://keras.io/ja/layers/core/\n",
    "# 通常の全結合ニューラルネットワークレイヤー．\n",
    "# units：正の整数，出力空間の次元数\n",
    "# input_dim:入力データの次元数\n",
    "layer = Dense(units=2,input_dim=2, activation='sigmoid')\n",
    "model.add(layer)\n"
   ]
  },
  {
   "cell_type": "code",
   "execution_count": 17,
   "metadata": {
    "collapsed": true
   },
   "outputs": [],
   "source": [
    "layer = Dense(units=2, activation='sigmoid')\n",
    "model.add(layer)\n"
   ]
  },
  {
   "cell_type": "code",
   "execution_count": 18,
   "metadata": {
    "collapsed": true
   },
   "outputs": [],
   "source": [
    "from keras.optimizers import SGD\n",
    "\n",
    "# 確率的勾配降下法\n",
    "model.compile(loss='binary_crossentropy', optimizer=SGD(lr=0.1), metrics=['accuracy']) # lr=学習率(learning rate)\n"
   ]
  },
  {
   "cell_type": "code",
   "execution_count": 19,
   "metadata": {
    "collapsed": true
   },
   "outputs": [],
   "source": [
    "###\n",
    "# 3.モデル学習\n",
    "###\n",
    "epochs = 300     # 学習繰り返し数\n",
    "batch_size = 1\n",
    "hist = model.fit(X, Y, epochs=epochs, batch_size=batch_size,verbose=0)\n"
   ]
  },
  {
   "cell_type": "code",
   "execution_count": 20,
   "metadata": {},
   "outputs": [
    {
     "name": "stdout",
     "output_type": "stream",
     "text": [
      "4/4 [==============================] - 0s\n",
      "\n",
      "[0.39952367544174194, 0.75]\n"
     ]
    }
   ],
   "source": [
    "###\n",
    "# 4-1.評価\n",
    "###\n",
    "loss_and_metrics = model.evaluate(X_test, Y_test)\n",
    "print()\n",
    "print(loss_and_metrics)\n",
    "# 可視化\n",
    "val_loss = hist.history['loss']\n",
    "val_acc = hist.history['acc']\n"
   ]
  },
  {
   "cell_type": "code",
   "execution_count": 21,
   "metadata": {},
   "outputs": [
    {
     "data": {
      "text/plain": [
       "[0.39952367544174194, 0.75]"
      ]
     },
     "execution_count": 21,
     "metadata": {},
     "output_type": "execute_result"
    }
   ],
   "source": [
    "loss_and_metrics"
   ]
  },
  {
   "cell_type": "code",
   "execution_count": 22,
   "metadata": {},
   "outputs": [
    {
     "data": {
      "image/png": "[encoded data removed]",
      "text/plain": [
       "<matplotlib.figure.Figure at 0x7f8d5dfa08d0>"
      ]
     },
     "metadata": {},
     "output_type": "display_data"
    }
   ],
   "source": [
    "import os\n",
    "import matplotlib.pyplot as plt\n",
    "\n",
    "###\n",
    "# 5.学習の可視化\n",
    "###\n",
    "\n",
    "plt.rc('font', family='serif')\n",
    "fig = plt.figure()\n",
    "# 精度\n",
    "ax_acc = fig.add_subplot(111)\n",
    "ax_acc.plot(range(epochs), val_acc, label='acc', color='black')\n",
    "# 損失\n",
    "ax_loss = ax_acc.twinx()\n",
    "ax_loss.plot(range(epochs), val_loss, label='loss', color='gray')\n",
    "plt.xlabel('epochs')\n",
    "\n",
    "plt.show()"
   ]
  },
  {
   "cell_type": "code",
   "execution_count": 23,
   "metadata": {
    "collapsed": true
   },
   "outputs": [],
   "source": [
    "###\n",
    "# 4-2.予測\n",
    "###\n",
    "\n",
    "predicted = model.predict(X_test)\n"
   ]
  },
  {
   "cell_type": "code",
   "execution_count": 24,
   "metadata": {},
   "outputs": [
    {
     "data": {
      "text/plain": [
       "[[0, 0], [0, 1], [1, 0], [1, 1]]"
      ]
     },
     "execution_count": 24,
     "metadata": {},
     "output_type": "execute_result"
    }
   ],
   "source": [
    "X_test"
   ]
  },
  {
   "cell_type": "code",
   "execution_count": 25,
   "metadata": {},
   "outputs": [
    {
     "data": {
      "text/plain": [
       "array([[ 0.91225135,  0.09738583],\n",
       "       [ 0.74321204,  0.27142757],\n",
       "       [ 0.821145  ,  0.16867614],\n",
       "       [ 0.62506133,  0.35855862]], dtype=float32)"
      ]
     },
     "execution_count": 25,
     "metadata": {},
     "output_type": "execute_result"
    }
   ],
   "source": [
    "predicted"
   ]
  },
  {
   "cell_type": "code",
   "execution_count": 26,
   "metadata": {
    "collapsed": true
   },
   "outputs": [],
   "source": [
    "# 結果：上がらない・・・\n",
    "# やるたびに変わるのはなぜだろう"
   ]
  }
 ],
 "metadata": {
  "kernelspec": {
   "display_name": "Python 3",
   "language": "python",
   "name": "python3"
  },
  "language_info": {
   "codemirror_mode": {
    "name": "ipython",
    "version": 3
   },
   "file_extension": ".py",
   "mimetype": "text/x-python",
   "name": "python",
   "nbconvert_exporter": "python",
   "pygments_lexer": "ipython3",
   "version": "3.6.1"
  }
 },
 "nbformat": 4,
 "nbformat_minor": 2
}
