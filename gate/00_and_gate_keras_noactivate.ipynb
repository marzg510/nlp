{
 "cells": [
  {
   "cell_type": "code",
   "execution_count": 1,
   "metadata": {
    "collapsed": true
   },
   "outputs": [],
   "source": [
    "## AND gate for keras\n",
    "\n",
    "#import numpy as np\n",
    "#from keras.layers import Dense, Activation\n",
    "#from keras.optimizers import Adadelta\n",
    "\n",
    "X=[[0,0],[0,1],[1,0],[1,1]]\n",
    "Y=[[1,0],[1,0],[1,0],[0,1]]  # [1,0]=0,[0,1]=1\n",
    "\n",
    "X_test=X\n",
    "Y_test=Y\n",
    "\n"
   ]
  },
  {
   "cell_type": "code",
   "execution_count": 2,
   "metadata": {},
   "outputs": [
    {
     "name": "stderr",
     "output_type": "stream",
     "text": [
      "Using TensorFlow backend.\n"
     ]
    }
   ],
   "source": [
    "import keras\n",
    "from keras.models import Sequential\n",
    "\n",
    "model = Sequential()\n"
   ]
  },
  {
   "cell_type": "code",
   "execution_count": 3,
   "metadata": {
    "collapsed": true
   },
   "outputs": [],
   "source": [
    "from keras.layers import Dense, Activation\n",
    "# 入力層\n",
    "#model.add(Dense(input_dim=2, units=2))\n",
    "# https://keras.io/ja/layers/core/\n",
    "# 通常の全結合ニューラルネットワークレイヤー．\n",
    "# units：正の整数，出力空間の次元数\n",
    "# input_dim:入力データの次元数\n",
    "layer = Dense(units=2,input_dim=2, activation='sigmoid')\n",
    "#sigmoid\n",
    "#softmax\n",
    "#relu\n",
    "model.add(layer)\n"
   ]
  },
  {
   "cell_type": "code",
   "execution_count": 4,
   "metadata": {
    "collapsed": true
   },
   "outputs": [],
   "source": [
    "from keras.optimizers import SGD\n",
    "\n",
    "# 確率的勾配降下法\n",
    "model.compile(loss='binary_crossentropy', optimizer=SGD(lr=0.1), metrics=['accuracy']) # lr=学習率(learning rate)\n"
   ]
  },
  {
   "cell_type": "code",
   "execution_count": 5,
   "metadata": {
    "collapsed": true
   },
   "outputs": [],
   "source": [
    "###\n",
    "# 3.モデル学習\n",
    "###\n",
    "epochs = 100     # 学習繰り返し数\n",
    "batch_size = 1\n",
    "hist = model.fit(X, Y, epochs=epochs, batch_size=batch_size,verbose=0)\n"
   ]
  },
  {
   "cell_type": "code",
   "execution_count": 6,
   "metadata": {},
   "outputs": [
    {
     "name": "stdout",
     "output_type": "stream",
     "text": [
      "4/4 [==============================] - 0s\n",
      "\n",
      "[8.0590476989746094, 0.25]\n"
     ]
    }
   ],
   "source": [
    "###\n",
    "# 4-1.評価\n",
    "###\n",
    "loss_and_metrics = model.evaluate(X_test, Y_test)\n",
    "print()\n",
    "print(loss_and_metrics)\n",
    "# 可視化\n",
    "val_loss = hist.history['loss']\n",
    "val_acc = hist.history['acc']\n"
   ]
  },
  {
   "cell_type": "code",
   "execution_count": 7,
   "metadata": {},
   "outputs": [
    {
     "data": {
      "text/plain": [
       "[8.0590476989746094, 0.25]"
      ]
     },
     "execution_count": 7,
     "metadata": {},
     "output_type": "execute_result"
    }
   ],
   "source": [
    "loss_and_metrics"
   ]
  },
  {
   "cell_type": "code",
   "execution_count": 8,
   "metadata": {},
   "outputs": [
    {
     "data": {
      "image/png": "[encoded data removed]",
      "text/plain": [
       "<matplotlib.figure.Figure at 0x7fc31b4c7f60>"
      ]
     },
     "metadata": {},
     "output_type": "display_data"
    }
   ],
   "source": [
    "import os\n",
    "import matplotlib.pyplot as plt\n",
    "\n",
    "###\n",
    "# 5.学習の可視化\n",
    "###\n",
    "\n",
    "plt.rc('font', family='serif')\n",
    "fig = plt.figure()\n",
    "# 精度\n",
    "ax_acc = fig.add_subplot(111)\n",
    "ax_acc.plot(range(epochs), val_acc, label='acc', color='black')\n",
    "# 損失\n",
    "ax_loss = ax_acc.twinx()\n",
    "ax_loss.plot(range(epochs), val_loss, label='loss', color='gray')\n",
    "plt.xlabel('epochs')\n",
    "\n",
    "plt.show()"
   ]
  },
  {
   "cell_type": "code",
   "execution_count": 9,
   "metadata": {
    "collapsed": true
   },
   "outputs": [],
   "source": [
    "###\n",
    "# 4-2.予測\n",
    "###\n",
    "\n",
    "predicted = model.predict(X_test)\n"
   ]
  },
  {
   "cell_type": "code",
   "execution_count": 10,
   "metadata": {},
   "outputs": [
    {
     "data": {
      "text/plain": [
       "[[0, 0], [0, 1], [1, 0], [1, 1]]"
      ]
     },
     "execution_count": 10,
     "metadata": {},
     "output_type": "execute_result"
    }
   ],
   "source": [
    "X_test"
   ]
  },
  {
   "cell_type": "code",
   "execution_count": 11,
   "metadata": {},
   "outputs": [
    {
     "data": {
      "text/plain": [
       "array([[ 0.        , -0.1963516 ],\n",
       "       [-1.00893092, -0.0272893 ],\n",
       "       [-0.56654799, -0.83538204],\n",
       "       [-1.57547891, -0.66631973]], dtype=float32)"
      ]
     },
     "execution_count": 11,
     "metadata": {},
     "output_type": "execute_result"
    }
   ],
   "source": [
    "predicted"
   ]
  },
  {
   "cell_type": "code",
   "execution_count": null,
   "metadata": {
    "collapsed": true
   },
   "outputs": [],
   "source": []
  }
 ],
 "metadata": {
  "kernelspec": {
   "display_name": "Python 3",
   "language": "python",
   "name": "python3"
  },
  "language_info": {
   "codemirror_mode": {
    "name": "ipython",
    "version": 3
   },
   "file_extension": ".py",
   "mimetype": "text/x-python",
   "name": "python",
   "nbconvert_exporter": "python",
   "pygments_lexer": "ipython3",
   "version": "3.6.1"
  }
 },
 "nbformat": 4,
 "nbformat_minor": 2
}
