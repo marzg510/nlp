{
 "cells": [
  {
   "cell_type": "code",
   "execution_count": 28,
   "metadata": {
    "collapsed": true
   },
   "outputs": [],
   "source": [
    "## AND gate for keras\n",
    "\n",
    "#import numpy as np\n",
    "#from keras.layers import Dense, Activation\n",
    "#from keras.optimizers import Adadelta\n",
    "\n",
    "X=[[0,0],[0,1],[1,0],[1,1]]\n",
    "Y=[[1,0],[1,0],[1,0],[0,1]]  # [1,0]=0,[0,1]=1\n",
    "\n",
    "X_test=X\n",
    "Y_test=Y\n",
    "\n"
   ]
  },
  {
   "cell_type": "code",
   "execution_count": 29,
   "metadata": {},
   "outputs": [],
   "source": [
    "import keras\n",
    "from keras.models import Sequential\n",
    "\n",
    "model = Sequential()\n"
   ]
  },
  {
   "cell_type": "code",
   "execution_count": 30,
   "metadata": {},
   "outputs": [],
   "source": [
    "from keras.layers import Dense\n",
    "# 入力層\n",
    "#model.add(Dense(input_dim=2, units=2))\n",
    "# https://keras.io/ja/layers/core/\n",
    "# 通常の全結合ニューラルネットワークレイヤー．\n",
    "# units：正の整数，出力空間の次元数\n",
    "# input_dim:入力データの次元数\n",
    "layer = Dense(units=2,input_dim=2)\n",
    "model.add(layer)\n",
    "\n"
   ]
  },
  {
   "cell_type": "code",
   "execution_count": 31,
   "metadata": {
    "collapsed": true
   },
   "outputs": [],
   "source": [
    "from keras.layers import Activation\n",
    "activation=Activation('sigmoid')\n",
    "model.add(activation)\n"
   ]
  },
  {
   "cell_type": "code",
   "execution_count": 32,
   "metadata": {
    "collapsed": true
   },
   "outputs": [],
   "source": [
    "from keras.optimizers import SGD\n",
    "\n",
    "# 確率的勾配降下法\n",
    "model.compile(loss='binary_crossentropy', optimizer=SGD(lr=0.1), metrics=['accuracy']) # lr=学習率(learning rate)\n"
   ]
  },
  {
   "cell_type": "code",
   "execution_count": 33,
   "metadata": {
    "collapsed": true
   },
   "outputs": [],
   "source": [
    "###\n",
    "# 3.モデル学習\n",
    "###\n",
    "epochs = 300     # 学習繰り返し数\n",
    "batch_size = 1\n",
    "hist = model.fit(X, Y, epochs=epochs, batch_size=batch_size,verbose=0)\n"
   ]
  },
  {
   "cell_type": "code",
   "execution_count": 34,
   "metadata": {},
   "outputs": [
    {
     "name": "stdout",
     "output_type": "stream",
     "text": [
      "4/4 [==============================] - 0s\n",
      "\n",
      "[0.20303627848625183, 1.0]\n"
     ]
    }
   ],
   "source": [
    "###\n",
    "# 4-1.評価\n",
    "###\n",
    "loss_and_metrics = model.evaluate(X_test, Y_test)\n",
    "print()\n",
    "print(loss_and_metrics)\n",
    "# 可視化\n",
    "val_loss = hist.history['loss']\n",
    "val_acc = hist.history['acc']\n"
   ]
  },
  {
   "cell_type": "code",
   "execution_count": 35,
   "metadata": {},
   "outputs": [
    {
     "data": {
      "text/plain": [
       "[0.20303627848625183, 1.0]"
      ]
     },
     "execution_count": 35,
     "metadata": {},
     "output_type": "execute_result"
    }
   ],
   "source": [
    "loss_and_metrics"
   ]
  },
  {
   "cell_type": "code",
   "execution_count": 36,
   "metadata": {},
   "outputs": [
    {
     "data": {
      "image/png": "[encoded data removed]",
      "text/plain": [
       "<matplotlib.figure.Figure at 0x7f7f04af6d30>"
      ]
     },
     "metadata": {},
     "output_type": "display_data"
    }
   ],
   "source": [
    "import os\n",
    "import matplotlib.pyplot as plt\n",
    "\n",
    "###\n",
    "# 5.学習の可視化\n",
    "###\n",
    "\n",
    "plt.rc('font', family='serif')\n",
    "fig = plt.figure()\n",
    "# 精度\n",
    "ax_acc = fig.add_subplot(111)\n",
    "ax_acc.plot(range(epochs), val_acc, label='acc', color='black')\n",
    "# 損失\n",
    "ax_loss = ax_acc.twinx()\n",
    "ax_loss.plot(range(epochs), val_loss, label='loss', color='gray')\n",
    "plt.xlabel('epochs')\n",
    "\n",
    "plt.show()"
   ]
  },
  {
   "cell_type": "code",
   "execution_count": 37,
   "metadata": {
    "collapsed": true
   },
   "outputs": [],
   "source": [
    "###\n",
    "# 4-2.予測\n",
    "###\n",
    "\n",
    "predicted = model.predict(X_test)\n"
   ]
  },
  {
   "cell_type": "code",
   "execution_count": 38,
   "metadata": {},
   "outputs": [
    {
     "data": {
      "text/plain": [
       "[[0, 0], [0, 1], [1, 0], [1, 1]]"
      ]
     },
     "execution_count": 38,
     "metadata": {},
     "output_type": "execute_result"
    }
   ],
   "source": [
    "X_test"
   ]
  },
  {
   "cell_type": "code",
   "execution_count": 39,
   "metadata": {},
   "outputs": [
    {
     "data": {
      "text/plain": [
       "array([[ 0.97646946,  0.02597131],\n",
       "       [ 0.80680358,  0.20507886],\n",
       "       [ 0.79843575,  0.19960091],\n",
       "       [ 0.28501385,  0.70698994]], dtype=float32)"
      ]
     },
     "execution_count": 39,
     "metadata": {},
     "output_type": "execute_result"
    }
   ],
   "source": [
    "predicted"
   ]
  },
  {
   "cell_type": "code",
   "execution_count": null,
   "metadata": {
    "collapsed": true
   },
   "outputs": [],
   "source": []
  }
 ],
 "metadata": {
  "kernelspec": {
   "display_name": "Python 3",
   "language": "python",
   "name": "python3"
  },
  "language_info": {
   "codemirror_mode": {
    "name": "ipython",
    "version": 3
   },
   "file_extension": ".py",
   "mimetype": "text/x-python",
   "name": "python",
   "nbconvert_exporter": "python",
   "pygments_lexer": "ipython3",
   "version": "3.6.1"
  }
 },
 "nbformat": 4,
 "nbformat_minor": 2
}
